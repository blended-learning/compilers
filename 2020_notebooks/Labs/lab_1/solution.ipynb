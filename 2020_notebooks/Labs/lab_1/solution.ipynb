{
 "cells": [
  {
   "cell_type": "markdown",
   "metadata": {
    "cell_id": "c46616c2f8b04aefac61e38c8ec26fad",
    "editable": false
   },
   "source": [
    "# Basics of Kotlin"
   ]
  },
  {
   "cell_type": "markdown",
   "metadata": {
    "cell_id": "22340fb546124502b4e2b8bf61b490f5",
    "lambdacheck": {
     "layout": {
      "column_offset": 0,
      "column_span": 12
     },
     "workunit": {
      "id": "22340fb546124502b4e2b8bf61b490f5",
      "type": "title"
     }
    }
   },
   "source": [
    "## Work Unit 1"
   ]
  },
  {
   "cell_type": "markdown",
   "metadata": {
    "cell_id": "11c43c6e1a8c42ac96e326e27c7b1793",
    "editable": false,
    "lambdacheck": {
     "layout": {
      "column_offset": 0,
      "column_span": 6,
      "row_span": 2
     },
     "workunit": {
      "id": "22340fb546124502b4e2b8bf61b490f5",
      "type": "text"
     }
    }
   },
   "source": [
    "Define a `val` called `courseCode`, and assign it to a string \"CSCI 4020U\"."
   ]
  },
  {
   "cell_type": "code",
   "execution_count": null,
   "metadata": {
    "cell_id": "4a7f9ac32a584787846ae5adf4b614ad",
    "lambdacheck": {
     "layout": {
      "column_offset": 6,
      "column_span": 6
     },
     "workunit": {
      "id": "22340fb546124502b4e2b8bf61b490f5",
      "type": "student-solution"
     }
    }
   },
   "outputs": [],
   "source": [
    "val courseCode = \"CSCI 4020U\""
   ]
  },
  {
   "cell_type": "code",
   "execution_count": null,
   "metadata": {
    "cell_id": "ceda93137b7744c0bad29d389a52a3c0",
    "editable": false,
    "lambdacheck": {
     "check": {
      "_check_id": "ceda93137b7744c0bad29d389a52a3c0",
      "_immediate": true,
      "_name": "",
      "display.text/plain": true,
      "output.stderr": true,
      "output.stdout": true,
      "result.text/plain": true
     },
     "outputs": [
      {
       "name": "stdout",
       "output_type": "stream",
       "text": "coursCode = \"CSCI 4020U\""
      }
     ]
    }
   },
   "outputs": [],
   "source": [
    "print(\"coursCode = \\\"$courseCode\\\"\")"
   ]
  },
  {
   "cell_type": "code",
   "execution_count": null,
   "metadata": {
    "cell_id": "e113946aa4aa49cf9f867475c0082f20",
    "editable": false,
    "lambdacheck": {}
   },
   "outputs": [],
   "source": [
    "// This should trigger an error.\n",
    "courseCode = courseCode + \" 2021\""
   ]
  },
  {
   "cell_type": "markdown",
   "metadata": {
    "cell_id": "2af98c021a4142618b57afda3ac1e2e6",
    "lambdacheck": {
     "layout": {
      "column_offset": 0,
      "column_span": 12
     },
     "workunit": {
      "id": "2af98c021a4142618b57afda3ac1e2e6",
      "type": "title"
     }
    }
   },
   "source": [
    "## Work Unit 2"
   ]
  },
  {
   "cell_type": "markdown",
   "metadata": {
    "cell_id": "87a238390a634b2d91e3d6bbd359474d",
    "editable": false,
    "lambdacheck": {
     "layout": {
      "column_offset": 0,
      "column_span": 6,
      "row_span": 2
     },
     "workunit": {
      "id": "2af98c021a4142618b57afda3ac1e2e6",
      "type": "text"
     }
    }
   },
   "source": [
    "Define a `var` called `course`, and assign it to \"CSCI 4020U\"."
   ]
  },
  {
   "cell_type": "code",
   "execution_count": null,
   "metadata": {
    "cell_id": "178f44e827b6463b9c13063c08e55007",
    "lambdacheck": {
     "layout": {
      "column_offset": 6,
      "column_span": 6
     },
     "workunit": {
      "id": "2af98c021a4142618b57afda3ac1e2e6",
      "type": "student-solution"
     }
    }
   },
   "outputs": [],
   "source": [
    "var course = \"CSCI 4020U\""
   ]
  },
  {
   "cell_type": "code",
   "execution_count": null,
   "metadata": {
    "cell_id": "79def1d1f67d4f4084f0db5ceb1c0adc",
    "editable": false,
    "lambdacheck": {
     "check": {
      "_check_id": "79def1d1f67d4f4084f0db5ceb1c0adc",
      "_immediate": true,
      "_name": "",
      "display.text/plain": true,
      "output.stderr": true,
      "output.stdout": true,
      "result.text/plain": true
     },
     "outputs": [
      {
       "name": "stdout",
       "output_type": "stream",
       "text": "course = \"CSCI 4020U\"\n"
      }
     ]
    }
   },
   "outputs": [],
   "source": [
    "println(\"course = \\\"$course\\\"\")"
   ]
  },
  {
   "cell_type": "code",
   "execution_count": null,
   "metadata": {
    "cell_id": "543d9a399a254f0589fa4f97bbf40398",
    "editable": false,
    "lambdacheck": {
     "check": {
      "_check_id": "543d9a399a254f0589fa4f97bbf40398",
      "_immediate": true,
      "_name": "",
      "display.text/plain": true,
      "output.stderr": true,
      "output.stdout": true,
      "result.text/plain": true
     },
     "outputs": [
      {
       "name": "stdout",
       "output_type": "stream",
       "text": "course = \"CSCI 4020U 2020\"\n"
      }
     ]
    }
   },
   "outputs": [],
   "source": [
    "// Unlike courseCode, we can update course to be a different value.\n",
    "course = course + \" 2020\"\n",
    "println(\"course = \\\"$course\\\"\")"
   ]
  },
  {
   "cell_type": "markdown",
   "metadata": {
    "cell_id": "3b864a29b4e8428f86ce306e08905781",
    "lambdacheck": {
     "layout": {
      "column_offset": 0,
      "column_span": 12
     },
     "workunit": {
      "id": "3b864a29b4e8428f86ce306e08905781",
      "type": "title"
     }
    }
   },
   "source": [
    "## Work Unit 3: loops"
   ]
  },
  {
   "cell_type": "markdown",
   "metadata": {
    "cell_id": "71d4aad063d94464824dc7de80ad82c4",
    "editable": false,
    "lambdacheck": {
     "layout": {
      "column_offset": 0,
      "column_span": 6,
      "row_span": 2
     },
     "workunit": {
      "id": "3b864a29b4e8428f86ce306e08905781",
      "type": "text"
     }
    }
   },
   "source": [
    "Get yourself familiar with for-loops.\n",
    "\n",
    "https://kotlinlang.org/docs/reference/control-flow.html#for-loops"
   ]
  },
  {
   "cell_type": "code",
   "execution_count": null,
   "metadata": {
    "cell_id": "2474257e43da4ed48fc781cba89bb741",
    "lambdacheck": {
     "check": {
      "_check_id": "2474257e43da4ed48fc781cba89bb741",
      "_immediate": true,
      "_name": "",
      "display.text/plain": true,
      "output.stderr": true,
      "output.stdout": true,
      "result.text/plain": true
     },
     "layout": {
      "column_offset": 6,
      "column_span": 6
     },
     "outputs": [],
     "workunit": {
      "id": "3b864a29b4e8428f86ce306e08905781",
      "type": "student-solution"
     }
    }
   },
   "outputs": [],
   "source": [
    "fun runLoop(start: Int, end: Int) {\n",
    "    for(i in start .. end) {\n",
    "        println(\"i = $i\")\n",
    "    }\n",
    "}"
   ]
  },
  {
   "cell_type": "code",
   "execution_count": null,
   "metadata": {
    "cell_id": "c0aad0aa9fc3479d869fb0d104176e8b",
    "editable": false,
    "lambdacheck": {
     "check": {
      "_check_id": "c0aad0aa9fc3479d869fb0d104176e8b",
      "_immediate": true,
      "_name": "",
      "display.text/plain": true,
      "output.stderr": true,
      "output.stdout": true,
      "result.text/plain": true
     },
     "outputs": [
      {
       "name": "stdout",
       "output_type": "stream",
       "text": "i = -3\ni = -2\ni = -1\ni = 0\ni = 1\ni = 2\ni = 3\n"
      }
     ]
    }
   },
   "outputs": [],
   "source": [
    "runLoop(-3, 3)"
   ]
  },
  {
   "cell_type": "code",
   "execution_count": null,
   "metadata": {
    "cell_id": "4e5f2ef5feb4493a86a930b66befd42d",
    "editable": false,
    "lambdacheck": {
     "check": {
      "_check_id": "4e5f2ef5feb4493a86a930b66befd42d",
      "_immediate": true,
      "_name": "",
      "display.text/plain": true,
      "output.stderr": true,
      "output.stdout": true,
      "result.text/plain": true
     },
     "outputs": [
      {
       "name": "stdout",
       "output_type": "stream",
       "text": "i = 0\ni = 1\ni = 2\ni = 3\ni = 4\ni = 5\n"
      }
     ]
    }
   },
   "outputs": [],
   "source": [
    "runLoop(0, 5)"
   ]
  },
  {
   "cell_type": "markdown",
   "metadata": {
    "cell_id": "ee13262a4f2a42288a921b5cc494e933",
    "lambdacheck": {
     "layout": {
      "column_offset": 0,
      "column_span": 12
     },
     "workunit": {
      "id": "ee13262a4f2a42288a921b5cc494e933",
      "type": "title"
     }
    }
   },
   "source": [
    "## Work Unit 4: conditions"
   ]
  },
  {
   "cell_type": "markdown",
   "metadata": {
    "cell_id": "2af8df5fe95744beac72cb127b7b370f",
    "editable": false,
    "lambdacheck": {
     "layout": {
      "column_offset": 0,
      "column_span": 6,
      "row_span": 2
     },
     "workunit": {
      "id": "ee13262a4f2a42288a921b5cc494e933",
      "type": "text"
     }
    }
   },
   "source": [
    "Get yourself familiar with **when** expressions.\n",
    "\n",
    "https://kotlinlang.org/docs/reference/control-flow.html#when-expression"
   ]
  },
  {
   "cell_type": "code",
   "execution_count": null,
   "metadata": {
    "cell_id": "08d6ad3afa7d4a2cb465aaa0e9d79129",
    "lambdacheck": {
     "layout": {
      "column_offset": 6,
      "column_span": 6
     },
     "workunit": {
      "id": "ee13262a4f2a42288a921b5cc494e933",
      "type": "student-solution"
     }
    }
   },
   "outputs": [],
   "source": [
    "fun f(x: Number) : String =\n",
    "    when (x) {\n",
    "        // Integer\n",
    "        is Int -> \"Integer\"\n",
    "        is Short -> \"Short\"\n",
    "        is Long -> \"Long\"\n",
    "        \n",
    "        // Decimal\n",
    "        is Double -> \"Double\"\n",
    "        is Float -> \"Float\"\n",
    "        else -> \"Number\"\n",
    "    }"
   ]
  },
  {
   "cell_type": "code",
   "execution_count": null,
   "metadata": {
    "cell_id": "7df2949d32b24144966fe66a98b2ce09",
    "editable": false,
    "lambdacheck": {
     "check": {
      "_check_id": "7df2949d32b24144966fe66a98b2ce09",
      "_immediate": true,
      "_name": "",
      "display.text/plain": true,
      "output.stderr": true,
      "output.stdout": true,
      "result.text/plain": true
     },
     "outputs": [
      {
       "data": {
        "text/plain": "true"
       },
       "metadata": {
        "new_classpath": []
       },
       "output_type": "execute_result"
      }
     ]
    }
   },
   "outputs": [],
   "source": [
    "f(0) == \"Integer\""
   ]
  },
  {
   "cell_type": "code",
   "execution_count": null,
   "metadata": {
    "cell_id": "6e00f4816e0e490c99464b2c598b6b9f",
    "editable": false,
    "lambdacheck": {
     "check": {
      "_check_id": "6e00f4816e0e490c99464b2c598b6b9f",
      "_immediate": true,
      "_name": "",
      "display.text/plain": true,
      "output.stderr": true,
      "output.stdout": true,
      "result.text/plain": true
     },
     "outputs": [
      {
       "data": {
        "text/plain": "true"
       },
       "metadata": {
        "new_classpath": []
       },
       "output_type": "execute_result"
      }
     ]
    }
   },
   "outputs": [],
   "source": [
    "f(0L) == \"Long\""
   ]
  },
  {
   "cell_type": "code",
   "execution_count": null,
   "metadata": {
    "cell_id": "6f348e43838047448615bb67e6824db6",
    "editable": false,
    "lambdacheck": {
     "check": {
      "_check_id": "6f348e43838047448615bb67e6824db6",
      "_immediate": true,
      "_name": "",
      "display.text/plain": true,
      "output.stderr": true,
      "output.stdout": true,
      "result.text/plain": true
     },
     "outputs": [
      {
       "data": {
        "text/plain": "true"
       },
       "metadata": {
        "new_classpath": []
       },
       "output_type": "execute_result"
      }
     ]
    }
   },
   "outputs": [],
   "source": [
    "f(1.1) == \"Double\""
   ]
  },
  {
   "cell_type": "code",
   "execution_count": null,
   "metadata": {
    "cell_id": "976958135d1047dd828ad046068e5352",
    "editable": false,
    "lambdacheck": {
     "check": {
      "_check_id": "976958135d1047dd828ad046068e5352",
      "_immediate": true,
      "_name": "",
      "display.text/plain": true,
      "output.stderr": true,
      "output.stdout": true,
      "result.text/plain": true
     },
     "outputs": [
      {
       "data": {
        "text/plain": "true"
       },
       "metadata": {
        "new_classpath": []
       },
       "output_type": "execute_result"
      }
     ]
    }
   },
   "outputs": [],
   "source": [
    "f(1.1f) == \"Float\""
   ]
  },
  {
   "cell_type": "markdown",
   "metadata": {
    "cell_id": "cef888454fd6400986e35a7c5c91cbfa",
    "lambdacheck": {
     "layout": {
      "column_offset": 0,
      "column_span": 12
     },
     "workunit": {
      "id": "cef888454fd6400986e35a7c5c91cbfa",
      "type": "title"
     }
    }
   },
   "source": [
    "## Work Unit 5: classes"
   ]
  },
  {
   "cell_type": "markdown",
   "metadata": {
    "cell_id": "b9a60f0ffd434f0485b14d8bdc31ec90",
    "editable": false,
    "lambdacheck": {
     "layout": {
      "column_offset": 0,
      "column_span": 6,
      "row_span": 2
     },
     "workunit": {
      "id": "cef888454fd6400986e35a7c5c91cbfa",
      "type": "text"
     }
    }
   },
   "source": [
    "Get yourself familiar with **data class**\n",
    "\n",
    "https://kotlinlang.org/docs/reference/data-classes.html"
   ]
  },
  {
   "cell_type": "code",
   "execution_count": null,
   "metadata": {
    "cell_id": "5bec0fea015543488010e145d19da427",
    "lambdacheck": {
     "layout": {
      "column_offset": 6,
      "column_span": 6
     },
     "workunit": {
      "id": "cef888454fd6400986e35a7c5c91cbfa",
      "type": "student-solution"
     }
    }
   },
   "outputs": [],
   "source": [
    "data class Employee(\n",
    "    val id: Int, \n",
    "    val name: String, \n",
    "    val salary: Double\n",
    ")\n"
   ]
  },
  {
   "cell_type": "code",
   "execution_count": null,
   "metadata": {
    "cell_id": "f3679297050048569e1585e18abe5ff9",
    "editable": false,
    "lambdacheck": {
     "check": {
      "_check_id": "f3679297050048569e1585e18abe5ff9",
      "_immediate": true,
      "_name": "",
      "display.text/plain": true,
      "output.stderr": true,
      "output.stdout": true,
      "result.text/plain": true
     },
     "outputs": [
      {
       "data": {
        "text/plain": "35.21"
       },
       "metadata": {
        "new_classpath": []
       },
       "output_type": "execute_result"
      }
     ]
    }
   },
   "outputs": [],
   "source": [
    "val emp = Employee(84324, \"Mitch Jake\", 35.21)\n",
    "emp.component3()"
   ]
  },
  {
   "cell_type": "code",
   "execution_count": null,
   "metadata": {
    "cell_id": "1ae4a531a64144a7b997c4d2f6ade2ad",
    "editable": false,
    "lambdacheck": {
     "check": {
      "_check_id": "1ae4a531a64144a7b997c4d2f6ade2ad",
      "_immediate": true,
      "_name": "",
      "display.text/plain": true,
      "output.stderr": true,
      "output.stdout": true,
      "result.text/plain": true
     },
     "outputs": [
      {
       "data": {
        "text/plain": "true"
       },
       "metadata": {
        "new_classpath": []
       },
       "output_type": "execute_result"
      }
     ]
    }
   },
   "outputs": [],
   "source": [
    "val emp = Employee(84324, \"Mitch Jake\", 35.21)\n",
    "emp.component2() == \"Mitch Jake\""
   ]
  },
  {
   "cell_type": "markdown",
   "metadata": {
    "cell_id": "402baf7d9d044f29b346ff0f81f02431",
    "lambdacheck": {
     "layout": {
      "column_offset": 0,
      "column_span": 12
     },
     "workunit": {
      "id": "402baf7d9d044f29b346ff0f81f02431",
      "type": "title"
     }
    }
   },
   "source": [
    "## Work Unit 6: Functional Programming"
   ]
  },
  {
   "cell_type": "markdown",
   "metadata": {
    "cell_id": "3bcf05328a97455a85e37447d06f05de",
    "editable": false,
    "lambdacheck": {
     "layout": {
      "column_offset": 0,
      "column_span": 6,
      "row_span": 2
     },
     "workunit": {
      "id": "402baf7d9d044f29b346ff0f81f02431",
      "type": "text"
     }
    }
   },
   "source": [
    "Define a *lambda* function that returns `true` when parameter is **even**\n",
    "\n",
    "https://kotlinlang.org/docs/reference/lambdas.html"
   ]
  },
  {
   "cell_type": "code",
   "execution_count": null,
   "metadata": {
    "cell_id": "a132a1d8ff48463da1f8021fe1bd7001",
    "lambdacheck": {
     "layout": {
      "column_offset": 6,
      "column_span": 6
     },
     "workunit": {
      "id": "402baf7d9d044f29b346ff0f81f02431",
      "type": "student-solution"
     }
    }
   },
   "outputs": [],
   "source": [
    "fun getEvenNumbers(l: List<Int>) = \n",
    "    l.filter({ it % 2 == 0 })"
   ]
  },
  {
   "cell_type": "code",
   "execution_count": null,
   "metadata": {
    "cell_id": "a646fc4e31114ff0816b1084c0f1dc92",
    "editable": false,
    "lambdacheck": {
     "check": {
      "_check_id": "a646fc4e31114ff0816b1084c0f1dc92",
      "_immediate": true,
      "_name": "",
      "display.text/plain": true,
      "output.stderr": true,
      "output.stdout": true,
      "result.text/plain": true
     },
     "outputs": [
      {
       "data": {
        "text/plain": "[2, 4, 6, 8, 10]"
       },
       "metadata": {
        "new_classpath": []
       },
       "output_type": "execute_result"
      }
     ]
    }
   },
   "outputs": [],
   "source": [
    "getEvenNumbers((1..10).toList())"
   ]
  },
  {
   "cell_type": "markdown",
   "metadata": {
    "cell_id": "a9116e928108419586639e7c682f3584",
    "lambdacheck": {
     "layout": {
      "column_offset": 0,
      "column_span": 12
     },
     "workunit": {
      "id": "a9116e928108419586639e7c682f3584",
      "type": "title"
     }
    }
   },
   "source": [
    "## Work Unit 7: Nullable Types"
   ]
  },
  {
   "cell_type": "markdown",
   "metadata": {
    "cell_id": "54e1de277bc04d1988ad8d65f5329f49",
    "editable": false,
    "lambdacheck": {
     "layout": {
      "column_offset": 0,
      "column_span": 6,
      "row_span": 2
     },
     "workunit": {
      "id": "a9116e928108419586639e7c682f3584",
      "type": "text"
     }
    }
   },
   "source": [
    "Get yourself familiar with *Safe Calls*\n",
    "\n",
    "https://kotlinlang.org/docs/reference/null-safety.html"
   ]
  },
  {
   "cell_type": "code",
   "execution_count": null,
   "metadata": {
    "cell_id": "d98f99ede1ed4c58987b2a79c83859ef",
    "lambdacheck": {
     "layout": {
      "column_offset": 6,
      "column_span": 6
     },
     "workunit": {
      "id": "a9116e928108419586639e7c682f3584",
      "type": "student-solution"
     }
    }
   },
   "outputs": [],
   "source": [
    "data class Customer(val name: String, \n",
    "                    val phone: String? = null)\n",
    "data class OrderDetails(val id: Int, \n",
    "                        val customer: Customer?)\n",
    "\n",
    "fun sumbitOrder(order: OrderDetails?): Boolean {\n",
    "    val id = order?.id\n",
    "    val name = order?.customer?.name\n",
    "    val phone = order?.customer?.phone\n",
    "    \n",
    "    // Does not submit\n",
    "    if (id == null || name == null || phone == null) \n",
    "        return false\n",
    "    \n",
    "    // Does submit\n",
    "    return true\n",
    "}"
   ]
  },
  {
   "cell_type": "code",
   "execution_count": null,
   "metadata": {
    "cell_id": "5f967495eaa54e749597ebeab9bab468",
    "editable": false,
    "lambdacheck": {
     "check": {
      "_check_id": "5f967495eaa54e749597ebeab9bab468",
      "_immediate": true,
      "_name": "",
      "display.text/plain": true,
      "output.stderr": true,
      "output.stdout": true,
      "result.text/plain": true
     },
     "outputs": [
      {
       "data": {
        "text/plain": "true"
       },
       "metadata": {
        "new_classpath": []
       },
       "output_type": "execute_result"
      }
     ]
    }
   },
   "outputs": [],
   "source": [
    "val order = OrderDetails(id=1004324, customer=Customer(name=\"Jane Doe\", phone=\"555-432-1111\"))\n",
    "sumbitOrder(order)"
   ]
  },
  {
   "cell_type": "code",
   "execution_count": null,
   "metadata": {
    "cell_id": "7cccd75f000943a68a8b0ad667ab71b3",
    "editable": false,
    "lambdacheck": {
     "check": {
      "_check_id": "7cccd75f000943a68a8b0ad667ab71b3",
      "_immediate": true,
      "_name": "",
      "display.text/plain": true,
      "output.stderr": true,
      "output.stdout": true,
      "result.text/plain": true
     },
     "outputs": [
      {
       "data": {
        "text/plain": "false"
       },
       "metadata": {
        "new_classpath": []
       },
       "output_type": "execute_result"
      }
     ]
    }
   },
   "outputs": [],
   "source": [
    "val order = OrderDetails(id=1004324, customer=Customer(name=\"Jane Doe\"))\n",
    "sumbitOrder(order)"
   ]
  },
  {
   "cell_type": "code",
   "execution_count": null,
   "metadata": {
    "cell_id": "eafe05628ec543fbac740e2e9c5bc170",
    "editable": false,
    "lambdacheck": {
     "check": {
      "_check_id": "eafe05628ec543fbac740e2e9c5bc170",
      "_immediate": true,
      "_name": "",
      "display.text/plain": true,
      "output.stderr": true,
      "output.stdout": true,
      "result.text/plain": true
     },
     "outputs": [
      {
       "data": {
        "text/plain": "false"
       },
       "metadata": {
        "new_classpath": []
       },
       "output_type": "execute_result"
      }
     ]
    }
   },
   "outputs": [],
   "source": [
    "val order = OrderDetails(id=1004324, customer=null)\n",
    "sumbitOrder(order)"
   ]
  },
  {
   "cell_type": "code",
   "execution_count": null,
   "metadata": {
    "cell_id": "9fa9915ec15f451a9fab3fed09d56cc3",
    "editable": false,
    "lambdacheck": {
     "check": {
      "_check_id": "9fa9915ec15f451a9fab3fed09d56cc3",
      "_immediate": true,
      "_name": "",
      "display.text/plain": true,
      "output.stderr": true,
      "output.stdout": true,
      "result.text/plain": true
     },
     "outputs": [
      {
       "data": {
        "text/plain": "false"
       },
       "metadata": {
        "new_classpath": []
       },
       "output_type": "execute_result"
      }
     ]
    }
   },
   "outputs": [],
   "source": [
    "sumbitOrder(order=null)"
   ]
  }
 ],
 "metadata": {
  "celltoolbar": "λ.check",
  "kernelspec": {
   "display_name": "Kotlin",
   "language": "kotlin",
   "name": "kotlin"
  },
  "lambdacheck": {
   "worksheet": true
  },
  "language_info": {
   "codemirror_mode": "text/x-kotlin",
   "file_extension": ".kt",
   "mimetype": "text/x-kotlin",
   "name": "kotlin",
   "pygments_lexer": "kotlin",
   "version": "1.4.30-dev-3354"
  }
 },
 "nbformat": 4,
 "nbformat_minor": 4
}
