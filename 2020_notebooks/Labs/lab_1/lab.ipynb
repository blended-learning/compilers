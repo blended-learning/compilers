{
 "cells": [
  {
   "cell_type": "markdown",
   "metadata": {
    "cell_id": "c46616c2f8b04aefac61e38c8ec26fad"
   },
   "source": [
    "# Basics of Kotlin"
   ]
  },
  {
   "cell_type": "markdown",
   "metadata": {
    "cell_id": "22340fb546124502b4e2b8bf61b490f5",
    "lambdacheck": {
     "layout": {
      "column_offset": 0,
      "column_span": 12
     },
     "workunit": {
      "id": "22340fb546124502b4e2b8bf61b490f5",
      "type": "title"
     }
    }
   },
   "source": [
    "## Work Unit 1"
   ]
  },
  {
   "cell_type": "markdown",
   "metadata": {
    "cell_id": "11c43c6e1a8c42ac96e326e27c7b1793",
    "lambdacheck": {
     "layout": {
      "column_offset": 0,
      "column_span": 6,
      "row_span": 2
     },
     "workunit": {
      "id": "22340fb546124502b4e2b8bf61b490f5",
      "type": "text"
     }
    }
   },
   "source": [
    "Define a `val` called `courseCode`, and assign it to a string \"CSCI 4020U\"."
   ]
  },
  {
   "cell_type": "raw",
   "metadata": {
    "cell_id": "31f156e61dbb41b9b8a681b090e90cd8",
    "lambdacheck": {
     "layout": {
      "column_offset": 6,
      "column_span": 6
     },
     "workunit": {
      "id": "22340fb546124502b4e2b8bf61b490f5",
      "type": "template"
     }
    }
   },
   "source": [
    "// Complete your work here.\n",
    "\n",
    "..."
   ]
  },
  {
   "cell_type": "code",
   "execution_count": 1,
   "metadata": {
    "cell_id": "4a7f9ac32a584787846ae5adf4b614ad",
    "lambdacheck": {
     "layout": {
      "column_offset": 6,
      "column_span": 6
     },
     "workunit": {
      "id": "22340fb546124502b4e2b8bf61b490f5",
      "type": "solution"
     }
    }
   },
   "outputs": [],
   "source": [
    "val courseCode = \"CSCI 4020U\""
   ]
  },
  {
   "cell_type": "code",
   "execution_count": 2,
   "metadata": {
    "cell_id": "ceda93137b7744c0bad29d389a52a3c0",
    "lambdacheck": {
     "check": {
      "_immediate": true,
      "_name": "",
      "display.text/plain": true,
      "output.stderr": true,
      "output.stdout": true,
      "result.text/plain": true
     }
    }
   },
   "outputs": [
    {
     "name": "stdout",
     "output_type": "stream",
     "text": [
      "coursCode = \"CSCI 4020U\""
     ]
    }
   ],
   "source": [
    "print(\"coursCode = \\\"$courseCode\\\"\")"
   ]
  },
  {
   "cell_type": "code",
   "execution_count": 4,
   "metadata": {
    "cell_id": "e113946aa4aa49cf9f867475c0082f20",
    "lambdacheck": {}
   },
   "outputs": [
    {
     "name": "stderr",
     "output_type": "stream",
     "text": [
      "Line_13.jupyter.kts (2:1 - 11) Val cannot be reassigned"
     ]
    }
   ],
   "source": [
    "// This should trigger an error.\n",
    "courseCode = courseCode + \" 2021\""
   ]
  },
  {
   "cell_type": "markdown",
   "metadata": {
    "cell_id": "2af98c021a4142618b57afda3ac1e2e6",
    "lambdacheck": {
     "layout": {
      "column_offset": 0,
      "column_span": 12
     },
     "workunit": {
      "id": "2af98c021a4142618b57afda3ac1e2e6",
      "type": "title"
     }
    }
   },
   "source": [
    "## Work Unit 2"
   ]
  },
  {
   "cell_type": "markdown",
   "metadata": {
    "cell_id": "87a238390a634b2d91e3d6bbd359474d",
    "lambdacheck": {
     "layout": {
      "column_offset": 0,
      "column_span": 6,
      "row_span": 2
     },
     "workunit": {
      "id": "2af98c021a4142618b57afda3ac1e2e6",
      "type": "text"
     }
    }
   },
   "source": [
    "Define a `var` called `course`, and assign it to \"CSCI 4020U\"."
   ]
  },
  {
   "cell_type": "raw",
   "metadata": {
    "cell_id": "c7a226d11fe049228523430f5df83ecc",
    "lambdacheck": {
     "layout": {
      "column_offset": 6,
      "column_span": 6
     },
     "workunit": {
      "id": "2af98c021a4142618b57afda3ac1e2e6",
      "type": "template"
     }
    }
   },
   "source": [
    "// Complete your work here\n",
    "..."
   ]
  },
  {
   "cell_type": "code",
   "execution_count": 19,
   "metadata": {
    "cell_id": "178f44e827b6463b9c13063c08e55007",
    "lambdacheck": {
     "layout": {
      "column_offset": 6,
      "column_span": 6
     },
     "workunit": {
      "id": "2af98c021a4142618b57afda3ac1e2e6",
      "type": "solution"
     }
    }
   },
   "outputs": [],
   "source": [
    "var course = \"CSCI 4020U\""
   ]
  },
  {
   "cell_type": "code",
   "execution_count": 20,
   "metadata": {
    "cell_id": "79def1d1f67d4f4084f0db5ceb1c0adc",
    "lambdacheck": {
     "check": {
      "_immediate": true,
      "_name": "",
      "display.text/plain": true,
      "output.stderr": true,
      "output.stdout": true,
      "result.text/plain": true
     }
    }
   },
   "outputs": [
    {
     "name": "stdout",
     "output_type": "stream",
     "text": [
      "course = \"CSCI 4020U\"\n"
     ]
    }
   ],
   "source": [
    "println(\"course = \\\"$course\\\"\")"
   ]
  },
  {
   "cell_type": "code",
   "execution_count": 21,
   "metadata": {
    "cell_id": "543d9a399a254f0589fa4f97bbf40398",
    "lambdacheck": {
     "check": {
      "_immediate": true,
      "_name": "",
      "display.text/plain": true,
      "output.stderr": true,
      "output.stdout": true,
      "result.text/plain": true
     }
    }
   },
   "outputs": [
    {
     "name": "stdout",
     "output_type": "stream",
     "text": [
      "course = \"CSCI 4020U 2020\"\n"
     ]
    }
   ],
   "source": [
    "// Unlike courseCode, we can update course to be a different value.\n",
    "course = course + \" 2020\"\n",
    "println(\"course = \\\"$course\\\"\")"
   ]
  },
  {
   "cell_type": "markdown",
   "metadata": {
    "cell_id": "3b864a29b4e8428f86ce306e08905781",
    "lambdacheck": {
     "layout": {
      "column_offset": 0,
      "column_span": 12
     },
     "workunit": {
      "id": "3b864a29b4e8428f86ce306e08905781",
      "type": "title"
     }
    }
   },
   "source": [
    "## Work Unit 3: loops"
   ]
  },
  {
   "cell_type": "markdown",
   "metadata": {
    "cell_id": "71d4aad063d94464824dc7de80ad82c4",
    "lambdacheck": {
     "layout": {
      "column_offset": 0,
      "column_span": 6,
      "row_span": 2
     },
     "workunit": {
      "id": "3b864a29b4e8428f86ce306e08905781",
      "type": "text"
     }
    }
   },
   "source": [
    "Get yourself familiar with for-loops.\n",
    "\n",
    "https://kotlinlang.org/docs/reference/control-flow.html#for-loops"
   ]
  },
  {
   "cell_type": "raw",
   "metadata": {
    "cell_id": "ea10679d2c4043c68be753f9eb02c1bc",
    "lambdacheck": {
     "layout": {
      "column_offset": 6,
      "column_span": 6
     },
     "workunit": {
      "id": "3b864a29b4e8428f86ce306e08905781",
      "type": "template"
     }
    }
   },
   "source": [
    "fun runLoop(start: Int, end: Int) {\n",
    "    ... {\n",
    "        println(\"i = $i\")\n",
    "    }\n",
    "}"
   ]
  },
  {
   "cell_type": "code",
   "execution_count": 14,
   "metadata": {
    "cell_id": "2474257e43da4ed48fc781cba89bb741",
    "lambdacheck": {
     "check": {
      "_immediate": true,
      "_name": "",
      "display.text/plain": true,
      "output.stderr": true,
      "output.stdout": true,
      "result.text/plain": true
     },
     "layout": {
      "column_offset": 6,
      "column_span": 6
     },
     "workunit": {
      "id": "3b864a29b4e8428f86ce306e08905781",
      "type": "solution"
     }
    }
   },
   "outputs": [],
   "source": [
    "fun runLoop(start: Int, end: Int) {\n",
    "    for(i in start .. end) {\n",
    "        println(\"i = $i\")\n",
    "    }\n",
    "}"
   ]
  },
  {
   "cell_type": "code",
   "execution_count": 15,
   "metadata": {
    "cell_id": "c0aad0aa9fc3479d869fb0d104176e8b",
    "lambdacheck": {
     "check": {
      "_immediate": true,
      "_name": "",
      "display.text/plain": true,
      "output.stderr": true,
      "output.stdout": true,
      "result.text/plain": true
     }
    }
   },
   "outputs": [
    {
     "name": "stdout",
     "output_type": "stream",
     "text": [
      "i = -3\n",
      "i = -2\n",
      "i = -1\n",
      "i = 0\n",
      "i = 1\n",
      "i = 2\n",
      "i = 3\n"
     ]
    }
   ],
   "source": [
    "runLoop(-3, 3)"
   ]
  },
  {
   "cell_type": "code",
   "execution_count": 17,
   "metadata": {
    "cell_id": "4e5f2ef5feb4493a86a930b66befd42d",
    "lambdacheck": {
     "check": {
      "_immediate": true,
      "_name": "",
      "display.text/plain": true,
      "output.stderr": true,
      "output.stdout": true,
      "result.text/plain": true
     }
    }
   },
   "outputs": [
    {
     "name": "stdout",
     "output_type": "stream",
     "text": [
      "i = 0\n",
      "i = 1\n",
      "i = 2\n",
      "i = 3\n",
      "i = 4\n",
      "i = 5\n"
     ]
    }
   ],
   "source": [
    "runLoop(0, 5)"
   ]
  },
  {
   "cell_type": "markdown",
   "metadata": {
    "cell_id": "ee13262a4f2a42288a921b5cc494e933",
    "lambdacheck": {
     "layout": {
      "column_offset": 0,
      "column_span": 12
     },
     "workunit": {
      "id": "ee13262a4f2a42288a921b5cc494e933",
      "type": "title"
     }
    }
   },
   "source": [
    "## Work Unit 4: conditions"
   ]
  },
  {
   "cell_type": "markdown",
   "metadata": {
    "cell_id": "2af8df5fe95744beac72cb127b7b370f",
    "lambdacheck": {
     "layout": {
      "column_offset": 0,
      "column_span": 6,
      "row_span": 2
     },
     "workunit": {
      "id": "ee13262a4f2a42288a921b5cc494e933",
      "type": "text"
     }
    }
   },
   "source": [
    "Get yourself familiar with **when** expressions.\n",
    "\n",
    "https://kotlinlang.org/docs/reference/control-flow.html#when-expression"
   ]
  },
  {
   "cell_type": "raw",
   "metadata": {
    "cell_id": "89d61429c5b84cffb33923dff8d05c57",
    "lambdacheck": {
     "layout": {
      "column_offset": 6,
      "column_span": 6
     },
     "workunit": {
      "id": "ee13262a4f2a42288a921b5cc494e933",
      "type": "template"
     }
    }
   },
   "source": [
    "fun f(x: Number): String =\n",
    "    when (x) {\n",
    "        ...\n",
    "    }"
   ]
  },
  {
   "cell_type": "code",
   "execution_count": 2,
   "metadata": {
    "cell_id": "08d6ad3afa7d4a2cb465aaa0e9d79129",
    "lambdacheck": {
     "layout": {
      "column_offset": 6,
      "column_span": 6
     },
     "workunit": {
      "id": "ee13262a4f2a42288a921b5cc494e933",
      "type": "solution"
     }
    }
   },
   "outputs": [],
   "source": [
    "fun f(x: Number) : String =\n",
    "    when (x) {\n",
    "        // Integer\n",
    "        is Int -> \"Integer\"\n",
    "        is Short -> \"Short\"\n",
    "        is Long -> \"Long\"\n",
    "        \n",
    "        // Decimal\n",
    "        is Double -> \"Double\"\n",
    "        is Float -> \"Float\"\n",
    "        else -> \"Number\"\n",
    "    }"
   ]
  },
  {
   "cell_type": "code",
   "execution_count": 3,
   "metadata": {
    "cell_id": "7df2949d32b24144966fe66a98b2ce09",
    "lambdacheck": {
     "check": {
      "_immediate": true,
      "_name": "",
      "display.text/plain": true,
      "output.stderr": true,
      "output.stdout": true,
      "result.text/plain": true
     }
    }
   },
   "outputs": [
    {
     "data": {
      "text/plain": [
       "true"
      ]
     },
     "execution_count": 3,
     "metadata": {
      "new_classpath": []
     },
     "output_type": "execute_result"
    }
   ],
   "source": [
    "f(0) == \"Integer\""
   ]
  },
  {
   "cell_type": "code",
   "execution_count": 4,
   "metadata": {
    "cell_id": "6e00f4816e0e490c99464b2c598b6b9f",
    "lambdacheck": {
     "check": {
      "_immediate": true,
      "_name": "",
      "display.text/plain": true,
      "output.stderr": true,
      "output.stdout": true,
      "result.text/plain": true
     }
    }
   },
   "outputs": [
    {
     "data": {
      "text/plain": [
       "true"
      ]
     },
     "execution_count": 4,
     "metadata": {
      "new_classpath": []
     },
     "output_type": "execute_result"
    }
   ],
   "source": [
    "f(0L) == \"Long\""
   ]
  },
  {
   "cell_type": "code",
   "execution_count": 5,
   "metadata": {
    "cell_id": "6f348e43838047448615bb67e6824db6",
    "lambdacheck": {
     "check": {
      "_immediate": true,
      "_name": "",
      "display.text/plain": true,
      "output.stderr": true,
      "output.stdout": true,
      "result.text/plain": true
     }
    }
   },
   "outputs": [
    {
     "data": {
      "text/plain": [
       "true"
      ]
     },
     "execution_count": 5,
     "metadata": {
      "new_classpath": []
     },
     "output_type": "execute_result"
    }
   ],
   "source": [
    "f(1.1) == \"Double\""
   ]
  },
  {
   "cell_type": "code",
   "execution_count": 6,
   "metadata": {
    "cell_id": "976958135d1047dd828ad046068e5352",
    "lambdacheck": {
     "check": {
      "_immediate": true,
      "_name": "",
      "display.text/plain": true,
      "output.stderr": true,
      "output.stdout": true,
      "result.text/plain": true
     }
    }
   },
   "outputs": [
    {
     "data": {
      "text/plain": [
       "true"
      ]
     },
     "execution_count": 6,
     "metadata": {
      "new_classpath": []
     },
     "output_type": "execute_result"
    }
   ],
   "source": [
    "f(1.1f) == \"Float\""
   ]
  },
  {
   "cell_type": "markdown",
   "metadata": {
    "cell_id": "cef888454fd6400986e35a7c5c91cbfa",
    "lambdacheck": {
     "layout": {
      "column_offset": 0,
      "column_span": 12
     },
     "workunit": {
      "id": "cef888454fd6400986e35a7c5c91cbfa",
      "type": "title"
     }
    }
   },
   "source": [
    "## Work Unit 5: classes"
   ]
  },
  {
   "cell_type": "markdown",
   "metadata": {
    "cell_id": "b9a60f0ffd434f0485b14d8bdc31ec90",
    "lambdacheck": {
     "layout": {
      "column_offset": 0,
      "column_span": 6,
      "row_span": 2
     },
     "workunit": {
      "id": "cef888454fd6400986e35a7c5c91cbfa",
      "type": "text"
     }
    }
   },
   "source": [
    "Get yourself familiar with **data class**\n",
    "\n",
    "https://kotlinlang.org/docs/reference/data-classes.html"
   ]
  },
  {
   "cell_type": "raw",
   "metadata": {
    "cell_id": "bdb5ea12d4ad49b387fe25b600fda603",
    "lambdacheck": {
     "layout": {
      "column_offset": 6,
      "column_span": 6
     },
     "workunit": {
      "id": "cef888454fd6400986e35a7c5c91cbfa",
      "type": "template"
     }
    }
   },
   "source": [
    "... class Employee(...)\n"
   ]
  },
  {
   "cell_type": "code",
   "execution_count": 1,
   "metadata": {
    "cell_id": "5bec0fea015543488010e145d19da427",
    "lambdacheck": {
     "layout": {
      "column_offset": 6,
      "column_span": 6
     },
     "workunit": {
      "id": "cef888454fd6400986e35a7c5c91cbfa",
      "type": "solution"
     }
    }
   },
   "outputs": [],
   "source": [
    "data class Employee(\n",
    "    val id: Int, \n",
    "    val name: String, \n",
    "    val salary: Double\n",
    ")\n"
   ]
  },
  {
   "cell_type": "code",
   "execution_count": 9,
   "metadata": {
    "cell_id": "f3679297050048569e1585e18abe5ff9",
    "lambdacheck": {
     "check": {
      "_immediate": true,
      "_name": "",
      "display.text/plain": true,
      "output.stderr": true,
      "output.stdout": true,
      "result.text/plain": true
     }
    }
   },
   "outputs": [
    {
     "data": {
      "text/plain": [
       "35.21"
      ]
     },
     "execution_count": 9,
     "metadata": {
      "new_classpath": []
     },
     "output_type": "execute_result"
    }
   ],
   "source": [
    "val emp = Employee(84324, \"Mitch Jake\", 35.21)\n",
    "emp.component3()"
   ]
  },
  {
   "cell_type": "code",
   "execution_count": 10,
   "metadata": {
    "cell_id": "1ae4a531a64144a7b997c4d2f6ade2ad",
    "lambdacheck": {
     "check": {
      "_immediate": true,
      "_name": "",
      "display.text/plain": true,
      "output.stderr": true,
      "output.stdout": true,
      "result.text/plain": true
     }
    }
   },
   "outputs": [
    {
     "data": {
      "text/plain": [
       "true"
      ]
     },
     "execution_count": 10,
     "metadata": {
      "new_classpath": []
     },
     "output_type": "execute_result"
    }
   ],
   "source": [
    "val emp = Employee(84324, \"Mitch Jake\", 35.21)\n",
    "emp.component2() == \"Mitch Jake\""
   ]
  },
  {
   "cell_type": "markdown",
   "metadata": {
    "cell_id": "402baf7d9d044f29b346ff0f81f02431",
    "lambdacheck": {
     "layout": {
      "column_offset": 0,
      "column_span": 12
     },
     "workunit": {
      "id": "402baf7d9d044f29b346ff0f81f02431",
      "type": "title"
     }
    }
   },
   "source": [
    "## Work Unit 6: Functional Programming"
   ]
  },
  {
   "cell_type": "markdown",
   "metadata": {
    "cell_id": "3bcf05328a97455a85e37447d06f05de",
    "lambdacheck": {
     "layout": {
      "column_offset": 0,
      "column_span": 6,
      "row_span": 2
     },
     "workunit": {
      "id": "402baf7d9d044f29b346ff0f81f02431",
      "type": "text"
     }
    }
   },
   "source": [
    "Define a *lambda* function that returns `true` when parameter is **even**\n",
    "\n",
    "https://kotlinlang.org/docs/reference/lambdas.html"
   ]
  },
  {
   "cell_type": "raw",
   "metadata": {
    "cell_id": "925af7da061149be90979d1ece20e4e7",
    "lambdacheck": {
     "layout": {
      "column_offset": 6,
      "column_span": 6
     },
     "workunit": {
      "id": "402baf7d9d044f29b346ff0f81f02431",
      "type": "template"
     }
    }
   },
   "source": [
    "fun getEvenNumbers(l: List<Int>) = \n",
    "    l.filter(...)\n"
   ]
  },
  {
   "cell_type": "code",
   "execution_count": 7,
   "metadata": {
    "cell_id": "a132a1d8ff48463da1f8021fe1bd7001",
    "lambdacheck": {
     "layout": {
      "column_offset": 6,
      "column_span": 6
     },
     "workunit": {
      "id": "402baf7d9d044f29b346ff0f81f02431",
      "type": "solution"
     }
    }
   },
   "outputs": [],
   "source": [
    "fun getEvenNumbers(l: List<Int>) = \n",
    "    l.filter({ it % 2 == 0 })"
   ]
  },
  {
   "cell_type": "code",
   "execution_count": 14,
   "metadata": {
    "cell_id": "a646fc4e31114ff0816b1084c0f1dc92",
    "lambdacheck": {
     "check": {
      "_immediate": true,
      "_name": "",
      "display.text/plain": true,
      "output.stderr": true,
      "output.stdout": true,
      "result.text/plain": true
     }
    }
   },
   "outputs": [
    {
     "data": {
      "text/plain": [
       "[2, 4, 6, 8, 10]"
      ]
     },
     "execution_count": 14,
     "metadata": {
      "new_classpath": []
     },
     "output_type": "execute_result"
    }
   ],
   "source": [
    "getEvenNumbers((1..10).toList())"
   ]
  },
  {
   "cell_type": "markdown",
   "metadata": {
    "cell_id": "a9116e928108419586639e7c682f3584",
    "lambdacheck": {
     "layout": {
      "column_offset": 0,
      "column_span": 12
     },
     "workunit": {
      "id": "a9116e928108419586639e7c682f3584",
      "type": "title"
     }
    }
   },
   "source": [
    "## Work Unit 7: Nullable Types"
   ]
  },
  {
   "cell_type": "markdown",
   "metadata": {
    "cell_id": "54e1de277bc04d1988ad8d65f5329f49",
    "lambdacheck": {
     "layout": {
      "column_offset": 0,
      "column_span": 6,
      "row_span": 2
     },
     "workunit": {
      "id": "a9116e928108419586639e7c682f3584",
      "type": "text"
     }
    }
   },
   "source": [
    "Get yourself familiar with *Safe Calls*\n",
    "\n",
    "https://kotlinlang.org/docs/reference/null-safety.html"
   ]
  },
  {
   "cell_type": "raw",
   "metadata": {
    "cell_id": "74ae3a1900fe45a6b72caf6a7c68067e",
    "lambdacheck": {
     "layout": {
      "column_offset": 6,
      "column_span": 6
     },
     "workunit": {
      "id": "a9116e928108419586639e7c682f3584",
      "type": "template"
     }
    }
   },
   "source": [
    "data class Customer(val name: String, \n",
    "                    val phone: String? = null)\n",
    "data class OrderDetails(val id: Int, \n",
    "                        val customer: Customer?)\n",
    "\n",
    "fun sumbitOrder(order: OrderDetails?): Boolean {\n",
    "    val id = ...\n",
    "    val name = ...\n",
    "    val phone = ...\n",
    "    \n",
    "    /* DO NOT MODIFY BELOW */\n",
    "    \n",
    "    // Does not submit\n",
    "    if (id == null || name == null || phone == null) \n",
    "        return false\n",
    "    \n",
    "    // Does submit\n",
    "    return true\n",
    "}"
   ]
  },
  {
   "cell_type": "code",
   "execution_count": 9,
   "metadata": {
    "cell_id": "d98f99ede1ed4c58987b2a79c83859ef",
    "lambdacheck": {
     "layout": {
      "column_offset": 6,
      "column_span": 6
     },
     "workunit": {
      "id": "a9116e928108419586639e7c682f3584",
      "type": "solution"
     }
    }
   },
   "outputs": [],
   "source": [
    "data class Customer(val name: String, \n",
    "                    val phone: String? = null)\n",
    "data class OrderDetails(val id: Int, \n",
    "                        val customer: Customer?)\n",
    "\n",
    "fun sumbitOrder(order: OrderDetails?): Boolean {\n",
    "    val id = order?.id\n",
    "    val name = order?.customer?.name\n",
    "    val phone = order?.customer?.phone\n",
    "    \n",
    "    // Does not submit\n",
    "    if (id == null || name == null || phone == null) \n",
    "        return false\n",
    "    \n",
    "    // Does submit\n",
    "    return true\n",
    "}"
   ]
  },
  {
   "cell_type": "code",
   "execution_count": 10,
   "metadata": {
    "cell_id": "5f967495eaa54e749597ebeab9bab468",
    "lambdacheck": {
     "check": {
      "_immediate": true,
      "_name": "",
      "display.text/plain": true,
      "output.stderr": true,
      "output.stdout": true,
      "result.text/plain": true
     }
    }
   },
   "outputs": [
    {
     "data": {
      "text/plain": [
       "true"
      ]
     },
     "execution_count": 10,
     "metadata": {
      "new_classpath": []
     },
     "output_type": "execute_result"
    }
   ],
   "source": [
    "val order = OrderDetails(id=1004324, customer=Customer(name=\"Jane Doe\", phone=\"555-432-1111\"))\n",
    "sumbitOrder(order)"
   ]
  },
  {
   "cell_type": "code",
   "execution_count": 11,
   "metadata": {
    "cell_id": "7cccd75f000943a68a8b0ad667ab71b3",
    "lambdacheck": {
     "check": {
      "_immediate": true,
      "_name": "",
      "display.text/plain": true,
      "output.stderr": true,
      "output.stdout": true,
      "result.text/plain": true
     }
    }
   },
   "outputs": [
    {
     "data": {
      "text/plain": [
       "false"
      ]
     },
     "execution_count": 11,
     "metadata": {
      "new_classpath": []
     },
     "output_type": "execute_result"
    }
   ],
   "source": [
    "val order = OrderDetails(id=1004324, customer=Customer(name=\"Jane Doe\"))\n",
    "sumbitOrder(order)"
   ]
  },
  {
   "cell_type": "code",
   "execution_count": 12,
   "metadata": {
    "cell_id": "eafe05628ec543fbac740e2e9c5bc170",
    "lambdacheck": {
     "check": {
      "_immediate": true,
      "_name": "",
      "display.text/plain": true,
      "output.stderr": true,
      "output.stdout": true,
      "result.text/plain": true
     }
    }
   },
   "outputs": [
    {
     "data": {
      "text/plain": [
       "false"
      ]
     },
     "execution_count": 12,
     "metadata": {
      "new_classpath": []
     },
     "output_type": "execute_result"
    }
   ],
   "source": [
    "val order = OrderDetails(id=1004324, customer=null)\n",
    "sumbitOrder(order)"
   ]
  },
  {
   "cell_type": "code",
   "execution_count": 13,
   "metadata": {
    "cell_id": "9fa9915ec15f451a9fab3fed09d56cc3",
    "lambdacheck": {
     "check": {
      "_immediate": true,
      "_name": "",
      "display.text/plain": true,
      "output.stderr": true,
      "output.stdout": true,
      "result.text/plain": true
     }
    }
   },
   "outputs": [
    {
     "data": {
      "text/plain": [
       "false"
      ]
     },
     "execution_count": 13,
     "metadata": {
      "new_classpath": []
     },
     "output_type": "execute_result"
    }
   ],
   "source": [
    "sumbitOrder(order=null)"
   ]
  }
 ],
 "metadata": {
  "celltoolbar": "λ.check",
  "kernelspec": {
   "display_name": "Kotlin",
   "language": "kotlin",
   "name": "kotlin"
  },
  "language_info": {
   "codemirror_mode": "text/x-kotlin",
   "file_extension": ".kt",
   "mimetype": "text/x-kotlin",
   "name": "kotlin",
   "pygments_lexer": "kotlin",
   "version": "1.4.30-dev-3354"
  }
 },
 "nbformat": 4,
 "nbformat_minor": 4
}
