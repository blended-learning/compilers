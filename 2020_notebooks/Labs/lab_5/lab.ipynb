{
 "cells": [
  {
   "cell_type": "code",
   "execution_count": 1,
   "metadata": {
    "cell_id": "708e626b3319483c970cb0bf4721d732"
   },
   "outputs": [],
   "source": [
    "@file:DependsOn(\"/data/shared/antlr-4.9.1-complete.jar\")\n",
    "@file:DependsOn(\".\")"
   ]
  },
  {
   "cell_type": "code",
   "execution_count": 2,
   "metadata": {
    "cell_id": "8f54bdf423a84bb2978c7d335e61058a"
   },
   "outputs": [],
   "source": [
    "import org.antlr.v4.runtime.*\n",
    "import calculator.*"
   ]
  },
  {
   "cell_type": "markdown",
   "metadata": {
    "cell_id": "651a0c54dee84c9d87e14ce6f21d2b24",
    "lambdacheck": {
     "layout": {
      "column_offset": 0,
      "column_span": 12
     },
     "workunit": {
      "id": "651a0c54dee84c9d87e14ce6f21d2b24",
      "type": "title"
     }
    }
   },
   "source": [
    "## Work Unit 1"
   ]
  },
  {
   "cell_type": "markdown",
   "metadata": {
    "cell_id": "59c58484098b46f98db2c5116edb9944",
    "lambdacheck": {
     "layout": {
      "column_offset": 0,
      "column_span": 12,
      "row_span": 2
     },
     "workunit": {
      "id": "651a0c54dee84c9d87e14ce6f21d2b24",
      "type": "text"
     }
    }
   },
   "source": [
    "Complete the following visitor implementation"
   ]
  },
  {
   "cell_type": "raw",
   "metadata": {
    "cell_id": "7803584bc00b4e40980fb4a9edfc6db8",
    "lambdacheck": {
     "layout": {
      "column_offset": 0,
      "column_span": 12
     },
     "workunit": {
      "id": "651a0c54dee84c9d87e14ce6f21d2b24",
      "type": "template"
     }
    }
   },
   "source": [
    "class Visitor: CalcBaseVisitor<Int>() {\n",
    "    val scope = mutableMapOf<String, Int>()\n",
    "    override fun visitProgram(ctx: CalcParser.ProgramContext): Int {\n",
    "        return 0\n",
    "    }\n",
    "    override fun visitAssignStatement(ctx: CalcParser.AssignStatementContext): Int {\n",
    "        return 0\n",
    "    }\n",
    "    override fun visitExprStatement(ctx: CalcParser.ExprStatementContext): Int {\n",
    "        return 0\n",
    "    }\n",
    "    override fun visitAssign(ctx: CalcParser.AssignContext): Int {\n",
    "        return 0\n",
    "    }\n",
    "    override fun visitAdd(ctx: CalcParser.AddContext): Int {\n",
    "        return 0\n",
    "    }\n",
    "    override fun visitMul(ctx: CalcParser.MulContext): Int {\n",
    "        return 0\n",
    "    }\n",
    "    override fun visitParen(ctx: CalcParser.ParenContext): Int {\n",
    "        return 0\n",
    "    }\n",
    "    override fun visitNum(ctx: CalcParser.NumContext): Int {\n",
    "        return 0\n",
    "    }\n",
    "    override fun visitId(ctx: CalcParser.IdContext): Int {\n",
    "        return 0\n",
    "    }\n",
    "}"
   ]
  },
  {
   "cell_type": "code",
   "execution_count": 6,
   "metadata": {
    "cell_id": "1f3cd987d4b54fd7987f17cab5926131",
    "lambdacheck": {
     "layout": {
      "column_offset": 0,
      "column_span": 12
     },
     "workunit": {
      "id": "651a0c54dee84c9d87e14ce6f21d2b24",
      "type": "solution"
     }
    }
   },
   "outputs": [],
   "source": [
    "class Visitor: CalcBaseVisitor<Int>() {\n",
    "    val scope = mutableMapOf<String, Int>()\n",
    "    override fun visitProgram(ctx: CalcParser.ProgramContext): Int {\n",
    "        ctx.statement().forEach {\n",
    "            this.visit(it)\n",
    "        }\n",
    "        return 0\n",
    "    }\n",
    "    override fun visitAssignStatement(ctx: CalcParser.AssignStatementContext): Int = this.visit(ctx.assign())\n",
    "    override fun visitExprStatement(ctx: CalcParser.ExprStatementContext): Int {\n",
    "        val result = this.visit(ctx.expr())\n",
    "        println(\"> \" + result)\n",
    "        return result\n",
    "    }\n",
    "    override fun visitAssign(ctx: CalcParser.AssignContext): Int {\n",
    "        val name = ctx.ID().text\n",
    "        var value = this.visit(ctx.expr())\n",
    "        scope[name] = value\n",
    "        \n",
    "        return value\n",
    "    }\n",
    "    override fun visitAdd(ctx: CalcParser.AddContext): Int = this.visit(ctx.e1) + this.visit(ctx.e2)\n",
    "    override fun visitMul(ctx: CalcParser.MulContext): Int = this.visit(ctx.e1) * this.visit(ctx.e2)\n",
    "    override fun visitParen(ctx: CalcParser.ParenContext): Int = this.visit(ctx.expr())\n",
    "    override fun visitNum(ctx: CalcParser.NumContext): Int = ctx.NUM().text.toInt()\n",
    "    override fun visitId(ctx: CalcParser.IdContext): Int {\n",
    "        return scope.getOrDefault(ctx.ID().text, 0)\n",
    "    }\n",
    "}"
   ]
  },
  {
   "cell_type": "code",
   "execution_count": 7,
   "metadata": {
    "cell_id": "3261b1851f074817848f0e27ae05a57b"
   },
   "outputs": [],
   "source": [
    "fun run(source: String) {\n",
    "    val input = CharStreams.fromString(source)\n",
    "    val lexer = CalcLexer(input)\n",
    "    val tokens = CommonTokenStream(lexer)\n",
    "    val parser = CalcParser(tokens)\n",
    "    val tree = parser.program()\n",
    "    \n",
    "    Visitor().visit(tree)\n",
    "}"
   ]
  },
  {
   "cell_type": "code",
   "execution_count": 8,
   "metadata": {
    "cell_id": "192bc6be86254bf2bb0ca1ea0172bde3",
    "lambdacheck": {
     "check": {
      "_immediate": true,
      "_name": "",
      "display.text/plain": true,
      "output.stderr": true,
      "output.stdout": true,
      "result.text/plain": true
     },
     "layout": {
      "column_offset": 0,
      "column_span": 12,
      "row_span": 1
     }
    }
   },
   "outputs": [
    {
     "name": "stdout",
     "output_type": "stream",
     "text": [
      "> 3\n",
      "> 9\n",
      "> 6\n",
      "> 16\n",
      "> 256\n",
      "> 65536\n"
     ]
    }
   ],
   "source": [
    "val source = \"\"\"\n",
    "x = 2;\n",
    "y = 4;\n",
    "1 + 2;        // = 3\n",
    "(1+2)*3;      // 3*3 = 9\n",
    "x + y;        // 2+4 = 6\n",
    "x * (y + y);  // 2 * (4 + 4) = 16\n",
    "x = (x * x);  // x=2*2=4\n",
    "x = (x * x);  // x=4*4=16\n",
    "x = (x * x);  // x=16*16=256\n",
    "x\n",
    "x = (x * x);  // x=256*256=65536\n",
    "x;\n",
    "\"\"\"\n",
    "\n",
    "run(source)"
   ]
  },
  {
   "cell_type": "code",
   "execution_count": null,
   "metadata": {
    "cell_id": "b7074f296c314e108a566edcacbb6973"
   },
   "outputs": [],
   "source": []
  }
 ],
 "metadata": {
  "celltoolbar": "λ.check",
  "kernelspec": {
   "display_name": "Kotlin",
   "language": "kotlin",
   "name": "kotlin"
  },
  "language_info": {
   "codemirror_mode": "text/x-kotlin",
   "file_extension": ".kt",
   "mimetype": "text/x-kotlin",
   "name": "kotlin",
   "pygments_lexer": "kotlin",
   "version": "1.4.30-dev-3354"
  }
 },
 "nbformat": 4,
 "nbformat_minor": 4
}
