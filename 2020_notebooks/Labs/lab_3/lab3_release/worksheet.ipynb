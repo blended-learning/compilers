{
 "cells": [
  {
   "cell_type": "markdown",
   "metadata": {
    "cell_id": "3d981b7a01364d5eb07d83bfe2bc4d60",
    "editable": false
   },
   "source": [
    "# Lab2 : Recognizing strings of CFG using ANTLR\n",
    "\n",
    "In this lab, we will familiarize ourselves with building CFG driven parsers using ANTLR.\n",
    "\n",
    "## The language\n",
    "\n",
    "Recall the language of _balanced_ brackets is *not* regular, but can be expressed using CFG.\n",
    "\n",
    "Let's define a language involving only one type of token: `WORD`.\n",
    "\n",
    "A word is a string consisting of only characters from `a-z` and `A-Z`.  The token can be defined by the lexer rule:\n",
    "\n",
    "```\n",
    "WORD : ('a' .. 'z' | 'A' .. 'Z')+;\n",
    "```\n",
    "\n",
    "We will ignore whitespaces with the following lexer rule.\n",
    "\n",
    "```\n",
    "WHITESPACE : (' ' | '\\t' | '\\r' | '\\n')+ -> skip;\n",
    "```\n",
    "\n",
    "With the tokens defined, we can define a syntactic variable called `phrase`, and two alternations.  A phrase is a WORD but with\n",
    "zero or more balanced parentheses.\n",
    "\n",
    "```\n",
    "phrase : WORD\n",
    "       | '(' phrase ')'\n",
    "       ;\n",
    "```\n",
    "\n",
    "Finally, we will have a start symbol:\n",
    "\n",
    "```\n",
    "startSymbol : phrase;\n",
    "```"
   ]
  },
  {
   "cell_type": "markdown",
   "metadata": {
    "cell_id": "562b1a09ca9d40758ee4fb24cdee5678",
    "editable": false
   },
   "source": [
    "# Your Tasks\n",
    "\n",
    "In this lab, you will cover all the essential steps to author an ANTLR grammar.\n",
    "\n",
    "1. Author the lexer and parser rules in an ANTLR `mygrammar/My.g4` grammar file.\n",
    "    Make sure your grammar file contains the following header section:\n",
    "    ```\n",
    "    @header {\n",
    "    package mygrammar;\n",
    "    }\n",
    "    ```\n",
    "\n",
    "\n",
    "2. Compile Java `.class` files from the ANTLR grammar file.  Refer to the `Makefile` provide.\n",
    "\n",
    "\n",
    "3. Use Kotlin to access the generated grammar files."
   ]
  },
  {
   "cell_type": "markdown",
   "metadata": {
    "cell_id": "cdb30b788aa945be906261670e36f744",
    "editable": false,
    "lambdacheck": {
     "layout": {
      "column_offset": 0,
      "column_span": 4,
      "row_span": 10
     }
    }
   },
   "source": [
    "Load the dependencies.\n",
    "\n",
    "**Remember**: the kernel must be restarted whenver the `mygrammar` classes are recompiled."
   ]
  },
  {
   "cell_type": "code",
   "execution_count": null,
   "metadata": {
    "cell_id": "12375bebd82242d88413cde4ffa43079",
    "editable": false,
    "lambdacheck": {
     "layout": {
      "column_offset": 4,
      "column_span": 8
     }
    }
   },
   "outputs": [],
   "source": [
    "@file:DependsOn(\"/data/shared/antlr-4.9.1-complete.jar\")\n",
    "@file:DependsOn(\".\")"
   ]
  },
  {
   "cell_type": "markdown",
   "metadata": {
    "cell_id": "903758c8698a4f0da07e92d420632fd3",
    "editable": false,
    "lambdacheck": {
     "layout": {
      "column_offset": 0,
      "column_span": 4,
      "row_span": 10
     }
    }
   },
   "source": [
    "Import the necessary classes."
   ]
  },
  {
   "cell_type": "code",
   "execution_count": null,
   "metadata": {
    "cell_id": "7d2e6c7541ad4d018639274ed41d9004",
    "editable": false,
    "lambdacheck": {
     "layout": {
      "column_offset": 4,
      "column_span": 8
     }
    }
   },
   "outputs": [],
   "source": [
    "import org.antlr.v4.runtime.*\n",
    "import mygrammar.*"
   ]
  },
  {
   "cell_type": "markdown",
   "metadata": {
    "cell_id": "79a6ae343c6746d48bf6a310c37759e8",
    "editable": false,
    "lambdacheck": {
     "layout": {
      "column_offset": 0,
      "column_span": 4,
      "row_span": 10
     }
    }
   },
   "source": [
    "We will use our own error handler to be more vocal about parsing errors."
   ]
  },
  {
   "cell_type": "code",
   "execution_count": null,
   "metadata": {
    "cell_id": "c267b0bba2024d009f0f1c8cf6774d03",
    "editable": false,
    "lambdacheck": {
     "layout": {
      "column_offset": 4,
      "column_span": 8
     }
    }
   },
   "outputs": [],
   "source": [
    "val errorlistener = object: BaseErrorListener() {\n",
    "    override fun syntaxError(recognizer: Recognizer<*,*>,\n",
    "           offendingSymbol: Any?,\n",
    "           line: Int,\n",
    "           pos: Int,\n",
    "           msg: String,\n",
    "           e: RecognitionException?) {\n",
    "        throw Exception(\"${e} at line:${line}, char:${pos}\")\n",
    "    }\n",
    "}"
   ]
  },
  {
   "cell_type": "markdown",
   "metadata": {
    "cell_id": "79a6ae343c6746d48bf6a310c37759e8",
    "editable": false,
    "lambdacheck": {
     "layout": {
      "column_offset": 0,
      "column_span": 4,
      "row_span": 10
     }
    }
   },
   "source": [
    "Perform parsing:\n",
    "\n",
    "1. Construct lexer and parser.\n",
    "2. Use the custom error listener.\n",
    "3. Return the start symbol "
   ]
  },
  {
   "cell_type": "code",
   "execution_count": null,
   "metadata": {
    "cell_id": "c267b0bba2024d009f0f1c8cf6774d03",
    "editable": false,
    "lambdacheck": {
     "layout": {
      "column_offset": 4,
      "column_span": 8
     }
    }
   },
   "outputs": [],
   "source": [
    "fun parse(s: String): MyParser.StartSymbolContext? {\n",
    "    //\n",
    "    // Construct lexer and parser.\n",
    "    //\n",
    "    val input = CharStreams.fromString(s)\n",
    "    val lexer = MyLexer(input)\n",
    "    val tokens = CommonTokenStream(lexer)\n",
    "    val parser = MyParser(tokens)\n",
    "    \n",
    "    // Use our own error listener so it reports\n",
    "    // any parsing error\n",
    "    lexer.removeErrorListeners()\n",
    "    lexer.addErrorListener(errorlistener)\n",
    "    parser.removeErrorListeners()\n",
    "    parser.addErrorListener(errorlistener)\n",
    "\n",
    "    // Perform parsing, and return the context.\n",
    "    try {\n",
    "        return parser.startSymbol()\n",
    "    } catch(e: Exception) {\n",
    "        println(\"Parse Error: \" + e.message)\n",
    "        return null\n",
    "    }\n",
    "}"
   ]
  },
  {
   "cell_type": "markdown",
   "metadata": {
    "cell_id": "c58c1969c8704d50b68e9cae0a49d7d3",
    "editable": false,
    "lambdacheck": {
     "layout": {
      "column_offset": 0,
      "column_span": 4,
      "row_span": 10
     }
    }
   },
   "source": [
    "We can easily build a function that recognizes strings in the language."
   ]
  },
  {
   "cell_type": "code",
   "execution_count": null,
   "metadata": {
    "cell_id": "346ebd523ed740988d41468938b1d655",
    "editable": false,
    "lambdacheck": {
     "layout": {
      "column_offset": 4,
      "column_span": 8
     }
    }
   },
   "outputs": [],
   "source": [
    "fun recognize(s: String) = parse(s) != null"
   ]
  },
  {
   "cell_type": "markdown",
   "metadata": {
    "cell_id": "ef71b029bf154c358df9140b28d353a5",
    "editable": false
   },
   "source": [
    "# Test Cases"
   ]
  },
  {
   "cell_type": "markdown",
   "metadata": {
    "cell_id": "8e5f6857dcfd418ab50ef202adb7dabc",
    "editable": false,
    "lambdacheck": {
     "layout": {
      "column_offset": 0,
      "column_span": 4,
      "row_span": 10
     }
    }
   },
   "source": [
    "One can convince oneself that `(hello)` should belong to the language."
   ]
  },
  {
   "cell_type": "code",
   "execution_count": null,
   "metadata": {
    "cell_id": "12b1a28c61e14d64bba13725859a2e08",
    "editable": false,
    "lambdacheck": {
     "layout": {
      "column_offset": 4,
      "column_span": 8
     }
    }
   },
   "outputs": [],
   "source": [
    "recognize(\"(hello)\")"
   ]
  },
  {
   "cell_type": "markdown",
   "metadata": {
    "cell_id": "2cfa1c2e35a54a308a48c5f5c4f08145",
    "editable": false,
    "lambdacheck": {
     "layout": {
      "column_offset": 0,
      "column_span": 4,
      "row_span": 10
     }
    }
   },
   "source": [
    "In fact any level of balanced parentheses should be accepted: like `(((world)))`"
   ]
  },
  {
   "cell_type": "code",
   "execution_count": null,
   "metadata": {
    "cell_id": "0149e139d8314c6483903a135e9f9a1d",
    "editable": false,
    "lambdacheck": {
     "layout": {
      "column_offset": 4,
      "column_span": 8
     }
    }
   },
   "outputs": [],
   "source": [
    "recognize(\"(((world)))\")"
   ]
  },
  {
   "cell_type": "markdown",
   "metadata": {
    "cell_id": "e7c7776edfb64bd1a15f7ce932612445",
    "editable": false,
    "lambdacheck": {
     "layout": {
      "column_offset": 0,
      "column_span": 4,
      "row_span": 10
     }
    }
   },
   "source": [
    "But `(hello` should be rejected."
   ]
  },
  {
   "cell_type": "code",
   "execution_count": null,
   "metadata": {
    "cell_id": "1ea261a4a4fe4042a2abf2d2faa21891",
    "editable": false,
    "lambdacheck": {
     "layout": {
      "column_offset": 4,
      "column_span": 8
     }
    }
   },
   "outputs": [],
   "source": [
    "recognize(\"(hello\")"
   ]
  },
  {
   "cell_type": "markdown",
   "metadata": {
    "cell_id": "266109852c044a41abd0cb44c49e97b2",
    "editable": false,
    "lambdacheck": {
     "layout": {
      "column_offset": 0,
      "column_span": 4,
      "row_span": 10
     }
    }
   },
   "source": [
    "Since only a WORD can exist between parenthese, `(123)` is also rejected."
   ]
  },
  {
   "cell_type": "code",
   "execution_count": null,
   "metadata": {
    "cell_id": "cfac23078e244fbaa9a7fc0b1bb2cb55",
    "editable": false,
    "lambdacheck": {
     "layout": {
      "column_offset": 4,
      "column_span": 8
     }
    }
   },
   "outputs": [],
   "source": [
    "recognize(\"(123)\")"
   ]
  },
  {
   "cell_type": "markdown",
   "metadata": {
    "cell_id": "520c35266d4b48f8b2f244dffe9e526d",
    "editable": false,
    "lambdacheck": {
     "layout": {
      "column_offset": 0,
      "column_span": 4,
      "row_span": 10
     }
    }
   },
   "source": [
    "We should also reject `(hello world)` because we only allow one word between the parenthese."
   ]
  },
  {
   "cell_type": "code",
   "execution_count": null,
   "metadata": {
    "cell_id": "dff170e2a9e7446cafb36afa1e469041",
    "editable": false,
    "lambdacheck": {
     "layout": {
      "column_offset": 4,
      "column_span": 8
     }
    }
   },
   "outputs": [],
   "source": [
    "recognize(\"(hello world)\")"
   ]
  },
  {
   "cell_type": "markdown",
   "metadata": {
    "cell_id": "853c29a5af0040f1ba3b0e288b280b00",
    "editable": false,
    "lambdacheck": {
     "layout": {
      "column_offset": 0,
      "column_span": 4,
      "row_span": 10
     }
    }
   },
   "source": [
    "Clearly `(hello))` should be rejected.  If you are not careful, you will find that this gets accepted.\n",
    "\n",
    "If you fail this test, make sure you terminate your `startSymbol` with an EOF token."
   ]
  },
  {
   "cell_type": "code",
   "execution_count": null,
   "metadata": {
    "cell_id": "31b36724d88d440190dae5e52393699b",
    "editable": false,
    "lambdacheck": {
     "layout": {
      "column_offset": 4,
      "column_span": 8
     }
    }
   },
   "outputs": [],
   "source": [
    "recognize(\"(hello))\")"
   ]
  }
 ],
 "metadata": {
  "celltoolbar": "λ.check",
  "kernelspec": {
   "display_name": "Kotlin",
   "language": "kotlin",
   "name": "kotlin"
  },
  "lambdacheck": {
   "worksheet": true
  },
  "language_info": {
   "codemirror_mode": "text/x-kotlin",
   "file_extension": ".kt",
   "mimetype": "text/x-kotlin",
   "name": "kotlin",
   "pygments_lexer": "kotlin",
   "version": "1.4.30-dev-3354"
  }
 },
 "nbformat": 4,
 "nbformat_minor": 4
}
