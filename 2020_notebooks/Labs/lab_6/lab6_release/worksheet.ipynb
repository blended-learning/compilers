{
 "cells": [
  {
   "cell_type": "code",
   "execution_count": null,
   "metadata": {
    "cell_id": "f2b872cafc114de78f994e0277570619",
    "editable": false
   },
   "outputs": [],
   "source": [
    "@file:DependsOn(\".\")"
   ]
  },
  {
   "cell_type": "code",
   "execution_count": null,
   "metadata": {
    "cell_id": "0b1e78afb57648ff9846db7db77ef10f",
    "editable": false
   },
   "outputs": [],
   "source": [
    "import backend.*"
   ]
  },
  {
   "cell_type": "markdown",
   "metadata": {
    "cell_id": "08d37d33b32449d7889e7693f77b52bc",
    "editable": false,
    "lambdacheck": {
     "layout": {
      "column_offset": 0,
      "column_span": 4,
      "row_span": 10
     }
    }
   },
   "source": [
    "This is the interpreter's main function."
   ]
  },
  {
   "cell_type": "code",
   "execution_count": null,
   "metadata": {
    "cell_id": "4a91cd8f89e548a7a7aaa6fe08ae5aa1",
    "editable": false,
    "lambdacheck": {
     "layout": {
      "column_offset": 4,
      "column_span": 8
     }
    }
   },
   "outputs": [],
   "source": [
    "fun run(program: Expr) {\n",
    "    try {\n",
    "        val data = program.eval(Context())\n",
    "        println(\"> ${data}\")\n",
    "    } catch(e: Exception) {\n",
    "        println(\"[error] ${e}\")\n",
    "    }\n",
    "}"
   ]
  },
  {
   "cell_type": "code",
   "execution_count": null,
   "metadata": {
    "cell_id": "1083ec4271464b2994d55c9b976046ca",
    "editable": false,
    "lambdacheck": {
     "check": {
      "_check_id": "1083ec4271464b2994d55c9b976046ca",
      "_immediate": true,
      "_name": "",
      "display.text/plain": true,
      "output.stderr": true,
      "output.stdout": true,
      "result.text/plain": true
     },
     "outputs": [
      {
       "name": "stdout",
       "output_type": "stream",
       "text": "> Int(10)\n"
      }
     ]
    }
   },
   "outputs": [],
   "source": [
    "run(IntLiteral(10))"
   ]
  },
  {
   "cell_type": "code",
   "execution_count": null,
   "metadata": {
    "cell_id": "cb311c8bd9de428cb192f6a892469cb9",
    "editable": false,
    "lambdacheck": {
     "check": {
      "_check_id": "cb311c8bd9de428cb192f6a892469cb9",
      "_immediate": true,
      "_name": "",
      "display.text/plain": true,
      "output.stderr": true,
      "output.stdout": true,
      "result.text/plain": true
     },
     "outputs": [
      {
       "name": "stdout",
       "output_type": "stream",
       "text": "[error] java.lang.Exception: function does not exist: f\n"
      }
     ]
    }
   },
   "outputs": [],
   "source": [
    "run(\n",
    "    Invoke(\"f\", listOf())\n",
    ")"
   ]
  },
  {
   "cell_type": "markdown",
   "metadata": {
    "cell_id": "1a5de7466e4e483aac20b4b8f2f37b06",
    "lambdacheck": {
     "layout": {
      "column_offset": 0,
      "column_span": 12
     },
     "workunit": {
      "id": "1a5de7466e4e483aac20b4b8f2f37b06",
      "type": "title"
     }
    }
   },
   "source": [
    "## Work Unit 1"
   ]
  },
  {
   "cell_type": "markdown",
   "metadata": {
    "cell_id": "aafd05155daf4b5c88b858e23f51fdc6",
    "editable": false,
    "lambdacheck": {
     "layout": {
      "column_offset": 0,
      "column_span": 4,
      "row_span": 2
     },
     "workunit": {
      "id": "1a5de7466e4e483aac20b4b8f2f37b06",
      "type": "text"
     }
    }
   },
   "source": [
    "Implement a program which is equivalent to the following:\n",
    "\n",
    "```\n",
    "function factorial(i) {\n",
    "  if(i < 2)\n",
    "    1\n",
    "  else\n",
    "    i * factorial(i-1)\n",
    "}\n",
    "\n",
    "factorial(10)\n",
    "```"
   ]
  },
  {
   "cell_type": "code",
   "execution_count": null,
   "metadata": {
    "cell_id": "ce499345e4a148058cca324923d456de",
    "lambdacheck": {
     "layout": {
      "column_offset": 4,
      "column_span": 8
     },
     "workunit": {
      "id": "1a5de7466e4e483aac20b4b8f2f37b06",
      "type": "student-solution"
     }
    }
   },
   "outputs": [],
   "source": [
    "val program1 = ..."
   ]
  },
  {
   "cell_type": "code",
   "execution_count": null,
   "metadata": {
    "cell_id": "eee391513d4d42e9a6b07da31b22ef66",
    "editable": false,
    "lambdacheck": {
     "check": {
      "_check_id": "eee391513d4d42e9a6b07da31b22ef66",
      "_immediate": true,
      "_name": "",
      "display.text/plain": true,
      "output.stderr": true,
      "output.stdout": true,
      "result.text/plain": true
     },
     "outputs": [
      {
       "name": "stdout",
       "output_type": "stream",
       "text": "> Int(3628800)\n"
      }
     ]
    }
   },
   "outputs": [],
   "source": [
    "run(program1)"
   ]
  },
  {
   "cell_type": "markdown",
   "metadata": {
    "cell_id": "cbd8c3f0134340869c42ba830bbb6f58",
    "lambdacheck": {
     "layout": {
      "column_offset": 0,
      "column_span": 12
     },
     "workunit": {
      "id": "cbd8c3f0134340869c42ba830bbb6f58",
      "type": "title"
     }
    }
   },
   "source": [
    "## Work Unit 2"
   ]
  },
  {
   "cell_type": "markdown",
   "metadata": {
    "cell_id": "aac814431e4a4a178a67b4c41141042f",
    "editable": false,
    "lambdacheck": {
     "layout": {
      "column_offset": 0,
      "column_span": 4,
      "row_span": 2
     },
     "workunit": {
      "id": "cbd8c3f0134340869c42ba830bbb6f58",
      "type": "text"
     }
    }
   },
   "source": [
    "Implement a program equivalent to the following:\n",
    "\n",
    "```\n",
    "function fac(i) {\n",
    "  prod = 1\n",
    "  counter = 1\n",
    "  loop(counter <= i) {\n",
    "    prod = prod * counter\n",
    "    counter = counter + 1\n",
    "  }\n",
    "}\n",
    "\n",
    "fac(10)\n",
    "```"
   ]
  },
  {
   "cell_type": "code",
   "execution_count": null,
   "metadata": {
    "cell_id": "03895701b66045e481596a71b155cc0d",
    "lambdacheck": {
     "layout": {
      "column_offset": 4,
      "column_span": 8
     },
     "workunit": {
      "id": "cbd8c3f0134340869c42ba830bbb6f58",
      "type": "student-solution"
     }
    }
   },
   "outputs": [],
   "source": [
    "val program2 = ..."
   ]
  },
  {
   "cell_type": "code",
   "execution_count": null,
   "metadata": {
    "cell_id": "19ecbfc190764cff831bb65c5cb6c1dd",
    "editable": false,
    "lambdacheck": {
     "check": {
      "_check_id": "19ecbfc190764cff831bb65c5cb6c1dd",
      "_immediate": true,
      "_name": "",
      "display.text/plain": true,
      "output.stderr": true,
      "output.stdout": true,
      "result.text/plain": true
     },
     "outputs": [
      {
       "name": "stdout",
       "output_type": "stream",
       "text": "> Int(3628800)\n"
      }
     ]
    }
   },
   "outputs": [],
   "source": [
    "run(program2)"
   ]
  }
 ],
 "metadata": {
  "celltoolbar": "λ.check",
  "kernelspec": {
   "display_name": "Kotlin",
   "language": "kotlin",
   "name": "kotlin"
  },
  "lambdacheck": {
   "worksheet": true
  },
  "language_info": {
   "codemirror_mode": "text/x-kotlin",
   "file_extension": ".kt",
   "mimetype": "text/x-kotlin",
   "name": "kotlin",
   "pygments_lexer": "kotlin",
   "version": "1.4.30-dev-3354"
  }
 },
 "nbformat": 4,
 "nbformat_minor": 4
}
