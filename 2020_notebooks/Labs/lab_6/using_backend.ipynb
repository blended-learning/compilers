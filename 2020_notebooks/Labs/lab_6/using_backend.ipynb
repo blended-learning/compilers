{
 "cells": [
  {
   "cell_type": "code",
   "execution_count": 1,
   "metadata": {
    "cell_id": "f2b872cafc114de78f994e0277570619"
   },
   "outputs": [],
   "source": [
    "@file:DependsOn(\".\")"
   ]
  },
  {
   "cell_type": "code",
   "execution_count": 2,
   "metadata": {
    "cell_id": "0b1e78afb57648ff9846db7db77ef10f"
   },
   "outputs": [
    {
     "name": "stderr",
     "output_type": "stream",
     "text": [
      "Line_1.jupyter.kts (1:8 - 15) Unresolved reference: backend"
     ]
    }
   ],
   "source": [
    "import backend.*"
   ]
  },
  {
   "cell_type": "markdown",
   "metadata": {
    "cell_id": "08d37d33b32449d7889e7693f77b52bc",
    "lambdacheck": {
     "layout": {
      "column_offset": 0,
      "column_span": 4,
      "row_span": 10
     }
    }
   },
   "source": [
    "This is the interpreter's main function."
   ]
  },
  {
   "cell_type": "code",
   "execution_count": 23,
   "metadata": {
    "cell_id": "4a91cd8f89e548a7a7aaa6fe08ae5aa1",
    "lambdacheck": {
     "layout": {
      "column_offset": 4,
      "column_span": 8
     }
    }
   },
   "outputs": [],
   "source": [
    "fun run(program: Expr) {\n",
    "    try {\n",
    "        val data = program.eval(Context())\n",
    "        println(\"> ${data}\")\n",
    "    } catch(e: Exception) {\n",
    "        println(\"[error] ${e}\")\n",
    "    }\n",
    "}"
   ]
  },
  {
   "cell_type": "code",
   "execution_count": 24,
   "metadata": {
    "cell_id": "1083ec4271464b2994d55c9b976046ca",
    "lambdacheck": {
     "check": {
      "_immediate": true,
      "_name": "",
      "display.text/plain": true,
      "output.stderr": true,
      "output.stdout": true,
      "result.text/plain": true
     }
    }
   },
   "outputs": [
    {
     "name": "stdout",
     "output_type": "stream",
     "text": [
      "> Int(10)\n"
     ]
    }
   ],
   "source": [
    "run(IntLiteral(10))"
   ]
  },
  {
   "cell_type": "code",
   "execution_count": 25,
   "metadata": {
    "cell_id": "cb311c8bd9de428cb192f6a892469cb9",
    "lambdacheck": {
     "check": {
      "_immediate": true,
      "_name": "",
      "display.text/plain": true,
      "output.stderr": true,
      "output.stdout": true,
      "result.text/plain": true
     }
    }
   },
   "outputs": [
    {
     "name": "stdout",
     "output_type": "stream",
     "text": [
      "[error] java.lang.Exception: function does not exist: f\n"
     ]
    }
   ],
   "source": [
    "run(\n",
    "    Invoke(\"f\", listOf())\n",
    ")"
   ]
  },
  {
   "cell_type": "markdown",
   "metadata": {
    "cell_id": "1a5de7466e4e483aac20b4b8f2f37b06",
    "lambdacheck": {
     "layout": {
      "column_offset": 0,
      "column_span": 12
     },
     "workunit": {
      "id": "1a5de7466e4e483aac20b4b8f2f37b06",
      "type": "title"
     }
    }
   },
   "source": [
    "## Work Unit 1"
   ]
  },
  {
   "cell_type": "markdown",
   "metadata": {
    "cell_id": "aafd05155daf4b5c88b858e23f51fdc6",
    "lambdacheck": {
     "layout": {
      "column_offset": 0,
      "column_span": 4,
      "row_span": 2
     },
     "workunit": {
      "id": "1a5de7466e4e483aac20b4b8f2f37b06",
      "type": "text"
     }
    }
   },
   "source": [
    "Implement a program which is equivalent to the following:\n",
    "\n",
    "```\n",
    "function factorial(i) {\n",
    "  if(i < 2)\n",
    "    1\n",
    "  else\n",
    "    i * factorial(i-1)\n",
    "}\n",
    "\n",
    "factorial(10)\n",
    "```"
   ]
  },
  {
   "cell_type": "raw",
   "metadata": {
    "cell_id": "72de0b190a334d53b9cc678a7c38d04f",
    "lambdacheck": {
     "layout": {
      "column_offset": 4,
      "column_span": 8
     },
     "workunit": {
      "id": "1a5de7466e4e483aac20b4b8f2f37b06",
      "type": "template"
     }
    }
   },
   "source": [
    "val program1 = ..."
   ]
  },
  {
   "cell_type": "code",
   "execution_count": 26,
   "metadata": {
    "cell_id": "ce499345e4a148058cca324923d456de",
    "lambdacheck": {
     "layout": {
      "column_offset": 4,
      "column_span": 8
     },
     "workunit": {
      "id": "1a5de7466e4e483aac20b4b8f2f37b06",
      "type": "solution"
     }
    }
   },
   "outputs": [],
   "source": [
    "val program1 = Block(listOf(\n",
    "    Declare(\"factorial\",\n",
    "        listOf(\"i\"),\n",
    "        IfElse(\n",
    "           Compare(Comparator.LT, Deref(\"i\"), IntLiteral(2)),\n",
    "           IntLiteral(1),\n",
    "           Arithmetic(Op.Mul,\n",
    "                      Deref(\"i\"),\n",
    "                      Invoke(\"factorial\", listOf(Arithmetic(Op.Sub,\n",
    "                                                            Deref(\"i\"),\n",
    "                                                            IntLiteral(1)))))\n",
    "       )),\n",
    "    Invoke(\"factorial\", listOf(IntLiteral(10)))\n",
    "))"
   ]
  },
  {
   "cell_type": "code",
   "execution_count": 27,
   "metadata": {
    "cell_id": "eee391513d4d42e9a6b07da31b22ef66",
    "lambdacheck": {
     "check": {
      "_immediate": true,
      "_name": "",
      "display.text/plain": true,
      "output.stderr": true,
      "output.stdout": true,
      "result.text/plain": true
     }
    }
   },
   "outputs": [
    {
     "name": "stdout",
     "output_type": "stream",
     "text": [
      "> Int(3628800)\n"
     ]
    }
   ],
   "source": [
    "run(program1)"
   ]
  },
  {
   "cell_type": "markdown",
   "metadata": {
    "cell_id": "cbd8c3f0134340869c42ba830bbb6f58",
    "lambdacheck": {
     "layout": {
      "column_offset": 0,
      "column_span": 12
     },
     "workunit": {
      "id": "cbd8c3f0134340869c42ba830bbb6f58",
      "type": "title"
     }
    }
   },
   "source": [
    "## Work Unit 2"
   ]
  },
  {
   "cell_type": "markdown",
   "metadata": {
    "cell_id": "aac814431e4a4a178a67b4c41141042f",
    "lambdacheck": {
     "layout": {
      "column_offset": 0,
      "column_span": 4,
      "row_span": 2
     },
     "workunit": {
      "id": "cbd8c3f0134340869c42ba830bbb6f58",
      "type": "text"
     }
    }
   },
   "source": [
    "Implement a program equivalent to the following:\n",
    "\n",
    "```\n",
    "function fac(i) {\n",
    "  prod = 1\n",
    "  counter = 1\n",
    "  loop(counter <= i) {\n",
    "    prod = prod * counter\n",
    "    counter = counter + 1\n",
    "  }\n",
    "}\n",
    "\n",
    "fac(10)\n",
    "```"
   ]
  },
  {
   "cell_type": "raw",
   "metadata": {
    "cell_id": "3e215129dad44f0cafee9318f9b5d1d7",
    "lambdacheck": {
     "layout": {
      "column_offset": 4,
      "column_span": 8
     },
     "workunit": {
      "id": "cbd8c3f0134340869c42ba830bbb6f58",
      "type": "template"
     }
    }
   },
   "source": [
    "val program2 = ..."
   ]
  },
  {
   "cell_type": "code",
   "execution_count": 30,
   "metadata": {
    "cell_id": "03895701b66045e481596a71b155cc0d",
    "lambdacheck": {
     "layout": {
      "column_offset": 4,
      "column_span": 8
     },
     "workunit": {
      "id": "cbd8c3f0134340869c42ba830bbb6f58",
      "type": "solution"
     }
    }
   },
   "outputs": [],
   "source": [
    "val program2 = Block(listOf(\n",
    "    Declare(\n",
    "        \"fac\",\n",
    "        listOf(\"i\"),\n",
    "        Block(\n",
    "            listOf(\n",
    "                Bind(\"prod\", IntLiteral(1)),\n",
    "                Bind(\"counter\", IntLiteral(1)),\n",
    "                Loop(\n",
    "                    Compare(Comparator.LE, Deref(\"counter\"), Deref(\"i\")),\n",
    "                    Block(\n",
    "                        listOf(\n",
    "                            Bind(\"prod\", Arithmetic(Op.Mul, \n",
    "                                                    Deref(\"prod\"),\n",
    "                                                    Deref(\"counter\"))),\n",
    "                            Bind(\"counter\", Arithmetic(Op.Add,\n",
    "                                                       Deref(\"counter\"),\n",
    "                                                       IntLiteral(1))),\n",
    "                        )\n",
    "                    )\n",
    "                ),\n",
    "                Deref(\"prod\")\n",
    "            )\n",
    "        )),\n",
    "    Invoke(\"fac\", listOf(IntLiteral(10)))\n",
    "))"
   ]
  },
  {
   "cell_type": "code",
   "execution_count": 31,
   "metadata": {
    "cell_id": "19ecbfc190764cff831bb65c5cb6c1dd",
    "lambdacheck": {
     "check": {
      "_immediate": true,
      "_name": "",
      "display.text/plain": true,
      "output.stderr": true,
      "output.stdout": true,
      "result.text/plain": true
     }
    }
   },
   "outputs": [
    {
     "name": "stdout",
     "output_type": "stream",
     "text": [
      "> Int(3628800)\n"
     ]
    }
   ],
   "source": [
    "run(program2)"
   ]
  }
 ],
 "metadata": {
  "celltoolbar": "λ.check",
  "kernelspec": {
   "display_name": "Kotlin",
   "language": "kotlin",
   "name": "kotlin"
  },
  "language_info": {
   "codemirror_mode": "text/x-kotlin",
   "file_extension": ".kt",
   "mimetype": "text/x-kotlin",
   "name": "kotlin",
   "nbconvert_exporter": "",
   "pygments_lexer": "kotlin",
   "version": "1.6.20-dev-3702"
  }
 },
 "nbformat": 4,
 "nbformat_minor": 4
}
