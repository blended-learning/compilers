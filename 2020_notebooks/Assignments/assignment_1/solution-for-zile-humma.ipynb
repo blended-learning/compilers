{
 "cells": [
  {
   "cell_type": "markdown",
   "metadata": {
    "cell_id": "557e55c11ef44cb08206314fda373c1e",
    "editable": false
   },
   "source": [
    "# Lexical Analysis Using ANTLR\n",
    "\n",
    "In this assignment, you will be working using ANTLR to perform lexical analysis of a fictitious programming language.\n",
    "\n",
    "You are required to perform lexical analysis on several test files.\n",
    "\n",
    "1. Complete mylexer/MyLexer.g5 with the appropriate token types and lexer rules.\n",
    "\n",
    "\n",
    "\n",
    "2. Complete the Kotlin extension function in Work Unit 1, which is used by `analyze(...)` function given in this worksheet.\n",
    "\n",
    "\n",
    "Your code is expected to pass all the checkpoints."
   ]
  },
  {
   "cell_type": "markdown",
   "metadata": {
    "cell_id": "229bc161d9c3479b94c5efec6a1708a7",
    "editable": false,
    "lambdacheck": {
     "layout": {
      "column_offset": 0,
      "column_span": 4,
      "row_span": 10
     }
    }
   },
   "source": [
    "We need to load the dependencies into the Kotlin kernel.\n",
    "\n",
    "1. ANTLR runtime classes that are needed to perform lexical analysis.\n",
    "\n",
    "\n",
    "2. Your compiled lexer classes."
   ]
  },
  {
   "cell_type": "code",
   "execution_count": 1,
   "metadata": {
    "cell_id": "e264b45ed93640fc8afca157a6da3de4",
    "editable": false,
    "execution": {
     "iopub.execute_input": "2021-03-11T01:38:41.096661Z",
     "iopub.status.busy": "2021-03-11T01:38:41.095382Z",
     "iopub.status.idle": "2021-03-11T01:38:47.147940Z",
     "shell.execute_reply": "2021-03-11T01:38:47.147320Z"
    },
    "lambdacheck": {
     "layout": {
      "column_offset": 4,
      "column_span": 8
     }
    }
   },
   "outputs": [],
   "source": [
    "@file:DependsOn(\"/data/shared/antlr-4.9.1-complete.jar\")\n",
    "@file:DependsOn(\".\")"
   ]
  },
  {
   "cell_type": "markdown",
   "metadata": {
    "cell_id": "8f889495be9045b693e4b21ab08c865f",
    "editable": false,
    "lambdacheck": {
     "layout": {
      "column_offset": 0,
      "column_span": 4,
      "row_span": 10
     }
    }
   },
   "source": [
    "Since the dependencies are loaded into Kotlin, we can import the needed classes."
   ]
  },
  {
   "cell_type": "code",
   "execution_count": 2,
   "metadata": {
    "cell_id": "bdda7b2126d74ed2803a83c82d58f227",
    "editable": false,
    "execution": {
     "iopub.execute_input": "2021-03-11T01:38:47.251925Z",
     "iopub.status.busy": "2021-03-11T01:38:47.251524Z",
     "iopub.status.idle": "2021-03-11T01:38:47.431854Z",
     "shell.execute_reply": "2021-03-11T01:38:47.373141Z"
    },
    "lambdacheck": {
     "layout": {
      "column_offset": 4,
      "column_span": 8
     }
    }
   },
   "outputs": [],
   "source": [
    "import org.antlr.v4.runtime.*\n",
    "import mylexer.MyLexer"
   ]
  },
  {
   "cell_type": "markdown",
   "metadata": {
    "cell_id": "b7ad81eae712448096ee93bd88c1f3eb",
    "lambdacheck": {
     "layout": {
      "column_offset": 0,
      "column_span": 12
     },
     "workunit": {
      "id": "b7ad81eae712448096ee93bd88c1f3eb",
      "type": "title"
     }
    }
   },
   "source": [
    "## Work Unit 1"
   ]
  },
  {
   "cell_type": "markdown",
   "metadata": {
    "cell_id": "6f0cef85e41c47efaf742bfd156842d6",
    "editable": false,
    "lambdacheck": {
     "layout": {
      "column_offset": 0,
      "column_span": 4,
      "row_span": 2
     },
     "workunit": {
      "id": "b7ad81eae712448096ee93bd88c1f3eb",
      "type": "text"
     }
    }
   },
   "source": [
    "You need to extended the Token class with a `print(lexer)` method which will print the following information:\n",
    "\n",
    "1. token lexeme\n",
    "2. token type as defined in by the lexer.\n",
    "3. line number of the token.\n",
    "4. character position of the token.\n",
    "\n",
    "Hint: use the `lexer.tokenNames` to look up the token type name."
   ]
  },
  {
   "cell_type": "code",
   "execution_count": 3,
   "metadata": {
    "cell_id": "b5fcb4eadf674b65816bba5cf1ab7440",
    "execution": {
     "iopub.execute_input": "2021-03-11T01:38:47.534674Z",
     "iopub.status.busy": "2021-03-11T01:38:47.534000Z",
     "iopub.status.idle": "2021-03-11T01:38:48.937368Z",
     "shell.execute_reply": "2021-03-11T01:38:48.936792Z"
    },
    "lambdacheck": {
     "layout": {
      "column_offset": 4,
      "column_span": 8
     },
     "workunit": {
      "id": "b7ad81eae712448096ee93bd88c1f3eb",
      "type": "student-solution"
     }
    }
   },
   "outputs": [],
   "source": [
    "fun Token.print(lexer: MyLexer) {\n",
    "    val text = this.text;\n",
    "    val line = this.line;\n",
    "    val pos = this.charPositionInLine;\n",
    "    val type = this.type;\n",
    "    val typename = if(type < 0) \"EOF\" else lexer.tokenNames[type];\n",
    "    println(\"lexeme=\\\"${text}\\\" type=${typename} line=${line} position=${pos}\")\n",
    "}"
   ]
  },
  {
   "cell_type": "markdown",
   "metadata": {
    "cell_id": "130a501acbf44d72895d29273adcc01a",
    "editable": false,
    "lambdacheck": {
     "layout": {
      "column_offset": 0,
      "column_span": 4,
      "row_span": 10
     }
    }
   },
   "source": [
    "This function uses your `Token.print` and the lexical analyzer to print out the tokens of a given file."
   ]
  },
  {
   "cell_type": "code",
   "execution_count": 4,
   "metadata": {
    "cell_id": "1ec6b6aec66743fd84b1e410e4f7e74b",
    "editable": false,
    "execution": {
     "iopub.execute_input": "2021-03-11T01:38:49.039753Z",
     "iopub.status.busy": "2021-03-11T01:38:49.039333Z",
     "iopub.status.idle": "2021-03-11T01:38:50.045109Z",
     "shell.execute_reply": "2021-03-11T01:38:50.044553Z"
    },
    "lambdacheck": {
     "layout": {
      "column_offset": 4,
      "column_span": 8
     }
    }
   },
   "outputs": [],
   "source": [
    "fun analyze(filename: String) {\n",
    "    val input = ANTLRFileStream(filename)\n",
    "    val lexer: MyLexer = MyLexer(input)\n",
    "\n",
    "    lexer.addErrorListener(object: BaseErrorListener() {\n",
    "      override fun syntaxError(recognizer: Recognizer<*,*>,\n",
    "                   offendingSymbol: Any?,\n",
    "                   line: Int,\n",
    "                   pos: Int,\n",
    "                   msg: String,\n",
    "                   e: RecognitionException) {\n",
    "          throw Exception(\"${e} at line:${line}, char:${pos}\")\n",
    "      }\n",
    "    })\n",
    "    \n",
    "    val tokens = CommonTokenStream(lexer)\n",
    "    \n",
    "    try {\n",
    "        tokens.fill()\n",
    "        tokens.getTokens().forEach {\n",
    "            it.print(lexer)\n",
    "        }\n",
    "    } catch(e: Exception) {\n",
    "        print(e)\n",
    "    }\n",
    "}"
   ]
  },
  {
   "cell_type": "markdown",
   "metadata": {
    "cell_id": "dd09a59d0d514e569174e27f3cd59370",
    "editable": false
   },
   "source": [
    "# Checkpoints"
   ]
  },
  {
   "cell_type": "code",
   "execution_count": 5,
   "metadata": {
    "cell_id": "fe277d8682b941e186405faee46217a9",
    "editable": false,
    "execution": {
     "iopub.execute_input": "2021-03-11T01:38:50.147177Z",
     "iopub.status.busy": "2021-03-11T01:38:50.146769Z",
     "iopub.status.idle": "2021-03-11T01:38:50.331443Z",
     "shell.execute_reply": "2021-03-11T01:38:50.330997Z"
    },
    "lambdacheck": {
     "check": {
      "_check_id": "fe277d8682b941e186405faee46217a9",
      "_immediate": true,
      "_name": "identifiers",
      "display.text/plain": true,
      "output.stderr": true,
      "output.stdout": true,
      "result.text/plain": true
     },
     "outputs": [
      {
       "name": "stdout",
       "output_type": "stream",
       "text": "lexeme=\"hello\" type=ID line=1 position=0\nlexeme=\"world\" type=ID line=2 position=0\nlexeme=\"<EOF>\" type=EOF line=3 position=0\n"
      }
     ]
    }
   },
   "outputs": [
    {
     "name": "stdout",
     "output_type": "stream",
     "text": [
      "lexeme=\"hello\" type=ID line=1 position=0\n",
      "lexeme=\"world\" type=ID line=2 position=0\n"
     ]
    },
    {
     "name": "stdout",
     "output_type": "stream",
     "text": [
      "lexeme=\"<EOF>\" type=EOF line=3 position=0\n"
     ]
    }
   ],
   "source": [
    "analyze(\"./tests/identifiers.src\")"
   ]
  },
  {
   "cell_type": "code",
   "execution_count": 6,
   "metadata": {
    "cell_id": "8570443e0d2047a38f73bc36d498f54d",
    "editable": false,
    "execution": {
     "iopub.execute_input": "2021-03-11T01:38:50.433690Z",
     "iopub.status.busy": "2021-03-11T01:38:50.433290Z",
     "iopub.status.idle": "2021-03-11T01:38:50.545552Z",
     "shell.execute_reply": "2021-03-11T01:38:50.545110Z"
    },
    "lambdacheck": {
     "check": {
      "_check_id": "8570443e0d2047a38f73bc36d498f54d",
      "_immediate": true,
      "_name": "keywords",
      "display.text/plain": true,
      "output.stderr": true,
      "output.stdout": true,
      "result.text/plain": true
     },
     "outputs": [
      {
       "name": "stdout",
       "output_type": "stream",
       "text": "lexeme=\"var\" type=KEYWORD line=1 position=0\nlexeme=\"as\" type=KEYWORD line=2 position=1\nlexeme=\"return\" type=KEYWORD line=3 position=2\nlexeme=\"if\" type=KEYWORD line=4 position=3\nlexeme=\"else\" type=KEYWORD line=4 position=6\nlexeme=\"<EOF>\" type=EOF line=6 position=0\n"
      }
     ]
    }
   },
   "outputs": [
    {
     "name": "stdout",
     "output_type": "stream",
     "text": [
      "lexeme=\"var\" type=KEYWORD line=1 position=0\n",
      "lexeme=\"as\" type=KEYWORD line=2 position=1\n"
     ]
    },
    {
     "name": "stdout",
     "output_type": "stream",
     "text": [
      "lexeme=\"return\" type=KEYWORD line=3 position=2\n",
      "lexeme=\"if\" type=KEYWORD line=4 position=3\n"
     ]
    },
    {
     "name": "stdout",
     "output_type": "stream",
     "text": [
      "lexeme=\"else\" type=KEYWORD line=4 position=6\n",
      "lexeme=\"<EOF>\" type=EOF line=6 position=0\n"
     ]
    }
   ],
   "source": [
    "analyze(\"./tests/keywords.src\")"
   ]
  },
  {
   "cell_type": "code",
   "execution_count": 7,
   "metadata": {
    "cell_id": "960a569776a84b259fb73615916f753d",
    "editable": false,
    "execution": {
     "iopub.execute_input": "2021-03-11T01:38:50.648616Z",
     "iopub.status.busy": "2021-03-11T01:38:50.648103Z",
     "iopub.status.idle": "2021-03-11T01:38:50.836066Z",
     "shell.execute_reply": "2021-03-11T01:38:50.835623Z"
    },
    "lambdacheck": {
     "check": {
      "_check_id": "960a569776a84b259fb73615916f753d",
      "_immediate": true,
      "_name": "numbers",
      "display.text/plain": true,
      "output.stderr": true,
      "output.stdout": true,
      "result.text/plain": true
     },
     "outputs": [
      {
       "name": "stdout",
       "output_type": "stream",
       "text": "lexeme=\"1\" type=NUM line=1 position=0\nlexeme=\"12\" type=NUM line=2 position=0\nlexeme=\"123\" type=NUM line=3 position=0\nlexeme=\"-1\" type=NUM line=5 position=0\nlexeme=\"-12\" type=NUM line=6 position=0\nlexeme=\"-123\" type=NUM line=7 position=0\nlexeme=\"<EOF>\" type=EOF line=8 position=0\n"
      }
     ]
    }
   },
   "outputs": [
    {
     "name": "stdout",
     "output_type": "stream",
     "text": [
      "lexeme=\"1\" type=NUM line=1 position=0\n",
      "lexeme=\"12\" type=NUM line=2 position=0\n"
     ]
    },
    {
     "name": "stdout",
     "output_type": "stream",
     "text": [
      "lexeme=\"123\" type=NUM line=3 position=0\n",
      "lexeme=\"-1\" type=NUM line=5 position=0\n"
     ]
    },
    {
     "name": "stdout",
     "output_type": "stream",
     "text": [
      "lexeme=\"-12\" type=NUM line=6 position=0\n",
      "lexeme=\"-123\" type=NUM line=7 position=0\n"
     ]
    },
    {
     "name": "stdout",
     "output_type": "stream",
     "text": [
      "lexeme=\"<EOF>\" type=EOF line=8 position=0\n"
     ]
    }
   ],
   "source": [
    "analyze(\"./tests/nums.src\")"
   ]
  },
  {
   "cell_type": "code",
   "execution_count": 8,
   "metadata": {
    "cell_id": "fe5956a5acf6475496c59ebd67e787a2",
    "editable": false,
    "execution": {
     "iopub.execute_input": "2021-03-11T01:38:50.938538Z",
     "iopub.status.busy": "2021-03-11T01:38:50.938159Z",
     "iopub.status.idle": "2021-03-11T01:38:51.054425Z",
     "shell.execute_reply": "2021-03-11T01:38:51.054020Z"
    },
    "lambdacheck": {
     "check": {
      "_check_id": "fe5956a5acf6475496c59ebd67e787a2",
      "_immediate": true,
      "_name": "strings",
      "display.text/plain": true,
      "output.stderr": true,
      "output.stdout": true,
      "result.text/plain": true
     },
     "outputs": [
      {
       "name": "stdout",
       "output_type": "stream",
       "text": "lexeme=\"\"hello world\"\" type=STRING line=1 position=0\nlexeme=\"\"This course is \\\"CSCI 4020U\\\"\"\" type=STRING line=3 position=0\nlexeme=\"\"\"\" type=STRING line=5 position=0\nlexeme=\"<EOF>\" type=EOF line=7 position=0\n"
      }
     ]
    }
   },
   "outputs": [
    {
     "name": "stdout",
     "output_type": "stream",
     "text": [
      "lexeme=\"\"hello world\"\" type=STRING line=1 position=0\n"
     ]
    },
    {
     "name": "stdout",
     "output_type": "stream",
     "text": [
      "lexeme=\"\"This course is \\\"CSCI 4020U\\\"\"\" type=STRING line=3 position=0\n"
     ]
    },
    {
     "name": "stdout",
     "output_type": "stream",
     "text": [
      "lexeme=\"\"\"\" type=STRING line=5 position=0\n",
      "lexeme=\"<EOF>\" type=EOF line=7 position=0\n"
     ]
    }
   ],
   "source": [
    "analyze(\"./tests/strings.src\")"
   ]
  },
  {
   "cell_type": "code",
   "execution_count": 9,
   "metadata": {
    "cell_id": "fa00299539cc4cc38de75246b2a62600",
    "editable": false,
    "execution": {
     "iopub.execute_input": "2021-03-11T01:38:51.156935Z",
     "iopub.status.busy": "2021-03-11T01:38:51.156541Z",
     "iopub.status.idle": "2021-03-11T01:38:51.241144Z",
     "shell.execute_reply": "2021-03-11T01:38:51.241536Z"
    },
    "lambdacheck": {
     "check": {
      "_check_id": "fa00299539cc4cc38de75246b2a62600",
      "_immediate": true,
      "_name": "chars",
      "display.text/plain": true,
      "output.stderr": true,
      "output.stdout": true,
      "result.text/plain": true
     },
     "outputs": [
      {
       "name": "stdout",
       "output_type": "stream",
       "text": "lexeme=\"'a'\" type=CHAR line=1 position=0\nlexeme=\"'b'\" type=CHAR line=2 position=0\nlexeme=\"'d'\" type=CHAR line=3 position=0\nlexeme=\"'\\\\'\" type=CHAR line=4 position=0\nlexeme=\"'\\n'\" type=CHAR line=5 position=0\nlexeme=\"<EOF>\" type=EOF line=6 position=0\n"
      }
     ]
    }
   },
   "outputs": [
    {
     "name": "stdout",
     "output_type": "stream",
     "text": [
      "lexeme=\"'a'\" type=CHAR line=1 position=0\n",
      "lexeme=\"'b'\" type=CHAR line=2 position=0\n"
     ]
    },
    {
     "name": "stdout",
     "output_type": "stream",
     "text": [
      "lexeme=\"'d'\" type=CHAR line=3 position=0\n",
      "lexeme=\"'\\\\'\" type=CHAR line=4 position=0\n"
     ]
    },
    {
     "name": "stdout",
     "output_type": "stream",
     "text": [
      "lexeme=\"'\\n'\" type=CHAR line=5 position=0\n",
      "lexeme=\"<EOF>\" type=EOF line=6 position=0\n"
     ]
    }
   ],
   "source": [
    "analyze(\"./tests/chars.src\")"
   ]
  },
  {
   "cell_type": "code",
   "execution_count": 10,
   "metadata": {
    "cell_id": "2128e1b0a31f44eab0303772b3282ffa",
    "editable": false,
    "execution": {
     "iopub.execute_input": "2021-03-11T01:38:51.344112Z",
     "iopub.status.busy": "2021-03-11T01:38:51.343715Z",
     "iopub.status.idle": "2021-03-11T01:38:51.442616Z",
     "shell.execute_reply": "2021-03-11T01:38:51.442208Z"
    },
    "lambdacheck": {
     "check": {
      "_check_id": "2128e1b0a31f44eab0303772b3282ffa",
      "_immediate": true,
      "_name": "program 1",
      "_points": 2,
      "display.text/plain": true,
      "output.stderr": true,
      "output.stdout": true,
      "result.text/plain": true
     },
     "outputs": [
      {
       "name": "stdout",
       "output_type": "stream",
       "text": "lexeme=\"/* a.src\nThis is a simple addition of two integers.\n*/\" type=COMMENT line=1 position=0\nlexeme=\"var\" type=KEYWORD line=5 position=0\nlexeme=\"x\" type=ID line=5 position=4\nlexeme=\"as\" type=KEYWORD line=5 position=6\nlexeme=\"Int\" type=ID line=5 position=9\nlexeme=\"(\" type='(' line=5 position=12\nlexeme=\"12\" type=NUM line=5 position=13\nlexeme=\")\" type=')' line=5 position=15\nlexeme=\";\" type=';' line=5 position=16\nlexeme=\"var\" type=KEYWORD line=6 position=0\nlexeme=\"y\" type=ID line=6 position=4\nlexeme=\"as\" type=KEYWORD line=6 position=6\nlexeme=\"Int\" type=ID line=6 position=9\nlexeme=\"(\" type='(' line=6 position=12\nlexeme=\"21\" type=NUM line=6 position=13\nlexeme=\")\" type=')' line=6 position=15\nlexeme=\";\" type=';' line=6 position=16\nlexeme=\"print\" type=ID line=8 position=0\nlexeme=\"(\" type='(' line=8 position=5\nlexeme=\"x\" type=ID line=8 position=6\nlexeme=\"+\" type='+' line=8 position=8\nlexeme=\"y\" type=ID line=8 position=10\nlexeme=\")\" type=')' line=8 position=11\nlexeme=\";\" type=';' line=8 position=12\nlexeme=\"<EOF>\" type=EOF line=9 position=0\n"
      }
     ]
    }
   },
   "outputs": [
    {
     "name": "stdout",
     "output_type": "stream",
     "text": [
      "lexeme=\"/* a.src\n",
      "This is a simple addition of two integers.\n",
      "*/\" type=COMMENT line=1 position=0\n"
     ]
    },
    {
     "name": "stdout",
     "output_type": "stream",
     "text": [
      "lexeme=\"var\" type=KEYWORD line=5 position=0\n",
      "lexeme=\"x\" type=ID line=5 position=4\n"
     ]
    },
    {
     "name": "stdout",
     "output_type": "stream",
     "text": [
      "lexeme=\"as\" type=KEYWORD line=5 position=6\n",
      "lexeme=\"Int\" type=ID line=5 position=9\n"
     ]
    },
    {
     "name": "stdout",
     "output_type": "stream",
     "text": [
      "lexeme=\"(\" type='(' line=5 position=12\n",
      "lexeme=\"12\" type=NUM line=5 position=13\n"
     ]
    },
    {
     "name": "stdout",
     "output_type": "stream",
     "text": [
      "lexeme=\")\" type=')' line=5 position=15\n",
      "lexeme=\";\" type=';' line=5 position=16\n"
     ]
    },
    {
     "name": "stdout",
     "output_type": "stream",
     "text": [
      "lexeme=\"var\" type=KEYWORD line=6 position=0\n",
      "lexeme=\"y\" type=ID line=6 position=4\n"
     ]
    },
    {
     "name": "stdout",
     "output_type": "stream",
     "text": [
      "lexeme=\"as\" type=KEYWORD line=6 position=6\n",
      "lexeme=\"Int\" type=ID line=6 position=9\n"
     ]
    },
    {
     "name": "stdout",
     "output_type": "stream",
     "text": [
      "lexeme=\"(\" type='(' line=6 position=12\n",
      "lexeme=\"21\" type=NUM line=6 position=13\n"
     ]
    },
    {
     "name": "stdout",
     "output_type": "stream",
     "text": [
      "lexeme=\")\" type=')' line=6 position=15\n",
      "lexeme=\";\" type=';' line=6 position=16\n"
     ]
    },
    {
     "name": "stdout",
     "output_type": "stream",
     "text": [
      "lexeme=\"print\" type=ID line=8 position=0\n",
      "lexeme=\"(\" type='(' line=8 position=5\n"
     ]
    },
    {
     "name": "stdout",
     "output_type": "stream",
     "text": [
      "lexeme=\"x\" type=ID line=8 position=6\n",
      "lexeme=\"+\" type='+' line=8 position=8\n"
     ]
    },
    {
     "name": "stdout",
     "output_type": "stream",
     "text": [
      "lexeme=\"y\" type=ID line=8 position=10\n",
      "lexeme=\")\" type=')' line=8 position=11\n"
     ]
    },
    {
     "name": "stdout",
     "output_type": "stream",
     "text": [
      "lexeme=\";\" type=';' line=8 position=12\n",
      "lexeme=\"<EOF>\" type=EOF line=9 position=0\n"
     ]
    }
   ],
   "source": [
    "analyze(\"./tests/a.src\")"
   ]
  },
  {
   "cell_type": "code",
   "execution_count": 11,
   "metadata": {
    "cell_id": "b38fd676320644ecb399ccf260bb5ff6",
    "editable": false,
    "execution": {
     "iopub.execute_input": "2021-03-11T01:38:51.545015Z",
     "iopub.status.busy": "2021-03-11T01:38:51.544614Z",
     "iopub.status.idle": "2021-03-11T01:38:51.732120Z",
     "shell.execute_reply": "2021-03-11T01:38:51.731646Z"
    },
    "lambdacheck": {
     "check": {
      "_check_id": "b38fd676320644ecb399ccf260bb5ff6",
      "_immediate": true,
      "_name": "program 2",
      "_points": 3,
      "display.text/plain": true,
      "output.stderr": true,
      "output.stdout": true,
      "result.text/plain": true
     },
     "outputs": [
      {
       "name": "stdout",
       "output_type": "stream",
       "text": "lexeme=\"/* b.src\nThis implements a function that finds the index of a letter in\na text.\n*/\" type=COMMENT line=1 position=0\nlexeme=\"function\" type=KEYWORD line=6 position=0\nlexeme=\"f\" type=ID line=6 position=9\nlexeme=\"(\" type='(' line=6 position=10\nlexeme=\"text\" type=ID line=6 position=11\nlexeme=\",\" type=',' line=6 position=15\nlexeme=\"letter\" type=ID line=6 position=17\nlexeme=\")\" type=')' line=6 position=23\nlexeme=\"{\" type='{' line=6 position=25\nlexeme=\"for\" type=ID line=7 position=2\nlexeme=\"(\" type='(' line=7 position=5\nlexeme=\"(\" type='(' line=7 position=6\nlexeme=\"i\" type=ID line=7 position=7\nlexeme=\",\" type=',' line=7 position=8\nlexeme=\"c\" type=ID line=7 position=9\nlexeme=\")\" type=')' line=7 position=10\nlexeme=\"in\" type=ID line=7 position=12\nlexeme=\"enumerate\" type=ID line=7 position=15\nlexeme=\"(\" type='(' line=7 position=24\nlexeme=\"text\" type=ID line=7 position=25\nlexeme=\")\" type=')' line=7 position=29\nlexeme=\")\" type=')' line=7 position=30\nlexeme=\"{\" type='{' line=7 position=32\nlexeme=\"if\" type=KEYWORD line=8 position=4\nlexeme=\"(\" type='(' line=8 position=6\nlexeme=\"c\" type=ID line=8 position=7\nlexeme=\"=\" type='=' line=8 position=9\nlexeme=\"=\" type='=' line=8 position=10\nlexeme=\"letter\" type=ID line=8 position=12\nlexeme=\")\" type=')' line=8 position=18\nlexeme=\"{\" type='{' line=8 position=20\nlexeme=\"return\" type=KEYWORD line=9 position=6\nlexeme=\"i\" type=ID line=9 position=13\nlexeme=\";\" type=';' line=9 position=14\nlexeme=\"}\" type='}' line=10 position=4\nlexeme=\"}\" type='}' line=11 position=2\nlexeme=\"}\" type='}' line=12 position=0\nlexeme=\"print\" type=ID line=14 position=0\nlexeme=\"(\" type='(' line=14 position=5\nlexeme=\"f\" type=ID line=14 position=6\nlexeme=\"(\" type='(' line=14 position=7\nlexeme=\"\"hello world\"\" type=STRING line=14 position=8\nlexeme=\",\" type=',' line=14 position=21\nlexeme=\"'o'\" type=CHAR line=14 position=23\nlexeme=\")\" type=')' line=14 position=26\nlexeme=\")\" type=')' line=14 position=27\nlexeme=\";\" type=';' line=14 position=28\nlexeme=\"print\" type=ID line=15 position=0\nlexeme=\"(\" type='(' line=15 position=5\nlexeme=\"f\" type=ID line=15 position=6\nlexeme=\"(\" type='(' line=15 position=7\nlexeme=\"\"hell\\\"o\\\" world\"\" type=STRING line=15 position=8\nlexeme=\",\" type=',' line=15 position=25\nlexeme=\"'\"'\" type=CHAR line=15 position=27\nlexeme=\")\" type=')' line=15 position=30\nlexeme=\")\" type=')' line=15 position=31\nlexeme=\";\" type=';' line=15 position=32\nlexeme=\"<EOF>\" type=EOF line=16 position=0\n"
      }
     ]
    }
   },
   "outputs": [
    {
     "name": "stdout",
     "output_type": "stream",
     "text": [
      "lexeme=\"/* b.src\n",
      "This implements a function that finds the index of a letter in\n",
      "a text.\n"
     ]
    },
    {
     "name": "stdout",
     "output_type": "stream",
     "text": [
      "*/\" type=COMMENT line=1 position=0\n",
      "lexeme=\"function\" type=KEYWORD line=6 position=0\n"
     ]
    },
    {
     "name": "stdout",
     "output_type": "stream",
     "text": [
      "lexeme=\"f\" type=ID line=6 position=9\n",
      "lexeme=\"(\" type='(' line=6 position=10\n"
     ]
    },
    {
     "name": "stdout",
     "output_type": "stream",
     "text": [
      "lexeme=\"text\" type=ID line=6 position=11\n",
      "lexeme=\",\" type=',' line=6 position=15\n"
     ]
    },
    {
     "name": "stdout",
     "output_type": "stream",
     "text": [
      "lexeme=\"letter\" type=ID line=6 position=17\n",
      "lexeme=\")\" type=')' line=6 position=23\n"
     ]
    },
    {
     "name": "stdout",
     "output_type": "stream",
     "text": [
      "lexeme=\"{\" type='{' line=6 position=25\n",
      "lexeme=\"for\" type=ID line=7 position=2\n"
     ]
    },
    {
     "name": "stdout",
     "output_type": "stream",
     "text": [
      "lexeme=\"(\" type='(' line=7 position=5\n",
      "lexeme=\"(\" type='(' line=7 position=6\n"
     ]
    },
    {
     "name": "stdout",
     "output_type": "stream",
     "text": [
      "lexeme=\"i\" type=ID line=7 position=7\n",
      "lexeme=\",\" type=',' line=7 position=8\n"
     ]
    },
    {
     "name": "stdout",
     "output_type": "stream",
     "text": [
      "lexeme=\"c\" type=ID line=7 position=9\n",
      "lexeme=\")\" type=')' line=7 position=10\n"
     ]
    },
    {
     "name": "stdout",
     "output_type": "stream",
     "text": [
      "lexeme=\"in\" type=ID line=7 position=12\n",
      "lexeme=\"enumerate\" type=ID line=7 position=15\n"
     ]
    },
    {
     "name": "stdout",
     "output_type": "stream",
     "text": [
      "lexeme=\"(\" type='(' line=7 position=24\n",
      "lexeme=\"text\" type=ID line=7 position=25\n"
     ]
    },
    {
     "name": "stdout",
     "output_type": "stream",
     "text": [
      "lexeme=\")\" type=')' line=7 position=29\n",
      "lexeme=\")\" type=')' line=7 position=30\n"
     ]
    },
    {
     "name": "stdout",
     "output_type": "stream",
     "text": [
      "lexeme=\"{\" type='{' line=7 position=32\n",
      "lexeme=\"if\" type=KEYWORD line=8 position=4\n"
     ]
    },
    {
     "name": "stdout",
     "output_type": "stream",
     "text": [
      "lexeme=\"(\" type='(' line=8 position=6\n",
      "lexeme=\"c\" type=ID line=8 position=7\n"
     ]
    },
    {
     "name": "stdout",
     "output_type": "stream",
     "text": [
      "lexeme=\"=\" type='=' line=8 position=9\n",
      "lexeme=\"=\" type='=' line=8 position=10\n"
     ]
    },
    {
     "name": "stdout",
     "output_type": "stream",
     "text": [
      "lexeme=\"letter\" type=ID line=8 position=12\n",
      "lexeme=\")\" type=')' line=8 position=18\n"
     ]
    },
    {
     "name": "stdout",
     "output_type": "stream",
     "text": [
      "lexeme=\"{\" type='{' line=8 position=20\n",
      "lexeme=\"return\" type=KEYWORD line=9 position=6\n"
     ]
    },
    {
     "name": "stdout",
     "output_type": "stream",
     "text": [
      "lexeme=\"i\" type=ID line=9 position=13\n",
      "lexeme=\";\" type=';' line=9 position=14\n"
     ]
    },
    {
     "name": "stdout",
     "output_type": "stream",
     "text": [
      "lexeme=\"}\" type='}' line=10 position=4\n",
      "lexeme=\"}\" type='}' line=11 position=2\n"
     ]
    },
    {
     "name": "stdout",
     "output_type": "stream",
     "text": [
      "lexeme=\"}\" type='}' line=12 position=0\n",
      "lexeme=\"print\" type=ID line=14 position=0\n"
     ]
    },
    {
     "name": "stdout",
     "output_type": "stream",
     "text": [
      "lexeme=\"(\" type='(' line=14 position=5\n",
      "lexeme=\"f\" type=ID line=14 position=6\n"
     ]
    },
    {
     "name": "stdout",
     "output_type": "stream",
     "text": [
      "lexeme=\"(\" type='(' line=14 position=7\n",
      "lexeme=\"\"hello world\"\" type=STRING line=14 position=8\n"
     ]
    },
    {
     "name": "stdout",
     "output_type": "stream",
     "text": [
      "lexeme=\",\" type=',' line=14 position=21\n",
      "lexeme=\"'o'\" type=CHAR line=14 position=23\n"
     ]
    },
    {
     "name": "stdout",
     "output_type": "stream",
     "text": [
      "lexeme=\")\" type=')' line=14 position=26\n",
      "lexeme=\")\" type=')' line=14 position=27\n"
     ]
    },
    {
     "name": "stdout",
     "output_type": "stream",
     "text": [
      "lexeme=\";\" type=';' line=14 position=28\n",
      "lexeme=\"print\" type=ID line=15 position=0\n"
     ]
    },
    {
     "name": "stdout",
     "output_type": "stream",
     "text": [
      "lexeme=\"(\" type='(' line=15 position=5\n",
      "lexeme=\"f\" type=ID line=15 position=6\n"
     ]
    },
    {
     "name": "stdout",
     "output_type": "stream",
     "text": [
      "lexeme=\"(\" type='(' line=15 position=7\n",
      "lexeme=\"\"hell\\\"o\\\" world\"\" type=STRING line=15 position=8\n"
     ]
    },
    {
     "name": "stdout",
     "output_type": "stream",
     "text": [
      "lexeme=\",\" type=',' line=15 position=25\n",
      "lexeme=\"'\"'\" type=CHAR line=15 position=27\n"
     ]
    },
    {
     "name": "stdout",
     "output_type": "stream",
     "text": [
      "lexeme=\")\" type=')' line=15 position=30\n",
      "lexeme=\")\" type=')' line=15 position=31\n"
     ]
    },
    {
     "name": "stdout",
     "output_type": "stream",
     "text": [
      "lexeme=\";\" type=';' line=15 position=32\n",
      "lexeme=\"<EOF>\" type=EOF line=16 position=0\n"
     ]
    }
   ],
   "source": [
    "analyze(\"./tests/b.src\")"
   ]
  }
 ],
 "metadata": {
  "celltoolbar": "λ.check",
  "kernelspec": {
   "display_name": "Kotlin",
   "language": "kotlin",
   "name": "kotlin"
  },
  "lambdacheck": {
   "worksheet": true
  },
  "language_info": {
   "codemirror_mode": "text/x-kotlin",
   "file_extension": ".kt",
   "mimetype": "text/x-kotlin",
   "name": "kotlin",
   "pygments_lexer": "kotlin",
   "version": "1.4.30-dev-3354"
  }
 },
 "nbformat": 4,
 "nbformat_minor": 4
}
