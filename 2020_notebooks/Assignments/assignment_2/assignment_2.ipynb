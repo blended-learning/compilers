{
 "cells": [
  {
   "cell_type": "markdown",
   "metadata": {
    "cell_id": "3cd8e75bef6247f0854dfed1d4292f30"
   },
   "source": [
    "# Assignment 2 - Parsing with CFG"
   ]
  },
  {
   "cell_type": "markdown",
   "metadata": {
    "cell_id": "83a27999457849cabbdaf91242935cae",
    "lambdacheck": {
     "layout": {
      "column_offset": 0,
      "column_span": 4,
      "row_span": 10
     }
    }
   },
   "source": [
    "## About the assignment"
   ]
  },
  {
   "cell_type": "markdown",
   "metadata": {
    "cell_id": "bc9a10c62ba549ce8b06bd658985c493",
    "lambdacheck": {
     "layout": {
      "column_offset": 4,
      "column_span": 8
     }
    }
   },
   "source": [
    "In this assignment, you will primarily focus on the ANTLR grammar of a simple procedural language.\n",
    "\n",
    "The language we wish to design supports the following:\n",
    "\n",
    "1. Arithemtic expressions.\n",
    "2. Numerical and string literals.\n",
    "3. Function calls.\n",
    "4. Variable assignments.\n",
    "5. Comments."
   ]
  },
  {
   "cell_type": "markdown",
   "metadata": {
    "cell_id": "a9a903929448440c8f83843083bb8e66",
    "lambdacheck": {
     "layout": {
      "column_offset": 0,
      "column_span": 4,
      "row_span": 10
     }
    }
   },
   "source": [
    "## The Syntax"
   ]
  },
  {
   "cell_type": "markdown",
   "metadata": {
    "cell_id": "525b13c923b54a0a80d8c308f6ddda77",
    "lambdacheck": {
     "layout": {
      "column_offset": 4,
      "column_span": 8
     }
    }
   },
   "source": [
    "The best way to understand the syntax is to review the test cases.  Make sure you understand the positive and negative test cases included in this Kotlin notebook.  The grammar can largely be described as the following components:\n",
    "\n",
    "1. Expressions\n",
    "\n",
    "\n",
    "2. Function calls\n",
    "\n",
    "\n",
    "3. Variable assignments\n",
    "\n",
    "    \n",
    "4. Statements\n",
    "\n",
    "\n",
    "5. Program"
   ]
  },
  {
   "cell_type": "markdown",
   "metadata": {
    "cell_id": "a9a903929448440c8f83843083bb8e66",
    "lambdacheck": {
     "layout": {
      "column_offset": 0,
      "column_span": 4,
      "row_span": 10
     }
    }
   },
   "source": [
    "## Expressions and Function Calls"
   ]
  },
  {
   "cell_type": "markdown",
   "metadata": {
    "cell_id": "525b13c923b54a0a80d8c308f6ddda77",
    "lambdacheck": {
     "layout": {
      "column_offset": 4,
      "column_span": 8
     }
    }
   },
   "source": [
    "\n",
    "1. Expressions\n",
    "\n",
    "    We support arithmetic expressions between numeric values and string values.\n",
    "    So, we allow any combinations of:\n",
    "    \n",
    "        - `1 + 2 * (3 - 4)`\n",
    "        - `\"hello\" * 2 + \"world\"`\n",
    "        \n",
    "    Expressions can also make use of variables:\n",
    "    \n",
    "        - `pi * radius * radius`\n",
    "        \n",
    "2. Function calls\n",
    "\n",
    "    The syntax allows a mixture of function calls as part of an expression.  An example of a function call is `cos(3.1415 / 4 + 0.1)`, or `range(0, 100)`.\n",
    "   "
   ]
  },
  {
   "cell_type": "markdown",
   "metadata": {
    "cell_id": "a9a903929448440c8f83843083bb8e66",
    "lambdacheck": {
     "layout": {
      "column_offset": 0,
      "column_span": 4,
      "row_span": 10
     }
    }
   },
   "source": [
    "## Variable Assignments and Statements"
   ]
  },
  {
   "cell_type": "markdown",
   "metadata": {
    "cell_id": "525b13c923b54a0a80d8c308f6ddda77",
    "lambdacheck": {
     "layout": {
      "column_offset": 4,
      "column_span": 8
     }
    }
   },
   "source": [
    "    \n",
    "3. Variable assignments\n",
    "\n",
    "    We can use variables, and assign them to expressions.  An example is:\n",
    "    \n",
    "    ```\n",
    "    let area = 3.1415 * 100\n",
    "    ```\n",
    "    \n",
    "4. Statements\n",
    "\n",
    "    A statement **always** ends with `;`.  Here are some examples of statements:\n",
    "    \n",
    "    - `1 + (2 * 3)`;\n",
    "    - `println(\"The answer is:\", 1 + 2);\n",
    "    - `let pi = 3.1415;`"
   ]
  },
  {
   "cell_type": "markdown",
   "metadata": {
    "cell_id": "a9a903929448440c8f83843083bb8e66",
    "lambdacheck": {
     "layout": {
      "column_offset": 0,
      "column_span": 4,
      "row_span": 10
     }
    }
   },
   "source": [
    "## The Program and other considerations"
   ]
  },
  {
   "cell_type": "markdown",
   "metadata": {
    "cell_id": "525b13c923b54a0a80d8c308f6ddda77",
    "lambdacheck": {
     "layout": {
      "column_offset": 4,
      "column_span": 8
     }
    }
   },
   "source": [
    "5. The `program` is the start symbol of the grammar.\n",
    "\n",
    "    It consists of zero or more statements, **followed** by `EOF`.\n",
    "    \n",
    "    \n",
    "    \n",
    "6. Comments and whitespaces are ignored.\n",
    "\n",
    "    Comments are the C-style multiline comments `/* ... */`.\n",
    "    Both comments and whitespaces (outside of strings) are ignored."
   ]
  },
  {
   "cell_type": "markdown",
   "metadata": {
    "cell_id": "c159834608da465284ff6e51d003b5f6"
   },
   "source": [
    "# Getting Started"
   ]
  },
  {
   "cell_type": "markdown",
   "metadata": {
    "cell_id": "74aa75689445482d89c4300ff9a91a71",
    "lambdacheck": {
     "layout": {
      "column_offset": 0,
      "column_span": 4,
      "row_span": 10
     }
    }
   },
   "source": [
    "Load the dependencies."
   ]
  },
  {
   "cell_type": "code",
   "execution_count": 1,
   "metadata": {
    "cell_id": "69db6ddd4eca4b028e380f170be43423",
    "lambdacheck": {
     "check": {
      "_immediate": true,
      "_name": "",
      "display.text/plain": true,
      "output.stderr": true,
      "output.stdout": true,
      "result.text/plain": true
     },
     "layout": {
      "column_offset": 4,
      "column_span": 8
     }
    }
   },
   "outputs": [],
   "source": [
    "@file:DependsOn(\"/data/shared/antlr-4.9.1-complete.jar\")\n",
    "@file:DependsOn(\".\")"
   ]
  },
  {
   "cell_type": "markdown",
   "metadata": {
    "cell_id": "74aa75689445482d89c4300ff9a91a71",
    "lambdacheck": {
     "layout": {
      "column_offset": 0,
      "column_span": 4,
      "row_span": 10
     }
    }
   },
   "source": [
    "Import the classes we need from the runtime library as well as the generated lexer and parsers."
   ]
  },
  {
   "cell_type": "code",
   "execution_count": 2,
   "metadata": {
    "cell_id": "c0debd76f94e47648f7513e5754cf440",
    "lambdacheck": {
     "check": {
      "_immediate": true,
      "_name": "",
      "display.text/plain": true,
      "output.stderr": true,
      "output.stdout": true,
      "result.text/plain": true
     },
     "layout": {
      "column_offset": 4,
      "column_span": 8
     }
    }
   },
   "outputs": [],
   "source": [
    "import org.antlr.v4.runtime.*\n",
    "import mygrammar.*"
   ]
  },
  {
   "cell_type": "markdown",
   "metadata": {
    "cell_id": "74aa75689445482d89c4300ff9a91a71",
    "lambdacheck": {
     "layout": {
      "column_offset": 0,
      "column_span": 4,
      "row_span": 10
     }
    }
   },
   "source": [
    "We will use a custom error handler to provide a standardized error message upon lexical analysis and parsing."
   ]
  },
  {
   "cell_type": "code",
   "execution_count": 3,
   "metadata": {
    "cell_id": "8d989b093b5740208d80b8d3445a8244",
    "lambdacheck": {
     "check": {
      "_immediate": true,
      "_name": "",
      "display.text/plain": true,
      "output.stderr": true,
      "output.stdout": true,
      "result.text/plain": true
     },
     "layout": {
      "column_offset": 4,
      "column_span": 8
     }
    }
   },
   "outputs": [],
   "source": [
    "fun makeErrorListener(name: String) = object: BaseErrorListener() {\n",
    "  override fun syntaxError(recognizer: Recognizer<*,*>,\n",
    "                          symbol: Any?,\n",
    "                          line: Int, pos: Int, message: String, e:RecognitionException?) {\n",
    "      var error = \"[${name} error at line=${line}]\"\n",
    "      if(message.length > 0) {\n",
    "          error += \": ${message}\"\n",
    "      }\n",
    "      throw Exception(error)\n",
    "  }  \n",
    "}"
   ]
  },
  {
   "cell_type": "markdown",
   "metadata": {
    "cell_id": "74aa75689445482d89c4300ff9a91a71",
    "lambdacheck": {
     "layout": {
      "column_offset": 0,
      "column_span": 4,
      "row_span": 10
     }
    }
   },
   "source": [
    "The `recognize` function will return `true` of the program does not have any syntax error, and `false` if syntax error is found.\n",
    "\n",
    "It will also print the error message associated with the exception thrown by the error listener."
   ]
  },
  {
   "cell_type": "code",
   "execution_count": 4,
   "metadata": {
    "cell_id": "556ac988fe5d4f6db0c7d65aff34c501",
    "lambdacheck": {
     "check": {
      "_immediate": true,
      "_name": "",
      "display.text/plain": true,
      "output.stderr": true,
      "output.stdout": true,
      "result.text/plain": true
     },
     "layout": {
      "column_offset": 4,
      "column_span": 8
     }
    }
   },
   "outputs": [],
   "source": [
    "fun recognize(source: String): Boolean {\n",
    "    val input = CharStreams.fromString(source)\n",
    "    val lexer = ExprLexer(input)\n",
    "    val tokens = CommonTokenStream(lexer)\n",
    "    val parser = ExprParser(tokens)\n",
    "    \n",
    "    // setup error listener\n",
    "    lexer.removeErrorListeners()\n",
    "    lexer.addErrorListener(makeErrorListener(\"LEXER\"))\n",
    "    \n",
    "    parser.removeErrorListeners()\n",
    "    parser.addErrorListener(makeErrorListener(\"PARSER\"))\n",
    "    \n",
    "    try {\n",
    "        parser.program()\n",
    "        return true\n",
    "    } catch(e: Exception) {\n",
    "        println(e.message)\n",
    "        return false\n",
    "    }\n",
    "}"
   ]
  },
  {
   "cell_type": "markdown",
   "metadata": {
    "cell_id": "1bfdddc044b64676855beb7c46c2def6"
   },
   "source": [
    "## Positive Test Cases"
   ]
  },
  {
   "cell_type": "markdown",
   "metadata": {
    "cell_id": "74aa75689445482d89c4300ff9a91a71",
    "lambdacheck": {
     "layout": {
      "column_offset": 0,
      "column_span": 4,
      "row_span": 10
     }
    }
   },
   "source": [
    "A simple expression can be a statement.\n",
    "\n",
    "Note that it must end with `;`."
   ]
  },
  {
   "cell_type": "code",
   "execution_count": 5,
   "metadata": {
    "cell_id": "4e32a2106ae344808710a4185f9ed2f8",
    "lambdacheck": {
     "check": {
      "_immediate": true,
      "_name": "",
      "display.text/plain": true,
      "output.stderr": true,
      "output.stdout": true,
      "result.text/plain": true
     },
     "layout": {
      "column_offset": 4,
      "column_span": 8
     }
    }
   },
   "outputs": [
    {
     "data": {
      "text/plain": [
       "true"
      ]
     },
     "execution_count": 5,
     "metadata": {
      "new_classpath": []
     },
     "output_type": "execute_result"
    }
   ],
   "source": [
    "val program = \"\"\"\n",
    "42;\n",
    "\"\"\"\n",
    "\n",
    "recognize(program)"
   ]
  },
  {
   "cell_type": "markdown",
   "metadata": {
    "cell_id": "74aa75689445482d89c4300ff9a91a71",
    "lambdacheck": {
     "layout": {
      "column_offset": 0,
      "column_span": 4,
      "row_span": 10
     }
    }
   },
   "source": [
    "This is another expression as a statement."
   ]
  },
  {
   "cell_type": "code",
   "execution_count": 6,
   "metadata": {
    "cell_id": "0b5360242a744137871ff6a5e85c111c",
    "lambdacheck": {
     "check": {
      "_immediate": true,
      "_name": "",
      "display.text/plain": true,
      "output.stderr": true,
      "output.stdout": true,
      "result.text/plain": true
     },
     "layout": {
      "column_offset": 4,
      "column_span": 8
     }
    }
   },
   "outputs": [
    {
     "data": {
      "text/plain": [
       "true"
      ]
     },
     "execution_count": 6,
     "metadata": {
      "new_classpath": []
     },
     "output_type": "execute_result"
    }
   ],
   "source": [
    "val program = \"\"\"\n",
    "42 + 90;\n",
    "\"\"\"\n",
    "\n",
    "recognize(program)"
   ]
  },
  {
   "cell_type": "markdown",
   "metadata": {
    "cell_id": "74aa75689445482d89c4300ff9a91a71",
    "lambdacheck": {
     "layout": {
      "column_offset": 0,
      "column_span": 4,
      "row_span": 10
     }
    }
   },
   "source": [
    "This is an expression involving both numeric and string literals, as a statement."
   ]
  },
  {
   "cell_type": "code",
   "execution_count": 7,
   "metadata": {
    "cell_id": "e7ce4eb32aa84cfdbe1061ad825820ee",
    "lambdacheck": {
     "check": {
      "_immediate": true,
      "_name": "",
      "display.text/plain": true,
      "output.stderr": true,
      "output.stdout": true,
      "result.text/plain": true
     },
     "layout": {
      "column_offset": 4,
      "column_span": 8
     }
    }
   },
   "outputs": [
    {
     "data": {
      "text/plain": [
       "true"
      ]
     },
     "execution_count": 7,
     "metadata": {
      "new_classpath": []
     },
     "output_type": "execute_result"
    }
   ],
   "source": [
    "val program = \"\"\"\n",
    "42 + (\"hello\");\n",
    "\"\"\"\n",
    "\n",
    "recognize(program)"
   ]
  },
  {
   "cell_type": "markdown",
   "metadata": {
    "cell_id": "74aa75689445482d89c4300ff9a91a71",
    "lambdacheck": {
     "layout": {
      "column_offset": 0,
      "column_span": 4,
      "row_span": 10
     }
    }
   },
   "source": [
    "This is an expression with two strings."
   ]
  },
  {
   "cell_type": "code",
   "execution_count": 8,
   "metadata": {
    "cell_id": "1f97c703c8864bbd8f374580b77e5c4a",
    "lambdacheck": {
     "check": {
      "_immediate": true,
      "_name": "",
      "display.text/plain": true,
      "output.stderr": true,
      "output.stdout": true,
      "result.text/plain": true
     },
     "layout": {
      "column_offset": 4,
      "column_span": 8
     }
    }
   },
   "outputs": [
    {
     "data": {
      "text/plain": [
       "true"
      ]
     },
     "execution_count": 8,
     "metadata": {
      "new_classpath": []
     },
     "output_type": "execute_result"
    }
   ],
   "source": [
    "val program = \"\"\"\n",
    "\"hello\" + \"world\";\n",
    "\"\"\"\n",
    "\n",
    "recognize(program)"
   ]
  },
  {
   "cell_type": "markdown",
   "metadata": {
    "cell_id": "74aa75689445482d89c4300ff9a91a71",
    "lambdacheck": {
     "layout": {
      "column_offset": 0,
      "column_span": 4,
      "row_span": 10
     }
    }
   },
   "source": [
    "Function calls can be statements."
   ]
  },
  {
   "cell_type": "code",
   "execution_count": 9,
   "metadata": {
    "cell_id": "479a4f02f1b2492c8034796b989981d2",
    "lambdacheck": {
     "check": {
      "_immediate": true,
      "_name": "",
      "display.text/plain": true,
      "output.stderr": true,
      "output.stdout": true,
      "result.text/plain": true
     },
     "layout": {
      "column_offset": 4,
      "column_span": 8
     }
    }
   },
   "outputs": [
    {
     "data": {
      "text/plain": [
       "true"
      ]
     },
     "execution_count": 9,
     "metadata": {
      "new_classpath": []
     },
     "output_type": "execute_result"
    }
   ],
   "source": [
    "val program = \"\"\"\n",
    "sin(90);\n",
    "\"\"\"\n",
    "\n",
    "recognize(program)"
   ]
  },
  {
   "cell_type": "markdown",
   "metadata": {
    "cell_id": "74aa75689445482d89c4300ff9a91a71",
    "lambdacheck": {
     "layout": {
      "column_offset": 0,
      "column_span": 4,
      "row_span": 10
     }
    }
   },
   "source": [
    "Here, we have a function call with an expression as an argument."
   ]
  },
  {
   "cell_type": "code",
   "execution_count": 10,
   "metadata": {
    "cell_id": "bd4a78cc6d5644f3b965a9fcc2af9728",
    "lambdacheck": {
     "check": {
      "_immediate": true,
      "_name": "",
      "display.text/plain": true,
      "output.stderr": true,
      "output.stdout": true,
      "result.text/plain": true
     },
     "layout": {
      "column_offset": 4,
      "column_span": 8
     }
    }
   },
   "outputs": [
    {
     "data": {
      "text/plain": [
       "true"
      ]
     },
     "execution_count": 10,
     "metadata": {
      "new_classpath": []
     },
     "output_type": "execute_result"
    }
   ],
   "source": [
    "val program = \"\"\"\n",
    "sin(90 + 10);\n",
    "\"\"\"\n",
    "\n",
    "recognize(program)"
   ]
  },
  {
   "cell_type": "markdown",
   "metadata": {
    "cell_id": "74aa75689445482d89c4300ff9a91a71",
    "lambdacheck": {
     "layout": {
      "column_offset": 0,
      "column_span": 4,
      "row_span": 10
     }
    }
   },
   "source": [
    "We have a nested function call, where `range` has two arguments, both are simple expressions."
   ]
  },
  {
   "cell_type": "code",
   "execution_count": 11,
   "metadata": {
    "cell_id": "46654c84a30547f98583ee4378263168",
    "lambdacheck": {
     "check": {
      "_immediate": true,
      "_name": "",
      "display.text/plain": true,
      "output.stderr": true,
      "output.stdout": true,
      "result.text/plain": true
     },
     "layout": {
      "column_offset": 4,
      "column_span": 8
     }
    }
   },
   "outputs": [
    {
     "data": {
      "text/plain": [
       "true"
      ]
     },
     "execution_count": 11,
     "metadata": {
      "new_classpath": []
     },
     "output_type": "execute_result"
    }
   ],
   "source": [
    "val program = \"\"\"\n",
    "sum(range(0, 100));\n",
    "\"\"\"\n",
    "\n",
    "recognize(program)"
   ]
  },
  {
   "cell_type": "markdown",
   "metadata": {
    "cell_id": "74aa75689445482d89c4300ff9a91a71",
    "lambdacheck": {
     "layout": {
      "column_offset": 0,
      "column_span": 4,
      "row_span": 10
     }
    }
   },
   "source": [
    "Assignments can be statements."
   ]
  },
  {
   "cell_type": "code",
   "execution_count": 12,
   "metadata": {
    "cell_id": "788c0978595844d3b46f111f232590d7",
    "lambdacheck": {
     "check": {
      "_immediate": true,
      "_name": "",
      "display.text/plain": true,
      "output.stderr": true,
      "output.stdout": true,
      "result.text/plain": true
     },
     "layout": {
      "column_offset": 4,
      "column_span": 8
     }
    }
   },
   "outputs": [
    {
     "data": {
      "text/plain": [
       "true"
      ]
     },
     "execution_count": 12,
     "metadata": {
      "new_classpath": []
     },
     "output_type": "execute_result"
    }
   ],
   "source": [
    "val program = \"\"\"\n",
    "let pi = 3.1415;\n",
    "\"\"\"\n",
    "\n",
    "recognize(program)"
   ]
  },
  {
   "cell_type": "markdown",
   "metadata": {
    "cell_id": "74aa75689445482d89c4300ff9a91a71",
    "lambdacheck": {
     "layout": {
      "column_offset": 0,
      "column_span": 4,
      "row_span": 10
     }
    }
   },
   "source": [
    "Here is a program with two statements."
   ]
  },
  {
   "cell_type": "code",
   "execution_count": 13,
   "metadata": {
    "cell_id": "fb0a0f741c6944008bc75712f49cdf01",
    "lambdacheck": {
     "check": {
      "_immediate": true,
      "_name": "",
      "display.text/plain": true,
      "output.stderr": true,
      "output.stdout": true,
      "result.text/plain": true
     },
     "layout": {
      "column_offset": 4,
      "column_span": 8
     }
    }
   },
   "outputs": [
    {
     "data": {
      "text/plain": [
       "true"
      ]
     },
     "execution_count": 13,
     "metadata": {
      "new_classpath": []
     },
     "output_type": "execute_result"
    }
   ],
   "source": [
    "val program = \"\"\"\n",
    "let pi = 3.1415;\n",
    "let radius = 10;\n",
    "\"\"\"\n",
    "\n",
    "recognize(program)"
   ]
  },
  {
   "cell_type": "markdown",
   "metadata": {
    "cell_id": "74aa75689445482d89c4300ff9a91a71",
    "lambdacheck": {
     "layout": {
      "column_offset": 0,
      "column_span": 4,
      "row_span": 10
     }
    }
   },
   "source": [
    "Here is a program with multiple statements."
   ]
  },
  {
   "cell_type": "code",
   "execution_count": 14,
   "metadata": {
    "cell_id": "696fbd67522040c6848b8cd66ba639cf",
    "lambdacheck": {
     "check": {
      "_immediate": true,
      "_name": "",
      "display.text/plain": true,
      "output.stderr": true,
      "output.stdout": true,
      "result.text/plain": true
     },
     "layout": {
      "column_offset": 4,
      "column_span": 8
     }
    }
   },
   "outputs": [
    {
     "data": {
      "text/plain": [
       "true"
      ]
     },
     "execution_count": 14,
     "metadata": {
      "new_classpath": []
     },
     "output_type": "execute_result"
    }
   ],
   "source": [
    "val program = \"\"\"\n",
    "let pi = 3.1415;\n",
    "let radius = 10;\n",
    "let area = pi * power(radius, 2);\n",
    "println(\"area is\", area);\n",
    "\"\"\"\n",
    "\n",
    "recognize(program)"
   ]
  },
  {
   "cell_type": "markdown",
   "metadata": {
    "cell_id": "74aa75689445482d89c4300ff9a91a71",
    "lambdacheck": {
     "layout": {
      "column_offset": 0,
      "column_span": 4,
      "row_span": 10
     }
    }
   },
   "source": [
    "Here is a program with some multi-line comments."
   ]
  },
  {
   "cell_type": "code",
   "execution_count": 15,
   "metadata": {
    "cell_id": "24a92729fd5f47d08bcefabf3f803f66",
    "lambdacheck": {
     "check": {
      "_immediate": true,
      "_name": "",
      "display.text/plain": true,
      "output.stderr": true,
      "output.stdout": true,
      "result.text/plain": true
     },
     "layout": {
      "column_offset": 4,
      "column_span": 8
     }
    }
   },
   "outputs": [
    {
     "data": {
      "text/plain": [
       "true"
      ]
     },
     "execution_count": 15,
     "metadata": {
      "new_classpath": []
     },
     "output_type": "execute_result"
    }
   ],
   "source": [
    "val program = \"\"\"\n",
    "let pi = 3.1415;\n",
    "let radius = 10;\n",
    "\n",
    "/*\n",
    " * Area is π * r * r\n",
    " */\n",
    "\n",
    "let area = pi * power(radius, 2);\n",
    "\n",
    "/*-------------------------------\n",
    "  print the area of semi-circle \n",
    "  ------------------------------- */\n",
    "\n",
    "println(\"area is\", area / 2);\n",
    "\"\"\"\n",
    "\n",
    "recognize(program)"
   ]
  },
  {
   "cell_type": "markdown",
   "metadata": {
    "cell_id": "74aa75689445482d89c4300ff9a91a71",
    "lambdacheck": {
     "layout": {
      "column_offset": 0,
      "column_span": 4,
      "row_span": 10
     }
    }
   },
   "source": [
    "Since all whitespaces outside of strings are ignored, each statement can span over multiple lines as long as it ends with `;`."
   ]
  },
  {
   "cell_type": "code",
   "execution_count": 16,
   "metadata": {
    "cell_id": "d125aac55f2546768fca30853ea88bf1",
    "lambdacheck": {
     "check": {
      "_immediate": true,
      "_name": "",
      "display.text/plain": true,
      "output.stderr": true,
      "output.stdout": true,
      "result.text/plain": true
     },
     "layout": {
      "column_offset": 4,
      "column_span": 8
     }
    }
   },
   "outputs": [
    {
     "data": {
      "text/plain": [
       "true"
      ]
     },
     "execution_count": 16,
     "metadata": {
      "new_classpath": []
     },
     "output_type": "execute_result"
    }
   ],
   "source": [
    "val program = \"\"\"\n",
    "let pi = 3.1415;\n",
    "let radius = 10;\n",
    "let area = \n",
    "  pi * \n",
    "  power(\n",
    "      radius,\n",
    "      2\n",
    "  )\n",
    "  ;\n",
    "\n",
    "println(\n",
    "  \"area is\",\n",
    "  area\n",
    ");\n",
    "\"\"\"\n",
    "\n",
    "recognize(program)"
   ]
  },
  {
   "cell_type": "markdown",
   "metadata": {
    "cell_id": "1be0a29fb30341d6bf9aa346b40a29a2"
   },
   "source": [
    "## Negative Test Cases"
   ]
  },
  {
   "cell_type": "markdown",
   "metadata": {
    "cell_id": "2489bd8e53a3471a8816606dfc88275e",
    "lambdacheck": {
     "layout": {
      "column_offset": 0,
      "column_span": 4,
      "row_span": 10
     }
    }
   },
   "source": [
    "An expression must end with `;` when used as a statement."
   ]
  },
  {
   "cell_type": "code",
   "execution_count": 17,
   "metadata": {
    "cell_id": "5c5d27835d294d7f8ee43a853c480c0d",
    "lambdacheck": {
     "check": {
      "_immediate": true,
      "_name": "",
      "display.text/plain": true,
      "output.stderr": true,
      "output.stdout": true,
      "result.text/plain": true
     },
     "layout": {
      "column_offset": 4,
      "column_span": 8
     }
    }
   },
   "outputs": [
    {
     "name": "stdout",
     "output_type": "stream",
     "text": [
      "[PARSER error at line=1]: missing ';' at '<EOF>'\n"
     ]
    },
    {
     "data": {
      "text/plain": [
       "false"
      ]
     },
     "execution_count": 17,
     "metadata": {
      "new_classpath": []
     },
     "output_type": "execute_result"
    }
   ],
   "source": [
    "val program = \"\"\"\n",
    "1 + 2\n",
    "\"\"\".trimIndent()\n",
    "\n",
    "recognize(program)"
   ]
  },
  {
   "cell_type": "markdown",
   "metadata": {
    "cell_id": "74aa75689445482d89c4300ff9a91a71",
    "lambdacheck": {
     "layout": {
      "column_offset": 0,
      "column_span": 4,
      "row_span": 10
     }
    }
   },
   "source": [
    "The second expression does not end with `;`."
   ]
  },
  {
   "cell_type": "code",
   "execution_count": 18,
   "metadata": {
    "cell_id": "fb3a5383e7b344468145da9d807b10fb",
    "lambdacheck": {
     "check": {
      "_immediate": true,
      "_name": "",
      "display.text/plain": true,
      "output.stderr": true,
      "output.stdout": true,
      "result.text/plain": true
     },
     "layout": {
      "column_offset": 4,
      "column_span": 8
     }
    }
   },
   "outputs": [
    {
     "name": "stdout",
     "output_type": "stream",
     "text": [
      "[PARSER error at line=1]: missing ';' at '<EOF>'\n"
     ]
    },
    {
     "data": {
      "text/plain": [
       "false"
      ]
     },
     "execution_count": 18,
     "metadata": {
      "new_classpath": []
     },
     "output_type": "execute_result"
    }
   ],
   "source": [
    "val program = \"\"\"\n",
    "(1 + 2); (1 + 2)\n",
    "\"\"\".trimIndent()\n",
    "\n",
    "recognize(program)"
   ]
  },
  {
   "cell_type": "markdown",
   "metadata": {
    "cell_id": "74aa75689445482d89c4300ff9a91a71",
    "lambdacheck": {
     "layout": {
      "column_offset": 0,
      "column_span": 4,
      "row_span": 10
     }
    }
   },
   "source": [
    "The second statement is incomplete."
   ]
  },
  {
   "cell_type": "code",
   "execution_count": 26,
   "metadata": {
    "cell_id": "47ef40f22abf4ff6824ccafa74b06196",
    "lambdacheck": {
     "check": {
      "_immediate": true,
      "_name": "",
      "display.text/plain": true,
      "output.stderr": true,
      "output.stdout": true,
      "result.text/plain": true
     },
     "layout": {
      "column_offset": 4,
      "column_span": 8
     }
    }
   },
   "outputs": [
    {
     "name": "stdout",
     "output_type": "stream",
     "text": [
      "[PARSER error at line=2]: mismatched input ';' expecting '='\n"
     ]
    },
    {
     "data": {
      "text/plain": [
       "false"
      ]
     },
     "execution_count": 26,
     "metadata": {
      "new_classpath": []
     },
     "output_type": "execute_result"
    }
   ],
   "source": [
    "val program = \"\"\"\n",
    "1 + 2;\n",
    "let x;\n",
    "\"\"\".trimIndent()\n",
    "\n",
    "recognize(program)"
   ]
  },
  {
   "cell_type": "markdown",
   "metadata": {
    "cell_id": "74aa75689445482d89c4300ff9a91a71",
    "lambdacheck": {
     "layout": {
      "column_offset": 0,
      "column_span": 4,
      "row_span": 10
     }
    }
   },
   "source": [
    "The second statement has a missing `)`."
   ]
  },
  {
   "cell_type": "code",
   "execution_count": 20,
   "metadata": {
    "cell_id": "c13dadaa05514f2a800c6d2361ec665c",
    "lambdacheck": {
     "check": {
      "_immediate": true,
      "_name": "",
      "display.text/plain": true,
      "output.stderr": true,
      "output.stdout": true,
      "result.text/plain": true
     },
     "layout": {
      "column_offset": 4,
      "column_span": 8
     }
    }
   },
   "outputs": [
    {
     "name": "stdout",
     "output_type": "stream",
     "text": [
      "[PARSER error at line=3]: missing ')' at ';'\n"
     ]
    },
    {
     "data": {
      "text/plain": [
       "false"
      ]
     },
     "execution_count": 20,
     "metadata": {
      "new_classpath": []
     },
     "output_type": "execute_result"
    }
   ],
   "source": [
    "val program = \"\"\"\n",
    "1 + 2;\n",
    "let x = sin(90;\n",
    "\"\"\"\n",
    "\n",
    "recognize(program)"
   ]
  },
  {
   "cell_type": "markdown",
   "metadata": {
    "cell_id": "74aa75689445482d89c4300ff9a91a71",
    "lambdacheck": {
     "layout": {
      "column_offset": 0,
      "column_span": 4,
      "row_span": 10
     }
    }
   },
   "source": [
    "Here the function call `range(...)` is not using the argument separator `,`."
   ]
  },
  {
   "cell_type": "code",
   "execution_count": 21,
   "metadata": {
    "cell_id": "c98e88fd853d48118d5ca91f9fd41148",
    "lambdacheck": {
     "check": {
      "_immediate": true,
      "_name": "",
      "display.text/plain": true,
      "output.stderr": true,
      "output.stdout": true,
      "result.text/plain": true
     },
     "layout": {
      "column_offset": 4,
      "column_span": 8
     }
    }
   },
   "outputs": [
    {
     "name": "stdout",
     "output_type": "stream",
     "text": [
      "[PARSER error at line=3]: extraneous input '10' expecting ')'\n"
     ]
    },
    {
     "data": {
      "text/plain": [
       "false"
      ]
     },
     "execution_count": 21,
     "metadata": {
      "new_classpath": []
     },
     "output_type": "execute_result"
    }
   ],
   "source": [
    "val program = \"\"\"\n",
    "1 + 2;\n",
    "let x = range(1 10);\n",
    "\"\"\"\n",
    "\n",
    "recognize(program)"
   ]
  },
  {
   "cell_type": "markdown",
   "metadata": {
    "cell_id": "74aa75689445482d89c4300ff9a91a71",
    "lambdacheck": {
     "layout": {
      "column_offset": 0,
      "column_span": 4,
      "row_span": 10
     }
    }
   },
   "source": [
    "Oops, the string `hello` has a missing close quote.  This triggers a lexer error."
   ]
  },
  {
   "cell_type": "code",
   "execution_count": 22,
   "metadata": {
    "cell_id": "0db716cfff4f478fb0d9f6454215508e",
    "lambdacheck": {
     "check": {
      "_immediate": true,
      "_name": "",
      "display.text/plain": true,
      "output.stderr": true,
      "output.stdout": true,
      "result.text/plain": true
     },
     "layout": {
      "column_offset": 4,
      "column_span": 8
     }
    }
   },
   "outputs": [
    {
     "name": "stdout",
     "output_type": "stream",
     "text": [
      "[LEXER error at line=2]: token recognition error at: '\"hello * 2;\\n'\n"
     ]
    },
    {
     "data": {
      "text/plain": [
       "false"
      ]
     },
     "execution_count": 22,
     "metadata": {
      "new_classpath": []
     },
     "output_type": "execute_result"
    }
   ],
   "source": [
    "val program = \"\"\"\n",
    "let message = \"hello * 2;\n",
    "\"\"\"\n",
    "\n",
    "recognize(program)"
   ]
  },
  {
   "cell_type": "markdown",
   "metadata": {
    "cell_id": "191ce72138d84021b1758e2de8d749c3",
    "lambdacheck": {
     "layout": {
      "column_offset": 0,
      "column_span": 4,
      "row_span": 10
     }
    }
   },
   "source": [
    "Variable names must starts with a letter, so `0message` is not a valid identifier."
   ]
  },
  {
   "cell_type": "code",
   "execution_count": 23,
   "metadata": {
    "cell_id": "e581a26e40c94cc0a5b9f5edd23016ae",
    "lambdacheck": {
     "check": {
      "_immediate": true,
      "_name": "",
      "display.text/plain": true,
      "output.stderr": true,
      "output.stdout": true,
      "result.text/plain": true
     },
     "layout": {
      "column_offset": 4,
      "column_span": 8
     }
    }
   },
   "outputs": [
    {
     "name": "stdout",
     "output_type": "stream",
     "text": [
      "[PARSER error at line=2]: extraneous input '0' expecting ID\n"
     ]
    },
    {
     "data": {
      "text/plain": [
       "false"
      ]
     },
     "execution_count": 23,
     "metadata": {
      "new_classpath": []
     },
     "output_type": "execute_result"
    }
   ],
   "source": [
    "val program = \"\"\"\n",
    "let 0message = 1+2;\n",
    "\"\"\"\n",
    "\n",
    "recognize(program)"
   ]
  },
  {
   "cell_type": "markdown",
   "metadata": {
    "cell_id": "a43b44974d6e441991a723af98f75dfd",
    "lambdacheck": {
     "layout": {
      "column_offset": 0,
      "column_span": 4,
      "row_span": 10
     }
    }
   },
   "source": [
    "We don't support `&` as a valid token, so it triggers a lexer error."
   ]
  },
  {
   "cell_type": "code",
   "execution_count": 24,
   "metadata": {
    "cell_id": "e11d880cb65d4435954d266aef49d79d",
    "lambdacheck": {
     "check": {
      "_immediate": true,
      "_name": "",
      "display.text/plain": true,
      "output.stderr": true,
      "output.stdout": true,
      "result.text/plain": true
     },
     "layout": {
      "column_offset": 4,
      "column_span": 8
     }
    }
   },
   "outputs": [
    {
     "name": "stdout",
     "output_type": "stream",
     "text": [
      "[LEXER error at line=2]: token recognition error at: '&'\n"
     ]
    },
    {
     "data": {
      "text/plain": [
       "false"
      ]
     },
     "execution_count": 24,
     "metadata": {
      "new_classpath": []
     },
     "output_type": "execute_result"
    }
   ],
   "source": [
    "val program = \"\"\"\n",
    "let message = 1 & 2;\n",
    "\"\"\"\n",
    "\n",
    "recognize(program)"
   ]
  },
  {
   "cell_type": "code",
   "execution_count": null,
   "metadata": {
    "cell_id": "4b9d2f3038144a778c1b284b3ae869fe"
   },
   "outputs": [],
   "source": []
  }
 ],
 "metadata": {
  "celltoolbar": "λ.check",
  "kernelspec": {
   "display_name": "Kotlin",
   "language": "kotlin",
   "name": "kotlin"
  },
  "language_info": {
   "codemirror_mode": "text/x-kotlin",
   "file_extension": ".kt",
   "mimetype": "text/x-kotlin",
   "name": "kotlin",
   "pygments_lexer": "kotlin",
   "version": "1.4.30-dev-3354"
  }
 },
 "nbformat": 4,
 "nbformat_minor": 4
}
