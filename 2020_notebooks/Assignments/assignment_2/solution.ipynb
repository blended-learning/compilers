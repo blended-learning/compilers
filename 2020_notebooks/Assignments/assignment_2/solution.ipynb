{
 "cells": [
  {
   "cell_type": "markdown",
   "metadata": {
    "cell_id": "3cd8e75bef6247f0854dfed1d4292f30",
    "editable": false
   },
   "source": [
    "# Assignment 2 - Parsing with CFG"
   ]
  },
  {
   "cell_type": "markdown",
   "metadata": {
    "cell_id": "83a27999457849cabbdaf91242935cae",
    "editable": false,
    "lambdacheck": {
     "layout": {
      "column_offset": 0,
      "column_span": 4,
      "row_span": 10
     }
    }
   },
   "source": [
    "## About the assignment"
   ]
  },
  {
   "cell_type": "markdown",
   "metadata": {
    "cell_id": "bc9a10c62ba549ce8b06bd658985c493",
    "editable": false,
    "lambdacheck": {
     "layout": {
      "column_offset": 4,
      "column_span": 8
     }
    }
   },
   "source": [
    "In this assignment, you will primarily focus on the ANTLR grammar of a simple procedural language.\n",
    "\n",
    "The language we wish to design supports the following:\n",
    "\n",
    "1. Arithemtic expressions.\n",
    "2. Numerical and string literals.\n",
    "3. Function calls.\n",
    "4. Variable assignments.\n",
    "5. Comments."
   ]
  },
  {
   "cell_type": "markdown",
   "metadata": {
    "cell_id": "a9a903929448440c8f83843083bb8e66",
    "editable": false,
    "lambdacheck": {
     "layout": {
      "column_offset": 0,
      "column_span": 4,
      "row_span": 10
     }
    }
   },
   "source": [
    "## The Syntax"
   ]
  },
  {
   "cell_type": "markdown",
   "metadata": {
    "cell_id": "525b13c923b54a0a80d8c308f6ddda77",
    "editable": false,
    "lambdacheck": {
     "layout": {
      "column_offset": 4,
      "column_span": 8
     }
    }
   },
   "source": [
    "The best way to understand the syntax is to review the test cases.  Make sure you understand the positive and negative test cases included in this Kotlin notebook.  The grammar can largely be described as the following components:\n",
    "\n",
    "1. Expressions\n",
    "\n",
    "\n",
    "2. Function calls\n",
    "\n",
    "\n",
    "3. Variable assignments\n",
    "\n",
    "    \n",
    "4. Statements\n",
    "\n",
    "\n",
    "5. Program"
   ]
  },
  {
   "cell_type": "markdown",
   "metadata": {
    "cell_id": "a9a903929448440c8f83843083bb8e66",
    "editable": false,
    "lambdacheck": {
     "layout": {
      "column_offset": 0,
      "column_span": 4,
      "row_span": 10
     }
    }
   },
   "source": [
    "## Expressions and Function Calls"
   ]
  },
  {
   "cell_type": "markdown",
   "metadata": {
    "cell_id": "525b13c923b54a0a80d8c308f6ddda77",
    "editable": false,
    "lambdacheck": {
     "layout": {
      "column_offset": 4,
      "column_span": 8
     }
    }
   },
   "source": [
    "\n",
    "1. Expressions\n",
    "\n",
    "    We support arithmetic expressions between numeric values and string values.\n",
    "    So, we allow any combinations of:\n",
    "    \n",
    "        - `1 + 2 * (3 - 4)`\n",
    "        - `\"hello\" * 2 + \"world\"`\n",
    "        \n",
    "    Expressions can also make use of variables:\n",
    "    \n",
    "        - `pi * radius * radius`\n",
    "        \n",
    "2. Function calls\n",
    "\n",
    "    The syntax allows a mixture of function calls as part of an expression.  An example of a function call is `cos(3.1415 / 4 + 0.1)`, or `range(0, 100)`.\n",
    "   "
   ]
  },
  {
   "cell_type": "markdown",
   "metadata": {
    "cell_id": "a9a903929448440c8f83843083bb8e66",
    "editable": false,
    "lambdacheck": {
     "layout": {
      "column_offset": 0,
      "column_span": 4,
      "row_span": 10
     }
    }
   },
   "source": [
    "## Variable Assignments and Statements"
   ]
  },
  {
   "cell_type": "markdown",
   "metadata": {
    "cell_id": "525b13c923b54a0a80d8c308f6ddda77",
    "editable": false,
    "lambdacheck": {
     "layout": {
      "column_offset": 4,
      "column_span": 8
     }
    }
   },
   "source": [
    "    \n",
    "3. Variable assignments\n",
    "\n",
    "    We can use variables, and assign them to expressions.  An example is:\n",
    "    \n",
    "    ```\n",
    "    let area = 3.1415 * 100\n",
    "    ```\n",
    "    \n",
    "4. Statements\n",
    "\n",
    "    A statement **always** ends with `;`.  Here are some examples of statements:\n",
    "    \n",
    "    - `1 + (2 * 3)`;\n",
    "    - `println(\"The answer is:\", 1 + 2);\n",
    "    - `let pi = 3.1415;`"
   ]
  },
  {
   "cell_type": "markdown",
   "metadata": {
    "cell_id": "a9a903929448440c8f83843083bb8e66",
    "editable": false,
    "lambdacheck": {
     "layout": {
      "column_offset": 0,
      "column_span": 4,
      "row_span": 10
     }
    }
   },
   "source": [
    "## The Program and other considerations"
   ]
  },
  {
   "cell_type": "markdown",
   "metadata": {
    "cell_id": "525b13c923b54a0a80d8c308f6ddda77",
    "editable": false,
    "lambdacheck": {
     "layout": {
      "column_offset": 4,
      "column_span": 8
     }
    }
   },
   "source": [
    "5. The `program` is the start symbol of the grammar.\n",
    "\n",
    "    It consists of zero or more statements, **followed** by `EOF`.\n",
    "    \n",
    "    \n",
    "    \n",
    "6. Comments and whitespaces are ignored.\n",
    "\n",
    "    Comments are the C-style multiline comments `/* ... */`.\n",
    "    Both comments and whitespaces (outside of strings) are ignored."
   ]
  },
  {
   "cell_type": "markdown",
   "metadata": {
    "cell_id": "c159834608da465284ff6e51d003b5f6",
    "editable": false
   },
   "source": [
    "# Getting Started"
   ]
  },
  {
   "cell_type": "markdown",
   "metadata": {
    "cell_id": "74aa75689445482d89c4300ff9a91a71",
    "editable": false,
    "lambdacheck": {
     "layout": {
      "column_offset": 0,
      "column_span": 4,
      "row_span": 10
     }
    }
   },
   "source": [
    "Load the dependencies."
   ]
  },
  {
   "cell_type": "code",
   "execution_count": 1,
   "metadata": {
    "cell_id": "69db6ddd4eca4b028e380f170be43423",
    "editable": false,
    "execution": {
     "iopub.execute_input": "2021-02-28T18:55:36.671813Z",
     "iopub.status.busy": "2021-02-28T18:55:36.671100Z",
     "iopub.status.idle": "2021-02-28T18:55:39.250802Z",
     "shell.execute_reply": "2021-02-28T18:55:39.250103Z"
    },
    "lambdacheck": {
     "check": {
      "_check_id": "69db6ddd4eca4b028e380f170be43423",
      "_immediate": true,
      "_name": "",
      "display.text/plain": true,
      "output.stderr": true,
      "output.stdout": true,
      "result.text/plain": true
     },
     "layout": {
      "column_offset": 4,
      "column_span": 8
     },
     "outputs": []
    }
   },
   "outputs": [],
   "source": [
    "@file:DependsOn(\"/data/shared/antlr-4.9.1-complete.jar\")\n",
    "@file:DependsOn(\".\")"
   ]
  },
  {
   "cell_type": "markdown",
   "metadata": {
    "cell_id": "74aa75689445482d89c4300ff9a91a71",
    "editable": false,
    "lambdacheck": {
     "layout": {
      "column_offset": 0,
      "column_span": 4,
      "row_span": 10
     }
    }
   },
   "source": [
    "Import the classes we need from the runtime library as well as the generated lexer and parsers."
   ]
  },
  {
   "cell_type": "code",
   "execution_count": 2,
   "metadata": {
    "cell_id": "c0debd76f94e47648f7513e5754cf440",
    "editable": false,
    "execution": {
     "iopub.execute_input": "2021-02-28T18:55:39.355499Z",
     "iopub.status.busy": "2021-02-28T18:55:39.354996Z",
     "iopub.status.idle": "2021-02-28T18:55:39.436426Z",
     "shell.execute_reply": "2021-02-28T18:55:39.435851Z"
    },
    "lambdacheck": {
     "check": {
      "_check_id": "c0debd76f94e47648f7513e5754cf440",
      "_immediate": true,
      "_name": "",
      "display.text/plain": true,
      "output.stderr": true,
      "output.stdout": true,
      "result.text/plain": true
     },
     "layout": {
      "column_offset": 4,
      "column_span": 8
     },
     "outputs": []
    }
   },
   "outputs": [],
   "source": [
    "import org.antlr.v4.runtime.*\n",
    "import mygrammar.*"
   ]
  },
  {
   "cell_type": "markdown",
   "metadata": {
    "cell_id": "74aa75689445482d89c4300ff9a91a71",
    "editable": false,
    "lambdacheck": {
     "layout": {
      "column_offset": 0,
      "column_span": 4,
      "row_span": 10
     }
    }
   },
   "source": [
    "We will use a custom error handler to provide a standardized error message upon lexical analysis and parsing."
   ]
  },
  {
   "cell_type": "code",
   "execution_count": 3,
   "metadata": {
    "cell_id": "8d989b093b5740208d80b8d3445a8244",
    "editable": false,
    "execution": {
     "iopub.execute_input": "2021-02-28T18:55:39.539867Z",
     "iopub.status.busy": "2021-02-28T18:55:39.539219Z",
     "iopub.status.idle": "2021-02-28T18:55:40.147969Z",
     "shell.execute_reply": "2021-02-28T18:55:40.147355Z"
    },
    "lambdacheck": {
     "check": {
      "_check_id": "8d989b093b5740208d80b8d3445a8244",
      "_immediate": true,
      "_name": "",
      "display.text/plain": true,
      "output.stderr": true,
      "output.stdout": true,
      "result.text/plain": true
     },
     "layout": {
      "column_offset": 4,
      "column_span": 8
     },
     "outputs": []
    }
   },
   "outputs": [],
   "source": [
    "fun makeErrorListener(name: String) = object: BaseErrorListener() {\n",
    "  override fun syntaxError(recognizer: Recognizer<*,*>,\n",
    "                          symbol: Any?,\n",
    "                          line: Int, pos: Int, message: String, e:RecognitionException?) {\n",
    "      var error = \"[${name} error at line=${line}]\"\n",
    "      if(message.length > 0) {\n",
    "          error += \": ${message}\"\n",
    "      }\n",
    "      throw Exception(error)\n",
    "  }  \n",
    "}"
   ]
  },
  {
   "cell_type": "markdown",
   "metadata": {
    "cell_id": "74aa75689445482d89c4300ff9a91a71",
    "editable": false,
    "lambdacheck": {
     "layout": {
      "column_offset": 0,
      "column_span": 4,
      "row_span": 10
     }
    }
   },
   "source": [
    "The `recognize` function will return `true` of the program does not have any syntax error, and `false` if syntax error is found.\n",
    "\n",
    "It will also print the error message associated with the exception thrown by the error listener."
   ]
  },
  {
   "cell_type": "code",
   "execution_count": 4,
   "metadata": {
    "cell_id": "556ac988fe5d4f6db0c7d65aff34c501",
    "editable": false,
    "execution": {
     "iopub.execute_input": "2021-02-28T18:55:40.250233Z",
     "iopub.status.busy": "2021-02-28T18:55:40.249731Z",
     "iopub.status.idle": "2021-02-28T18:55:40.524257Z",
     "shell.execute_reply": "2021-02-28T18:55:40.523693Z"
    },
    "lambdacheck": {
     "check": {
      "_check_id": "556ac988fe5d4f6db0c7d65aff34c501",
      "_immediate": true,
      "_name": "",
      "display.text/plain": true,
      "output.stderr": true,
      "output.stdout": true,
      "result.text/plain": true
     },
     "layout": {
      "column_offset": 4,
      "column_span": 8
     },
     "outputs": []
    }
   },
   "outputs": [],
   "source": [
    "fun recognize(source: String): Boolean {\n",
    "    val input = CharStreams.fromString(source)\n",
    "    val lexer = ExprLexer(input)\n",
    "    val tokens = CommonTokenStream(lexer)\n",
    "    val parser = ExprParser(tokens)\n",
    "    \n",
    "    // setup error listener\n",
    "    lexer.removeErrorListeners()\n",
    "    lexer.addErrorListener(makeErrorListener(\"LEXER\"))\n",
    "    \n",
    "    parser.removeErrorListeners()\n",
    "    parser.addErrorListener(makeErrorListener(\"PARSER\"))\n",
    "    \n",
    "    try {\n",
    "        parser.program()\n",
    "        return true\n",
    "    } catch(e: Exception) {\n",
    "        println(e.message)\n",
    "        return false\n",
    "    }\n",
    "}"
   ]
  },
  {
   "cell_type": "markdown",
   "metadata": {
    "cell_id": "1bfdddc044b64676855beb7c46c2def6",
    "editable": false
   },
   "source": [
    "## Positive Test Cases"
   ]
  },
  {
   "cell_type": "markdown",
   "metadata": {
    "cell_id": "74aa75689445482d89c4300ff9a91a71",
    "editable": false,
    "lambdacheck": {
     "layout": {
      "column_offset": 0,
      "column_span": 4,
      "row_span": 10
     }
    }
   },
   "source": [
    "A simple expression can be a statement.\n",
    "\n",
    "Note that it must end with `;`."
   ]
  },
  {
   "cell_type": "code",
   "execution_count": 5,
   "metadata": {
    "cell_id": "4e32a2106ae344808710a4185f9ed2f8",
    "editable": false,
    "execution": {
     "iopub.execute_input": "2021-02-28T18:55:40.626681Z",
     "iopub.status.busy": "2021-02-28T18:55:40.626206Z",
     "iopub.status.idle": "2021-02-28T18:55:40.748242Z",
     "shell.execute_reply": "2021-02-28T18:55:40.748689Z"
    },
    "lambdacheck": {
     "check": {
      "_check_id": "4e32a2106ae344808710a4185f9ed2f8",
      "_immediate": true,
      "_name": "",
      "display.text/plain": true,
      "output.stderr": true,
      "output.stdout": true,
      "result.text/plain": true
     },
     "layout": {
      "column_offset": 4,
      "column_span": 8
     },
     "outputs": [
      {
       "data": {
        "text/plain": "true"
       },
       "metadata": {
        "new_classpath": []
       },
       "output_type": "execute_result"
      }
     ]
    }
   },
   "outputs": [
    {
     "data": {
      "text/plain": [
       "true"
      ]
     },
     "execution_count": 5,
     "metadata": {
      "new_classpath": []
     },
     "output_type": "execute_result"
    }
   ],
   "source": [
    "val program = \"\"\"\n",
    "42;\n",
    "\"\"\"\n",
    "\n",
    "recognize(program)"
   ]
  },
  {
   "cell_type": "markdown",
   "metadata": {
    "cell_id": "74aa75689445482d89c4300ff9a91a71",
    "editable": false,
    "lambdacheck": {
     "layout": {
      "column_offset": 0,
      "column_span": 4,
      "row_span": 10
     }
    }
   },
   "source": [
    "This is another expression as a statement."
   ]
  },
  {
   "cell_type": "code",
   "execution_count": 6,
   "metadata": {
    "cell_id": "0b5360242a744137871ff6a5e85c111c",
    "editable": false,
    "execution": {
     "iopub.execute_input": "2021-02-28T18:55:40.849491Z",
     "iopub.status.busy": "2021-02-28T18:55:40.849017Z",
     "iopub.status.idle": "2021-02-28T18:55:40.897528Z",
     "shell.execute_reply": "2021-02-28T18:55:40.897977Z"
    },
    "lambdacheck": {
     "check": {
      "_check_id": "0b5360242a744137871ff6a5e85c111c",
      "_immediate": true,
      "_name": "",
      "display.text/plain": true,
      "output.stderr": true,
      "output.stdout": true,
      "result.text/plain": true
     },
     "layout": {
      "column_offset": 4,
      "column_span": 8
     },
     "outputs": [
      {
       "data": {
        "text/plain": "true"
       },
       "metadata": {
        "new_classpath": []
       },
       "output_type": "execute_result"
      }
     ]
    }
   },
   "outputs": [
    {
     "data": {
      "text/plain": [
       "true"
      ]
     },
     "execution_count": 6,
     "metadata": {
      "new_classpath": []
     },
     "output_type": "execute_result"
    }
   ],
   "source": [
    "val program = \"\"\"\n",
    "42 + 90;\n",
    "\"\"\"\n",
    "\n",
    "recognize(program)"
   ]
  },
  {
   "cell_type": "markdown",
   "metadata": {
    "cell_id": "74aa75689445482d89c4300ff9a91a71",
    "editable": false,
    "lambdacheck": {
     "layout": {
      "column_offset": 0,
      "column_span": 4,
      "row_span": 10
     }
    }
   },
   "source": [
    "This is an expression involving both numeric and string literals, as a statement."
   ]
  },
  {
   "cell_type": "code",
   "execution_count": 7,
   "metadata": {
    "cell_id": "e7ce4eb32aa84cfdbe1061ad825820ee",
    "editable": false,
    "execution": {
     "iopub.execute_input": "2021-02-28T18:55:41.000233Z",
     "iopub.status.busy": "2021-02-28T18:55:40.999762Z",
     "iopub.status.idle": "2021-02-28T18:55:41.063769Z",
     "shell.execute_reply": "2021-02-28T18:55:41.064253Z"
    },
    "lambdacheck": {
     "check": {
      "_check_id": "e7ce4eb32aa84cfdbe1061ad825820ee",
      "_immediate": true,
      "_name": "",
      "display.text/plain": true,
      "output.stderr": true,
      "output.stdout": true,
      "result.text/plain": true
     },
     "layout": {
      "column_offset": 4,
      "column_span": 8
     },
     "outputs": [
      {
       "data": {
        "text/plain": "true"
       },
       "metadata": {
        "new_classpath": []
       },
       "output_type": "execute_result"
      }
     ]
    }
   },
   "outputs": [
    {
     "data": {
      "text/plain": [
       "true"
      ]
     },
     "execution_count": 7,
     "metadata": {
      "new_classpath": []
     },
     "output_type": "execute_result"
    }
   ],
   "source": [
    "val program = \"\"\"\n",
    "42 + (\"hello\");\n",
    "\"\"\"\n",
    "\n",
    "recognize(program)"
   ]
  },
  {
   "cell_type": "markdown",
   "metadata": {
    "cell_id": "74aa75689445482d89c4300ff9a91a71",
    "editable": false,
    "lambdacheck": {
     "layout": {
      "column_offset": 0,
      "column_span": 4,
      "row_span": 10
     }
    }
   },
   "source": [
    "This is an expression with two strings."
   ]
  },
  {
   "cell_type": "code",
   "execution_count": 8,
   "metadata": {
    "cell_id": "1f97c703c8864bbd8f374580b77e5c4a",
    "editable": false,
    "execution": {
     "iopub.execute_input": "2021-02-28T18:55:41.166454Z",
     "iopub.status.busy": "2021-02-28T18:55:41.166045Z",
     "iopub.status.idle": "2021-02-28T18:55:41.211765Z",
     "shell.execute_reply": "2021-02-28T18:55:41.212205Z"
    },
    "lambdacheck": {
     "check": {
      "_check_id": "1f97c703c8864bbd8f374580b77e5c4a",
      "_immediate": true,
      "_name": "",
      "display.text/plain": true,
      "output.stderr": true,
      "output.stdout": true,
      "result.text/plain": true
     },
     "layout": {
      "column_offset": 4,
      "column_span": 8
     },
     "outputs": [
      {
       "data": {
        "text/plain": "true"
       },
       "metadata": {
        "new_classpath": []
       },
       "output_type": "execute_result"
      }
     ]
    }
   },
   "outputs": [
    {
     "data": {
      "text/plain": [
       "true"
      ]
     },
     "execution_count": 8,
     "metadata": {
      "new_classpath": []
     },
     "output_type": "execute_result"
    }
   ],
   "source": [
    "val program = \"\"\"\n",
    "\"hello\" + \"world\";\n",
    "\"\"\"\n",
    "\n",
    "recognize(program)"
   ]
  },
  {
   "cell_type": "markdown",
   "metadata": {
    "cell_id": "74aa75689445482d89c4300ff9a91a71",
    "editable": false,
    "lambdacheck": {
     "layout": {
      "column_offset": 0,
      "column_span": 4,
      "row_span": 10
     }
    }
   },
   "source": [
    "Function calls can be statements."
   ]
  },
  {
   "cell_type": "code",
   "execution_count": 9,
   "metadata": {
    "cell_id": "479a4f02f1b2492c8034796b989981d2",
    "editable": false,
    "execution": {
     "iopub.execute_input": "2021-02-28T18:55:41.313993Z",
     "iopub.status.busy": "2021-02-28T18:55:41.313512Z",
     "iopub.status.idle": "2021-02-28T18:55:41.359528Z",
     "shell.execute_reply": "2021-02-28T18:55:41.359973Z"
    },
    "lambdacheck": {
     "check": {
      "_check_id": "479a4f02f1b2492c8034796b989981d2",
      "_immediate": true,
      "_name": "",
      "display.text/plain": true,
      "output.stderr": true,
      "output.stdout": true,
      "result.text/plain": true
     },
     "layout": {
      "column_offset": 4,
      "column_span": 8
     },
     "outputs": [
      {
       "data": {
        "text/plain": "true"
       },
       "metadata": {
        "new_classpath": []
       },
       "output_type": "execute_result"
      }
     ]
    }
   },
   "outputs": [
    {
     "data": {
      "text/plain": [
       "true"
      ]
     },
     "execution_count": 9,
     "metadata": {
      "new_classpath": []
     },
     "output_type": "execute_result"
    }
   ],
   "source": [
    "val program = \"\"\"\n",
    "sin(90);\n",
    "\"\"\"\n",
    "\n",
    "recognize(program)"
   ]
  },
  {
   "cell_type": "markdown",
   "metadata": {
    "cell_id": "74aa75689445482d89c4300ff9a91a71",
    "editable": false,
    "lambdacheck": {
     "layout": {
      "column_offset": 0,
      "column_span": 4,
      "row_span": 10
     }
    }
   },
   "source": [
    "Here, we have a function call with an expression as an argument."
   ]
  },
  {
   "cell_type": "code",
   "execution_count": 10,
   "metadata": {
    "cell_id": "bd4a78cc6d5644f3b965a9fcc2af9728",
    "editable": false,
    "execution": {
     "iopub.execute_input": "2021-02-28T18:55:41.461561Z",
     "iopub.status.busy": "2021-02-28T18:55:41.461109Z",
     "iopub.status.idle": "2021-02-28T18:55:41.505541Z",
     "shell.execute_reply": "2021-02-28T18:55:41.505988Z"
    },
    "lambdacheck": {
     "check": {
      "_check_id": "bd4a78cc6d5644f3b965a9fcc2af9728",
      "_immediate": true,
      "_name": "",
      "display.text/plain": true,
      "output.stderr": true,
      "output.stdout": true,
      "result.text/plain": true
     },
     "layout": {
      "column_offset": 4,
      "column_span": 8
     },
     "outputs": [
      {
       "data": {
        "text/plain": "true"
       },
       "metadata": {
        "new_classpath": []
       },
       "output_type": "execute_result"
      }
     ]
    }
   },
   "outputs": [
    {
     "data": {
      "text/plain": [
       "true"
      ]
     },
     "execution_count": 10,
     "metadata": {
      "new_classpath": []
     },
     "output_type": "execute_result"
    }
   ],
   "source": [
    "val program = \"\"\"\n",
    "sin(90 + 10);\n",
    "\"\"\"\n",
    "\n",
    "recognize(program)"
   ]
  },
  {
   "cell_type": "markdown",
   "metadata": {
    "cell_id": "74aa75689445482d89c4300ff9a91a71",
    "editable": false,
    "lambdacheck": {
     "layout": {
      "column_offset": 0,
      "column_span": 4,
      "row_span": 10
     }
    }
   },
   "source": [
    "We have a nested function call, where `range` has two arguments, both are simple expressions."
   ]
  },
  {
   "cell_type": "code",
   "execution_count": 11,
   "metadata": {
    "cell_id": "46654c84a30547f98583ee4378263168",
    "editable": false,
    "execution": {
     "iopub.execute_input": "2021-02-28T18:55:41.607223Z",
     "iopub.status.busy": "2021-02-28T18:55:41.606787Z",
     "iopub.status.idle": "2021-02-28T18:55:41.652779Z",
     "shell.execute_reply": "2021-02-28T18:55:41.653238Z"
    },
    "lambdacheck": {
     "check": {
      "_check_id": "46654c84a30547f98583ee4378263168",
      "_immediate": true,
      "_name": "",
      "display.text/plain": true,
      "output.stderr": true,
      "output.stdout": true,
      "result.text/plain": true
     },
     "layout": {
      "column_offset": 4,
      "column_span": 8
     },
     "outputs": [
      {
       "data": {
        "text/plain": "true"
       },
       "metadata": {
        "new_classpath": []
       },
       "output_type": "execute_result"
      }
     ]
    }
   },
   "outputs": [
    {
     "data": {
      "text/plain": [
       "true"
      ]
     },
     "execution_count": 11,
     "metadata": {
      "new_classpath": []
     },
     "output_type": "execute_result"
    }
   ],
   "source": [
    "val program = \"\"\"\n",
    "sum(range(0, 100));\n",
    "\"\"\"\n",
    "\n",
    "recognize(program)"
   ]
  },
  {
   "cell_type": "markdown",
   "metadata": {
    "cell_id": "74aa75689445482d89c4300ff9a91a71",
    "editable": false,
    "lambdacheck": {
     "layout": {
      "column_offset": 0,
      "column_span": 4,
      "row_span": 10
     }
    }
   },
   "source": [
    "Assignments can be statements."
   ]
  },
  {
   "cell_type": "code",
   "execution_count": 12,
   "metadata": {
    "cell_id": "788c0978595844d3b46f111f232590d7",
    "editable": false,
    "execution": {
     "iopub.execute_input": "2021-02-28T18:55:41.754259Z",
     "iopub.status.busy": "2021-02-28T18:55:41.753856Z",
     "iopub.status.idle": "2021-02-28T18:55:41.798179Z",
     "shell.execute_reply": "2021-02-28T18:55:41.798613Z"
    },
    "lambdacheck": {
     "check": {
      "_check_id": "788c0978595844d3b46f111f232590d7",
      "_immediate": true,
      "_name": "",
      "display.text/plain": true,
      "output.stderr": true,
      "output.stdout": true,
      "result.text/plain": true
     },
     "layout": {
      "column_offset": 4,
      "column_span": 8
     },
     "outputs": [
      {
       "data": {
        "text/plain": "true"
       },
       "metadata": {
        "new_classpath": []
       },
       "output_type": "execute_result"
      }
     ]
    }
   },
   "outputs": [
    {
     "data": {
      "text/plain": [
       "true"
      ]
     },
     "execution_count": 12,
     "metadata": {
      "new_classpath": []
     },
     "output_type": "execute_result"
    }
   ],
   "source": [
    "val program = \"\"\"\n",
    "let pi = 3.1415;\n",
    "\"\"\"\n",
    "\n",
    "recognize(program)"
   ]
  },
  {
   "cell_type": "markdown",
   "metadata": {
    "cell_id": "74aa75689445482d89c4300ff9a91a71",
    "editable": false,
    "lambdacheck": {
     "layout": {
      "column_offset": 0,
      "column_span": 4,
      "row_span": 10
     }
    }
   },
   "source": [
    "Here is a program with two statements."
   ]
  },
  {
   "cell_type": "code",
   "execution_count": 13,
   "metadata": {
    "cell_id": "fb0a0f741c6944008bc75712f49cdf01",
    "editable": false,
    "execution": {
     "iopub.execute_input": "2021-02-28T18:55:41.900122Z",
     "iopub.status.busy": "2021-02-28T18:55:41.899703Z",
     "iopub.status.idle": "2021-02-28T18:55:41.942946Z",
     "shell.execute_reply": "2021-02-28T18:55:41.943384Z"
    },
    "lambdacheck": {
     "check": {
      "_check_id": "fb0a0f741c6944008bc75712f49cdf01",
      "_immediate": true,
      "_name": "",
      "display.text/plain": true,
      "output.stderr": true,
      "output.stdout": true,
      "result.text/plain": true
     },
     "layout": {
      "column_offset": 4,
      "column_span": 8
     },
     "outputs": [
      {
       "data": {
        "text/plain": "true"
       },
       "metadata": {
        "new_classpath": []
       },
       "output_type": "execute_result"
      }
     ]
    }
   },
   "outputs": [
    {
     "data": {
      "text/plain": [
       "true"
      ]
     },
     "execution_count": 13,
     "metadata": {
      "new_classpath": []
     },
     "output_type": "execute_result"
    }
   ],
   "source": [
    "val program = \"\"\"\n",
    "let pi = 3.1415;\n",
    "let radius = 10;\n",
    "\"\"\"\n",
    "\n",
    "recognize(program)"
   ]
  },
  {
   "cell_type": "markdown",
   "metadata": {
    "cell_id": "74aa75689445482d89c4300ff9a91a71",
    "editable": false,
    "lambdacheck": {
     "layout": {
      "column_offset": 0,
      "column_span": 4,
      "row_span": 10
     }
    }
   },
   "source": [
    "Here is a program with multiple statements."
   ]
  },
  {
   "cell_type": "code",
   "execution_count": 14,
   "metadata": {
    "cell_id": "696fbd67522040c6848b8cd66ba639cf",
    "editable": false,
    "execution": {
     "iopub.execute_input": "2021-02-28T18:55:42.044486Z",
     "iopub.status.busy": "2021-02-28T18:55:42.044089Z",
     "iopub.status.idle": "2021-02-28T18:55:42.088885Z",
     "shell.execute_reply": "2021-02-28T18:55:42.089321Z"
    },
    "lambdacheck": {
     "check": {
      "_check_id": "696fbd67522040c6848b8cd66ba639cf",
      "_immediate": true,
      "_name": "",
      "display.text/plain": true,
      "output.stderr": true,
      "output.stdout": true,
      "result.text/plain": true
     },
     "layout": {
      "column_offset": 4,
      "column_span": 8
     },
     "outputs": [
      {
       "data": {
        "text/plain": "true"
       },
       "metadata": {
        "new_classpath": []
       },
       "output_type": "execute_result"
      }
     ]
    }
   },
   "outputs": [
    {
     "data": {
      "text/plain": [
       "true"
      ]
     },
     "execution_count": 14,
     "metadata": {
      "new_classpath": []
     },
     "output_type": "execute_result"
    }
   ],
   "source": [
    "val program = \"\"\"\n",
    "let pi = 3.1415;\n",
    "let radius = 10;\n",
    "let area = pi * power(radius, 2);\n",
    "println(\"area is\", area);\n",
    "\"\"\"\n",
    "\n",
    "recognize(program)"
   ]
  },
  {
   "cell_type": "markdown",
   "metadata": {
    "cell_id": "74aa75689445482d89c4300ff9a91a71",
    "editable": false,
    "lambdacheck": {
     "layout": {
      "column_offset": 0,
      "column_span": 4,
      "row_span": 10
     }
    }
   },
   "source": [
    "Here is a program with some multi-line comments."
   ]
  },
  {
   "cell_type": "code",
   "execution_count": 15,
   "metadata": {
    "cell_id": "24a92729fd5f47d08bcefabf3f803f66",
    "editable": false,
    "execution": {
     "iopub.execute_input": "2021-02-28T18:55:42.192204Z",
     "iopub.status.busy": "2021-02-28T18:55:42.191741Z",
     "iopub.status.idle": "2021-02-28T18:55:42.240473Z",
     "shell.execute_reply": "2021-02-28T18:55:42.240942Z"
    },
    "lambdacheck": {
     "check": {
      "_check_id": "24a92729fd5f47d08bcefabf3f803f66",
      "_immediate": true,
      "_name": "",
      "display.text/plain": true,
      "output.stderr": true,
      "output.stdout": true,
      "result.text/plain": true
     },
     "layout": {
      "column_offset": 4,
      "column_span": 8
     },
     "outputs": [
      {
       "data": {
        "text/plain": "true"
       },
       "metadata": {
        "new_classpath": []
       },
       "output_type": "execute_result"
      }
     ]
    }
   },
   "outputs": [
    {
     "data": {
      "text/plain": [
       "true"
      ]
     },
     "execution_count": 15,
     "metadata": {
      "new_classpath": []
     },
     "output_type": "execute_result"
    }
   ],
   "source": [
    "val program = \"\"\"\n",
    "let pi = 3.1415;\n",
    "let radius = 10;\n",
    "\n",
    "/*\n",
    " * Area is π * r * r\n",
    " */\n",
    "\n",
    "let area = pi * power(radius, 2);\n",
    "\n",
    "/*-------------------------------\n",
    "  print the area of semi-circle \n",
    "  ------------------------------- */\n",
    "\n",
    "println(\"area is\", area / 2);\n",
    "\"\"\"\n",
    "\n",
    "recognize(program)"
   ]
  },
  {
   "cell_type": "markdown",
   "metadata": {
    "cell_id": "74aa75689445482d89c4300ff9a91a71",
    "editable": false,
    "lambdacheck": {
     "layout": {
      "column_offset": 0,
      "column_span": 4,
      "row_span": 10
     }
    }
   },
   "source": [
    "Since all whitespaces outside of strings are ignored, each statement can span over multiple lines as long as it ends with `;`."
   ]
  },
  {
   "cell_type": "code",
   "execution_count": 16,
   "metadata": {
    "cell_id": "d125aac55f2546768fca30853ea88bf1",
    "editable": false,
    "execution": {
     "iopub.execute_input": "2021-02-28T18:55:42.343019Z",
     "iopub.status.busy": "2021-02-28T18:55:42.342481Z",
     "iopub.status.idle": "2021-02-28T18:55:42.388867Z",
     "shell.execute_reply": "2021-02-28T18:55:42.389344Z"
    },
    "lambdacheck": {
     "check": {
      "_check_id": "d125aac55f2546768fca30853ea88bf1",
      "_immediate": true,
      "_name": "",
      "display.text/plain": true,
      "output.stderr": true,
      "output.stdout": true,
      "result.text/plain": true
     },
     "layout": {
      "column_offset": 4,
      "column_span": 8
     },
     "outputs": [
      {
       "data": {
        "text/plain": "true"
       },
       "metadata": {
        "new_classpath": []
       },
       "output_type": "execute_result"
      }
     ]
    }
   },
   "outputs": [
    {
     "data": {
      "text/plain": [
       "true"
      ]
     },
     "execution_count": 16,
     "metadata": {
      "new_classpath": []
     },
     "output_type": "execute_result"
    }
   ],
   "source": [
    "val program = \"\"\"\n",
    "let pi = 3.1415;\n",
    "let radius = 10;\n",
    "let area = \n",
    "  pi * \n",
    "  power(\n",
    "      radius,\n",
    "      2\n",
    "  )\n",
    "  ;\n",
    "\n",
    "println(\n",
    "  \"area is\",\n",
    "  area\n",
    ");\n",
    "\"\"\"\n",
    "\n",
    "recognize(program)"
   ]
  },
  {
   "cell_type": "markdown",
   "metadata": {
    "cell_id": "1be0a29fb30341d6bf9aa346b40a29a2",
    "editable": false
   },
   "source": [
    "## Negative Test Cases"
   ]
  },
  {
   "cell_type": "markdown",
   "metadata": {
    "cell_id": "2489bd8e53a3471a8816606dfc88275e",
    "editable": false,
    "lambdacheck": {
     "layout": {
      "column_offset": 0,
      "column_span": 4,
      "row_span": 10
     }
    }
   },
   "source": [
    "An expression must end with `;` when used as a statement."
   ]
  },
  {
   "cell_type": "code",
   "execution_count": 17,
   "metadata": {
    "cell_id": "5c5d27835d294d7f8ee43a853c480c0d",
    "editable": false,
    "execution": {
     "iopub.execute_input": "2021-02-28T18:55:42.490639Z",
     "iopub.status.busy": "2021-02-28T18:55:42.490172Z",
     "iopub.status.idle": "2021-02-28T18:55:42.592505Z",
     "shell.execute_reply": "2021-02-28T18:55:42.592982Z"
    },
    "lambdacheck": {
     "check": {
      "_check_id": "5c5d27835d294d7f8ee43a853c480c0d",
      "_immediate": true,
      "_name": "",
      "display.text/plain": true,
      "output.stderr": true,
      "output.stdout": true,
      "result.text/plain": true
     },
     "layout": {
      "column_offset": 4,
      "column_span": 8
     },
     "outputs": [
      {
       "name": "stdout",
       "output_type": "stream",
       "text": "[PARSER error at line=1]: missing ';' at '<EOF>'\n"
      },
      {
       "data": {
        "text/plain": "false"
       },
       "metadata": {
        "new_classpath": []
       },
       "output_type": "execute_result"
      }
     ]
    }
   },
   "outputs": [
    {
     "name": "stdout",
     "output_type": "stream",
     "text": [
      "[PARSER error at line=1]: missing ';' at '<EOF>'\n"
     ]
    },
    {
     "data": {
      "text/plain": [
       "false"
      ]
     },
     "execution_count": 17,
     "metadata": {
      "new_classpath": []
     },
     "output_type": "execute_result"
    }
   ],
   "source": [
    "val program = \"\"\"\n",
    "1 + 2\n",
    "\"\"\".trimIndent()\n",
    "\n",
    "recognize(program)"
   ]
  },
  {
   "cell_type": "markdown",
   "metadata": {
    "cell_id": "74aa75689445482d89c4300ff9a91a71",
    "editable": false,
    "lambdacheck": {
     "layout": {
      "column_offset": 0,
      "column_span": 4,
      "row_span": 10
     }
    }
   },
   "source": [
    "The second expression does not end with `;`."
   ]
  },
  {
   "cell_type": "code",
   "execution_count": 18,
   "metadata": {
    "cell_id": "fb3a5383e7b344468145da9d807b10fb",
    "editable": false,
    "execution": {
     "iopub.execute_input": "2021-02-28T18:55:42.694216Z",
     "iopub.status.busy": "2021-02-28T18:55:42.693736Z",
     "iopub.status.idle": "2021-02-28T18:55:42.743221Z",
     "shell.execute_reply": "2021-02-28T18:55:42.743681Z"
    },
    "lambdacheck": {
     "check": {
      "_check_id": "fb3a5383e7b344468145da9d807b10fb",
      "_immediate": true,
      "_name": "",
      "display.text/plain": true,
      "output.stderr": true,
      "output.stdout": true,
      "result.text/plain": true
     },
     "layout": {
      "column_offset": 4,
      "column_span": 8
     },
     "outputs": [
      {
       "name": "stdout",
       "output_type": "stream",
       "text": "[PARSER error at line=1]: missing ';' at '<EOF>'\n"
      },
      {
       "data": {
        "text/plain": "false"
       },
       "metadata": {
        "new_classpath": []
       },
       "output_type": "execute_result"
      }
     ]
    }
   },
   "outputs": [
    {
     "name": "stdout",
     "output_type": "stream",
     "text": [
      "[PARSER error at line=1]: missing ';' at '<EOF>'\n"
     ]
    },
    {
     "data": {
      "text/plain": [
       "false"
      ]
     },
     "execution_count": 18,
     "metadata": {
      "new_classpath": []
     },
     "output_type": "execute_result"
    }
   ],
   "source": [
    "val program = \"\"\"\n",
    "(1 + 2); (1 + 2)\n",
    "\"\"\".trimIndent()\n",
    "\n",
    "recognize(program)"
   ]
  },
  {
   "cell_type": "markdown",
   "metadata": {
    "cell_id": "74aa75689445482d89c4300ff9a91a71",
    "editable": false,
    "lambdacheck": {
     "layout": {
      "column_offset": 0,
      "column_span": 4,
      "row_span": 10
     }
    }
   },
   "source": [
    "The second statement is incomplete."
   ]
  },
  {
   "cell_type": "code",
   "execution_count": 19,
   "metadata": {
    "cell_id": "47ef40f22abf4ff6824ccafa74b06196",
    "editable": false,
    "execution": {
     "iopub.execute_input": "2021-02-28T18:55:42.845020Z",
     "iopub.status.busy": "2021-02-28T18:55:42.844540Z",
     "iopub.status.idle": "2021-02-28T18:55:42.890609Z",
     "shell.execute_reply": "2021-02-28T18:55:42.891083Z"
    },
    "lambdacheck": {
     "check": {
      "_check_id": "47ef40f22abf4ff6824ccafa74b06196",
      "_immediate": true,
      "_name": "",
      "display.text/plain": true,
      "output.stderr": true,
      "output.stdout": true,
      "result.text/plain": true
     },
     "layout": {
      "column_offset": 4,
      "column_span": 8
     },
     "outputs": [
      {
       "name": "stdout",
       "output_type": "stream",
       "text": "[PARSER error at line=2]: mismatched input ';' expecting '='\n"
      },
      {
       "data": {
        "text/plain": "false"
       },
       "metadata": {
        "new_classpath": []
       },
       "output_type": "execute_result"
      }
     ]
    }
   },
   "outputs": [
    {
     "name": "stdout",
     "output_type": "stream",
     "text": [
      "[PARSER error at line=2]: mismatched input ';' expecting '='\n"
     ]
    },
    {
     "data": {
      "text/plain": [
       "false"
      ]
     },
     "execution_count": 19,
     "metadata": {
      "new_classpath": []
     },
     "output_type": "execute_result"
    }
   ],
   "source": [
    "val program = \"\"\"\n",
    "1 + 2;\n",
    "let x;\n",
    "\"\"\".trimIndent()\n",
    "\n",
    "recognize(program)"
   ]
  },
  {
   "cell_type": "markdown",
   "metadata": {
    "cell_id": "74aa75689445482d89c4300ff9a91a71",
    "editable": false,
    "lambdacheck": {
     "layout": {
      "column_offset": 0,
      "column_span": 4,
      "row_span": 10
     }
    }
   },
   "source": [
    "The second statement has a missing `)`."
   ]
  },
  {
   "cell_type": "code",
   "execution_count": 20,
   "metadata": {
    "cell_id": "c13dadaa05514f2a800c6d2361ec665c",
    "editable": false,
    "execution": {
     "iopub.execute_input": "2021-02-28T18:55:42.993184Z",
     "iopub.status.busy": "2021-02-28T18:55:42.992728Z",
     "iopub.status.idle": "2021-02-28T18:55:43.034815Z",
     "shell.execute_reply": "2021-02-28T18:55:43.035267Z"
    },
    "lambdacheck": {
     "check": {
      "_check_id": "c13dadaa05514f2a800c6d2361ec665c",
      "_immediate": true,
      "_name": "",
      "display.text/plain": true,
      "output.stderr": true,
      "output.stdout": true,
      "result.text/plain": true
     },
     "layout": {
      "column_offset": 4,
      "column_span": 8
     },
     "outputs": [
      {
       "name": "stdout",
       "output_type": "stream",
       "text": "[PARSER error at line=3]: missing ')' at ';'\n"
      },
      {
       "data": {
        "text/plain": "false"
       },
       "metadata": {
        "new_classpath": []
       },
       "output_type": "execute_result"
      }
     ]
    }
   },
   "outputs": [
    {
     "name": "stdout",
     "output_type": "stream",
     "text": [
      "[PARSER error at line=3]: missing ')' at ';'\n"
     ]
    },
    {
     "data": {
      "text/plain": [
       "false"
      ]
     },
     "execution_count": 20,
     "metadata": {
      "new_classpath": []
     },
     "output_type": "execute_result"
    }
   ],
   "source": [
    "val program = \"\"\"\n",
    "1 + 2;\n",
    "let x = sin(90;\n",
    "\"\"\"\n",
    "\n",
    "recognize(program)"
   ]
  },
  {
   "cell_type": "markdown",
   "metadata": {
    "cell_id": "74aa75689445482d89c4300ff9a91a71",
    "editable": false,
    "lambdacheck": {
     "layout": {
      "column_offset": 0,
      "column_span": 4,
      "row_span": 10
     }
    }
   },
   "source": [
    "Here the function call `range(...)` is not using the argument separator `,`."
   ]
  },
  {
   "cell_type": "code",
   "execution_count": 21,
   "metadata": {
    "cell_id": "c98e88fd853d48118d5ca91f9fd41148",
    "editable": false,
    "execution": {
     "iopub.execute_input": "2021-02-28T18:55:43.136816Z",
     "iopub.status.busy": "2021-02-28T18:55:43.136387Z",
     "iopub.status.idle": "2021-02-28T18:55:43.176802Z",
     "shell.execute_reply": "2021-02-28T18:55:43.177246Z"
    },
    "lambdacheck": {
     "check": {
      "_check_id": "c98e88fd853d48118d5ca91f9fd41148",
      "_immediate": true,
      "_name": "",
      "display.text/plain": true,
      "output.stderr": true,
      "output.stdout": true,
      "result.text/plain": true
     },
     "layout": {
      "column_offset": 4,
      "column_span": 8
     },
     "outputs": [
      {
       "name": "stdout",
       "output_type": "stream",
       "text": "[PARSER error at line=3]: extraneous input '10' expecting ')'\n"
      },
      {
       "data": {
        "text/plain": "false"
       },
       "metadata": {
        "new_classpath": []
       },
       "output_type": "execute_result"
      }
     ]
    }
   },
   "outputs": [
    {
     "name": "stdout",
     "output_type": "stream",
     "text": [
      "[PARSER error at line=3]: extraneous input '10' expecting ')'\n"
     ]
    },
    {
     "data": {
      "text/plain": [
       "false"
      ]
     },
     "execution_count": 21,
     "metadata": {
      "new_classpath": []
     },
     "output_type": "execute_result"
    }
   ],
   "source": [
    "val program = \"\"\"\n",
    "1 + 2;\n",
    "let x = range(1 10);\n",
    "\"\"\"\n",
    "\n",
    "recognize(program)"
   ]
  },
  {
   "cell_type": "markdown",
   "metadata": {
    "cell_id": "74aa75689445482d89c4300ff9a91a71",
    "editable": false,
    "lambdacheck": {
     "layout": {
      "column_offset": 0,
      "column_span": 4,
      "row_span": 10
     }
    }
   },
   "source": [
    "Oops, the string `hello` has a missing close quote.  This triggers a lexer error."
   ]
  },
  {
   "cell_type": "code",
   "execution_count": 22,
   "metadata": {
    "cell_id": "0db716cfff4f478fb0d9f6454215508e",
    "editable": false,
    "execution": {
     "iopub.execute_input": "2021-02-28T18:55:43.277903Z",
     "iopub.status.busy": "2021-02-28T18:55:43.277486Z",
     "iopub.status.idle": "2021-02-28T18:55:43.317023Z",
     "shell.execute_reply": "2021-02-28T18:55:43.317460Z"
    },
    "lambdacheck": {
     "check": {
      "_check_id": "0db716cfff4f478fb0d9f6454215508e",
      "_immediate": true,
      "_name": "",
      "display.text/plain": true,
      "output.stderr": true,
      "output.stdout": true,
      "result.text/plain": true
     },
     "layout": {
      "column_offset": 4,
      "column_span": 8
     },
     "outputs": [
      {
       "name": "stdout",
       "output_type": "stream",
       "text": "[LEXER error at line=2]: token recognition error at: '\"hello * 2;\\n'\n"
      },
      {
       "data": {
        "text/plain": "false"
       },
       "metadata": {
        "new_classpath": []
       },
       "output_type": "execute_result"
      }
     ]
    }
   },
   "outputs": [
    {
     "name": "stdout",
     "output_type": "stream",
     "text": [
      "[LEXER error at line=2]: token recognition error at: '\"hello * 2;\\n'\n"
     ]
    },
    {
     "data": {
      "text/plain": [
       "false"
      ]
     },
     "execution_count": 22,
     "metadata": {
      "new_classpath": []
     },
     "output_type": "execute_result"
    }
   ],
   "source": [
    "val program = \"\"\"\n",
    "let message = \"hello * 2;\n",
    "\"\"\"\n",
    "\n",
    "recognize(program)"
   ]
  },
  {
   "cell_type": "markdown",
   "metadata": {
    "cell_id": "191ce72138d84021b1758e2de8d749c3",
    "editable": false,
    "lambdacheck": {
     "layout": {
      "column_offset": 0,
      "column_span": 4,
      "row_span": 10
     }
    }
   },
   "source": [
    "Variable names must starts with a letter, so `0message` is not a valid identifier."
   ]
  },
  {
   "cell_type": "code",
   "execution_count": 23,
   "metadata": {
    "cell_id": "e581a26e40c94cc0a5b9f5edd23016ae",
    "editable": false,
    "execution": {
     "iopub.execute_input": "2021-02-28T18:55:43.418990Z",
     "iopub.status.busy": "2021-02-28T18:55:43.418499Z",
     "iopub.status.idle": "2021-02-28T18:55:43.457906Z",
     "shell.execute_reply": "2021-02-28T18:55:43.458351Z"
    },
    "lambdacheck": {
     "check": {
      "_check_id": "e581a26e40c94cc0a5b9f5edd23016ae",
      "_immediate": true,
      "_name": "",
      "display.text/plain": true,
      "output.stderr": true,
      "output.stdout": true,
      "result.text/plain": true
     },
     "layout": {
      "column_offset": 4,
      "column_span": 8
     },
     "outputs": [
      {
       "name": "stdout",
       "output_type": "stream",
       "text": "[PARSER error at line=2]: extraneous input '0' expecting ID\n"
      },
      {
       "data": {
        "text/plain": "false"
       },
       "metadata": {
        "new_classpath": []
       },
       "output_type": "execute_result"
      }
     ]
    }
   },
   "outputs": [
    {
     "name": "stdout",
     "output_type": "stream",
     "text": [
      "[PARSER error at line=2]: extraneous input '0' expecting ID\n"
     ]
    },
    {
     "data": {
      "text/plain": [
       "false"
      ]
     },
     "execution_count": 23,
     "metadata": {
      "new_classpath": []
     },
     "output_type": "execute_result"
    }
   ],
   "source": [
    "val program = \"\"\"\n",
    "let 0message = 1+2;\n",
    "\"\"\"\n",
    "\n",
    "recognize(program)"
   ]
  },
  {
   "cell_type": "markdown",
   "metadata": {
    "cell_id": "a43b44974d6e441991a723af98f75dfd",
    "editable": false,
    "lambdacheck": {
     "layout": {
      "column_offset": 0,
      "column_span": 4,
      "row_span": 10
     }
    }
   },
   "source": [
    "We don't support `&` as a valid token, so it triggers a lexer error."
   ]
  },
  {
   "cell_type": "code",
   "execution_count": 24,
   "metadata": {
    "cell_id": "e11d880cb65d4435954d266aef49d79d",
    "editable": false,
    "execution": {
     "iopub.execute_input": "2021-02-28T18:55:43.559527Z",
     "iopub.status.busy": "2021-02-28T18:55:43.559060Z",
     "iopub.status.idle": "2021-02-28T18:55:43.602487Z",
     "shell.execute_reply": "2021-02-28T18:55:43.602956Z"
    },
    "lambdacheck": {
     "check": {
      "_check_id": "e11d880cb65d4435954d266aef49d79d",
      "_immediate": true,
      "_name": "",
      "display.text/plain": true,
      "output.stderr": true,
      "output.stdout": true,
      "result.text/plain": true
     },
     "layout": {
      "column_offset": 4,
      "column_span": 8
     },
     "outputs": [
      {
       "name": "stdout",
       "output_type": "stream",
       "text": "[LEXER error at line=2]: token recognition error at: '&'\n"
      },
      {
       "data": {
        "text/plain": "false"
       },
       "metadata": {
        "new_classpath": []
       },
       "output_type": "execute_result"
      }
     ]
    }
   },
   "outputs": [
    {
     "name": "stdout",
     "output_type": "stream",
     "text": [
      "[LEXER error at line=2]: token recognition error at: '&'\n"
     ]
    },
    {
     "data": {
      "text/plain": [
       "false"
      ]
     },
     "execution_count": 24,
     "metadata": {
      "new_classpath": []
     },
     "output_type": "execute_result"
    }
   ],
   "source": [
    "val program = \"\"\"\n",
    "let message = 1 & 2;\n",
    "\"\"\"\n",
    "\n",
    "recognize(program)"
   ]
  }
 ],
 "metadata": {
  "celltoolbar": "λ.check",
  "kernelspec": {
   "display_name": "Kotlin",
   "language": "kotlin",
   "name": "kotlin"
  },
  "lambdacheck": {
   "worksheet": true
  },
  "language_info": {
   "codemirror_mode": "text/x-kotlin",
   "file_extension": ".kt",
   "mimetype": "text/x-kotlin",
   "name": "kotlin",
   "pygments_lexer": "kotlin",
   "version": "1.4.30-dev-3354"
  }
 },
 "nbformat": 4,
 "nbformat_minor": 4
}
