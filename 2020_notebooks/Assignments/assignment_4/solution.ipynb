{
 "cells": [
  {
   "cell_type": "markdown",
   "metadata": {
    "cell_id": "9a076035ba9145a88ba3f6945ecdd962",
    "editable": false
   },
   "source": [
    "# CSCI 40520U: Assignment 4\n",
    "\n",
    "In this assignment, you to implement an end-to-end program execution pipeline that compiles source code directly to the runtime backend objects, and then run the compiled program.\n",
    "\n",
    "You must complete the following:\n",
    "\n",
    "1. Implement a grammar in `src/PL.g4` to support the minimal features required to run the four programs given in this worksheet.\n",
    "\n",
    "\n",
    "\n",
    "2. Implement several kotlin classes in `src/backend.kt` for:\n",
    "   - the compiled runtime backend objects\n",
    "   - the visitor class that performs compilation using SDD\n",
    "   \n",
    "   \n",
    "Some skeleton code is provided in `src/`, and a Makefile is provided to help you perform the compilation.\n",
    "\n",
    "**Note: this notebook should be reloaded and rerun each time you recompile the dependencies of `mygrammar.*` and `backend.*`.**"
   ]
  },
  {
   "cell_type": "code",
   "execution_count": null,
   "metadata": {
    "cell_id": "d242f864160b4fdb86a513ede56c69ee",
    "editable": false
   },
   "outputs": [],
   "source": [
    "@file:DependsOn(\".\")\n",
    "@file:DependsOn(\"/data/shared/antlr-4.9.1-complete.jar\")"
   ]
  },
  {
   "cell_type": "code",
   "execution_count": null,
   "metadata": {
    "cell_id": "572aeada74e54d408fbe578b59c6efac",
    "editable": false
   },
   "outputs": [],
   "source": [
    "import org.antlr.v4.runtime.*\n",
    "import backend.*\n",
    "import mygrammar.*"
   ]
  },
  {
   "cell_type": "markdown",
   "metadata": {
    "cell_id": "f0c79f76ae824065ba47da97b1150d33",
    "editable": false
   },
   "source": [
    "## The programs"
   ]
  },
  {
   "cell_type": "markdown",
   "metadata": {
    "cell_id": "fdaea2d4166a470a80e82d06800e2b29",
    "editable": false,
    "lambdacheck": {
     "layout": {
      "column_offset": 0,
      "column_span": 4,
      "row_span": 10
     }
    }
   },
   "source": [
    "In this program, we display the concatenation of two strings.\n",
    "\n",
    "The `++` operator performs string concatenation, separated by a whitespace."
   ]
  },
  {
   "cell_type": "code",
   "execution_count": null,
   "metadata": {
    "cell_id": "bc8d6792987542669a0b92dea6ddb687",
    "editable": false,
    "lambdacheck": {
     "layout": {
      "column_offset": 4,
      "column_span": 8
     }
    }
   },
   "outputs": [],
   "source": [
    "val source1 = \"\"\"\n",
    "x = \"Hello\";\n",
    "y = \"World\";\n",
    "\n",
    "// Expect \"Hello world\"\n",
    "print(x ++ y);\n",
    "\"\"\""
   ]
  },
  {
   "cell_type": "markdown",
   "metadata": {
    "cell_id": "fdaea2d4166a470a80e82d06800e2b29",
    "editable": false,
    "lambdacheck": {
     "layout": {
      "column_offset": 0,
      "column_span": 4,
      "row_span": 10
     }
    }
   },
   "source": [
    "In this program, we declare a function\n",
    "which prints a message based on the\n",
    "parameters `name` and `message`.\n",
    "\n",
    "The program then invokes the function with\n",
    "two arguments."
   ]
  },
  {
   "cell_type": "code",
   "execution_count": null,
   "metadata": {
    "cell_id": "0cf470abf62f4869881a3a0f3659f185",
    "editable": false,
    "lambdacheck": {
     "layout": {
      "column_offset": 4,
      "column_span": 8
     }
    }
   },
   "outputs": [],
   "source": [
    "val source2 = \"\"\"\n",
    "function greeting(name, message) {\n",
    "  x = \"Hi,\";\n",
    "  x = x ++ \"my name is\" ++ name ++ \".\";\n",
    "  print(x);\n",
    "}\n",
    "\n",
    "greeting(\"Albert\", \"How are you?\");\n",
    "\"\"\""
   ]
  },
  {
   "cell_type": "markdown",
   "metadata": {
    "cell_id": "36a5d641cb53447c850536ce0c50be6c",
    "editable": false,
    "lambdacheck": {
     "layout": {
      "column_offset": 0,
      "column_span": 4,
      "row_span": 10
     }
    }
   },
   "source": [
    "The programming language must support for loops that can iterate over an integer range.\n",
    "\n",
    "This program computes the sum of integers\n",
    "`[10, 11, 12, ... 20]`."
   ]
  },
  {
   "cell_type": "code",
   "execution_count": null,
   "metadata": {
    "cell_id": "432d3d21089f4b2bb3686224224ebb85",
    "editable": false,
    "lambdacheck": {
     "layout": {
      "column_offset": 4,
      "column_span": 8
     }
    }
   },
   "outputs": [],
   "source": [
    "val source3 = \"\"\"\n",
    "sum = 0\n",
    "for(i in 10..20) {\n",
    "  sum = sum + i\n",
    "}\n",
    "sum\n",
    "\"\"\""
   ]
  },
  {
   "cell_type": "markdown",
   "metadata": {
    "cell_id": "7210763e59af4cf3b9b91ea28671b4c6",
    "editable": false,
    "lambdacheck": {
     "layout": {
      "column_offset": 0,
      "column_span": 4,
      "row_span": 10
     }
    }
   },
   "source": [
    "This program defines the factorial function using the for loop construct.\n",
    "\n",
    "The program then invokes the function to compute the factorial of 5."
   ]
  },
  {
   "cell_type": "code",
   "execution_count": null,
   "metadata": {
    "cell_id": "7283e590c10641ed83ea1db4c2988482",
    "editable": false,
    "lambdacheck": {
     "layout": {
      "column_offset": 4,
      "column_span": 8
     }
    }
   },
   "outputs": [],
   "source": [
    "val source4 = \"\"\"\n",
    "function factorial(n) {\n",
    "  prod = 1\n",
    "  for(i in 1 .. n) {\n",
    "    prod = prod * i\n",
    "  }\n",
    "  prod\n",
    "}\n",
    "\n",
    "factorial(5)\n",
    "\"\"\""
   ]
  },
  {
   "cell_type": "markdown",
   "metadata": {
    "cell_id": "17602534092542c384c47d65d2fb0fdf",
    "editable": false
   },
   "source": [
    "## Parsing\n",
    "\n",
    "In your implementation, you must implement a function:\n",
    "\n",
    "```\n",
    "fun parse(source: String): PLParser.ProgramContext\n",
    "```\n",
    "\n",
    "which constructs the parse tree from the source code."
   ]
  },
  {
   "cell_type": "code",
   "execution_count": null,
   "metadata": {
    "cell_id": "b255084400db4d308e1345e571e22cc6",
    "editable": false
   },
   "outputs": [],
   "source": [
    "fun parse(source: String): PLParser.ProgramContext {\n",
    "    val input = CharStreams.fromString(source)\n",
    "    val lexer = PLLexer(input)\n",
    "    val tokens = CommonTokenStream(lexer)\n",
    "    val parser = PLParser(tokens)\n",
    "    return parser.program()\n",
    "}"
   ]
  },
  {
   "cell_type": "code",
   "execution_count": null,
   "metadata": {
    "cell_id": "a45ad74c48f641df88a2f126f9313682",
    "editable": false
   },
   "outputs": [],
   "source": [
    "val tree1 = parse(source1)"
   ]
  },
  {
   "cell_type": "code",
   "execution_count": null,
   "metadata": {
    "cell_id": "eb9d3b453d6c48158b3b1a829377e2cf",
    "editable": false
   },
   "outputs": [],
   "source": [
    "val tree2 = parse(source2)"
   ]
  },
  {
   "cell_type": "code",
   "execution_count": null,
   "metadata": {
    "cell_id": "05ed0748fe564147a3a6f6298fb59a14",
    "editable": false
   },
   "outputs": [],
   "source": [
    "val tree3 = parse(source3)"
   ]
  },
  {
   "cell_type": "code",
   "execution_count": null,
   "metadata": {
    "cell_id": "a9711fec40da4a598b2a7d03929bdd13",
    "editable": false
   },
   "outputs": [],
   "source": [
    "val tree4 = parse(source4)"
   ]
  },
  {
   "cell_type": "markdown",
   "metadata": {
    "cell_id": "0bb6d99efce545b5bd06d61bced6c750",
    "editable": false
   },
   "source": [
    "## Compilation\n",
    "\n",
    "Your `backend.kt` must provide a visitor class `Compiler` which will perform the SDD to build the backend runtime objects based\n",
    "on the parse tree.  Using the compiler, we can compile each of the parse trees."
   ]
  },
  {
   "cell_type": "code",
   "execution_count": null,
   "metadata": {
    "cell_id": "911ad831ba394905a4cba2c68f618ccc",
    "editable": false
   },
   "outputs": [],
   "source": [
    "val program1 = Compiler().visit(tree1)"
   ]
  },
  {
   "cell_type": "code",
   "execution_count": null,
   "metadata": {
    "cell_id": "cf17a0a158be4a7d9f6c7f5933ddb86f",
    "editable": false
   },
   "outputs": [],
   "source": [
    "val program2 = Compiler().visit(tree2)"
   ]
  },
  {
   "cell_type": "code",
   "execution_count": null,
   "metadata": {
    "cell_id": "ae75b399df2b4a788b72f684f3275402",
    "editable": false
   },
   "outputs": [],
   "source": [
    "val program3 = Compiler().visit(tree3)"
   ]
  },
  {
   "cell_type": "code",
   "execution_count": null,
   "metadata": {
    "cell_id": "3820339ecae243059deaccb8e096b188",
    "editable": false
   },
   "outputs": [],
   "source": [
    "val program4 = Compiler().visit(tree4)"
   ]
  },
  {
   "cell_type": "markdown",
   "metadata": {
    "cell_id": "0160b045dac1424380993843cfe73a99",
    "editable": false
   },
   "source": [
    "## Execution\n",
    "\n",
    "We can how run each of the programs by using the standard `eval(...)` method."
   ]
  },
  {
   "cell_type": "code",
   "execution_count": null,
   "metadata": {
    "cell_id": "6f37bdd1b21b4b70911279bd15eeadab",
    "editable": false
   },
   "outputs": [],
   "source": [
    "fun execute(program: Expr?) {\n",
    "    if(program == null) {\n",
    "        println(\"Program is null.\")\n",
    "        return\n",
    "    }\n",
    "    try {\n",
    "        val data = program.eval(Context())\n",
    "        println(\"> ${data}\")\n",
    "    } catch(e: Exception) {\n",
    "        println(\"[err] ${e}\")\n",
    "    }\n",
    "}"
   ]
  },
  {
   "cell_type": "code",
   "execution_count": null,
   "metadata": {
    "cell_id": "23b4c8ba0cda49208a3b7bfbbc138ee2",
    "editable": false
   },
   "outputs": [],
   "source": [
    "execute(program1)"
   ]
  },
  {
   "cell_type": "code",
   "execution_count": null,
   "metadata": {
    "cell_id": "65ebb5cc225b4d7694b4dff3852c02bb",
    "editable": false
   },
   "outputs": [],
   "source": [
    "execute(program2)"
   ]
  },
  {
   "cell_type": "code",
   "execution_count": null,
   "metadata": {
    "cell_id": "71d9f8725f204fb88ce49643bf22bfe7",
    "editable": false
   },
   "outputs": [],
   "source": [
    "execute(program3)"
   ]
  },
  {
   "cell_type": "code",
   "execution_count": null,
   "metadata": {
    "cell_id": "f93758e1431c4cef8c7f9e469e76d99a",
    "editable": false
   },
   "outputs": [],
   "source": [
    "execute(program4)"
   ]
  }
 ],
 "metadata": {
  "celltoolbar": "λ.check",
  "kernelspec": {
   "display_name": "Kotlin",
   "language": "kotlin",
   "name": "kotlin"
  },
  "lambdacheck": {
   "worksheet": true
  },
  "language_info": {
   "codemirror_mode": "text/x-kotlin",
   "file_extension": ".kt",
   "mimetype": "text/x-kotlin",
   "name": "kotlin",
   "pygments_lexer": "kotlin",
   "version": "1.4.30-dev-3354"
  }
 },
 "nbformat": 4,
 "nbformat_minor": 4
}
