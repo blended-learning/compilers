{
 "cells": [
  {
   "cell_type": "markdown",
   "metadata": {
    "cell_id": "14af1e80d9ec4abb99b0c47a75f85a9e",
    "editable": false
   },
   "source": [
    "# Assignment 3 - Syntax Directed Definition\n",
    "\n",
    "In this assignment, you are given a grammar `mygrammar/Expr.g4`.  The grammar is a calculator that supports symbol bindings and string operations.\n",
    "\n",
    "1. Make sure you understand the grammar.\n",
    "2. Use the provided Makefile to compile the grammar and generate all the necessary ANTLR classes.\n",
    "3. You must implement the SDD using ANTLR's visitor pattern by completing the two work units in this worksheet."
   ]
  },
  {
   "cell_type": "markdown",
   "metadata": {
    "cell_id": "c3af1668f8994ef98f734836d0fb9829",
    "editable": false,
    "lambdacheck": {
     "layout": {
      "column_offset": 0,
      "column_span": 4,
      "row_span": 10
     }
    }
   },
   "source": [
    "Load the dependencies."
   ]
  },
  {
   "cell_type": "code",
   "execution_count": null,
   "metadata": {
    "cell_id": "b6bcc71629444b228cce201d924d635f",
    "editable": false,
    "lambdacheck": {
     "layout": {
      "column_offset": 4,
      "column_span": 8
     }
    }
   },
   "outputs": [],
   "source": [
    "@file:DependsOn(\"/data/shared/antlr-4.9.1-complete.jar\")\n",
    "@file:DependsOn(\".\")"
   ]
  },
  {
   "cell_type": "markdown",
   "metadata": {
    "cell_id": "6202eef24c10400a891efd7b158c1904",
    "editable": false,
    "lambdacheck": {
     "layout": {
      "column_offset": 0,
      "column_span": 4,
      "row_span": 10
     }
    }
   },
   "source": [
    "Import the classes"
   ]
  },
  {
   "cell_type": "code",
   "execution_count": null,
   "metadata": {
    "cell_id": "58771ce001444df48980580197417b1f",
    "editable": false,
    "lambdacheck": {
     "layout": {
      "column_offset": 4,
      "column_span": 8
     }
    }
   },
   "outputs": [],
   "source": [
    "import org.antlr.v4.runtime.*\n",
    "import mygrammar.*"
   ]
  },
  {
   "cell_type": "markdown",
   "metadata": {
    "cell_id": "db0e605fdd434f068fb1cc7d8d41487a",
    "lambdacheck": {
     "layout": {
      "column_offset": 0,
      "column_span": 12
     },
     "workunit": {
      "id": "db0e605fdd434f068fb1cc7d8d41487a",
      "type": "title"
     }
    }
   },
   "source": [
    "## Work Unit 1"
   ]
  },
  {
   "cell_type": "markdown",
   "metadata": {
    "cell_id": "e72a9c87259642299638d960b126adec",
    "editable": false,
    "lambdacheck": {
     "layout": {
      "column_offset": 0,
      "column_span": 4,
      "row_span": 2
     },
     "workunit": {
      "id": "db0e605fdd434f068fb1cc7d8d41487a",
      "type": "text"
     }
    }
   },
   "source": [
    "Declare one or more classes to encapsulate data representation.\n",
    "\n",
    "You must have a data class that supports the storage and `toString` rendering of data values."
   ]
  },
  {
   "cell_type": "code",
   "execution_count": null,
   "metadata": {
    "cell_id": "0805043e3621447783e9b8fd30501517",
    "lambdacheck": {
     "layout": {
      "column_offset": 4,
      "column_span": 8
     },
     "workunit": {
      "id": "db0e605fdd434f068fb1cc7d8d41487a",
      "type": "student-solution"
     }
    }
   },
   "outputs": [],
   "source": [
    "//\n",
    "// Build one or many classes to implement the `Data` class\n",
    "//\n",
    "\n",
    "class Data"
   ]
  },
  {
   "cell_type": "code",
   "execution_count": null,
   "metadata": {
    "cell_id": "737dff4803a943508da5a7cb38cdd2ac",
    "editable": false,
    "lambdacheck": {
     "check": {
      "_check_id": "737dff4803a943508da5a7cb38cdd2ac",
      "_immediate": true,
      "_name": "",
      "result.text/plain": true
     },
     "outputs": [
      {
       "data": {
        "text/plain": "None"
       },
       "metadata": {
        "new_classpath": []
       },
       "output_type": "execute_result"
      }
     ]
    }
   },
   "outputs": [],
   "source": [
    "Data()"
   ]
  },
  {
   "cell_type": "code",
   "execution_count": null,
   "metadata": {
    "cell_id": "8baf04c5e8f04c5090d3f2889f31f2d8",
    "editable": false,
    "lambdacheck": {
     "check": {
      "_check_id": "8baf04c5e8f04c5090d3f2889f31f2d8",
      "_immediate": true,
      "_name": "",
      "result.text/plain": true
     },
     "outputs": [
      {
       "data": {
        "text/plain": "1.0"
       },
       "metadata": {
        "new_classpath": []
       },
       "output_type": "execute_result"
      }
     ]
    }
   },
   "outputs": [],
   "source": [
    "Data(1.0)"
   ]
  },
  {
   "cell_type": "code",
   "execution_count": null,
   "metadata": {
    "cell_id": "cdf266f184ff4a858a23ec9b4524a0d6",
    "editable": false,
    "lambdacheck": {
     "check": {
      "_check_id": "cdf266f184ff4a858a23ec9b4524a0d6",
      "_immediate": true,
      "_name": "",
      "result.text/plain": true
     },
     "outputs": [
      {
       "data": {
        "text/plain": "\"Hello World\""
       },
       "metadata": {
        "new_classpath": []
       },
       "output_type": "execute_result"
      }
     ]
    }
   },
   "outputs": [],
   "source": [
    "Data(\"Hello World\")"
   ]
  },
  {
   "cell_type": "markdown",
   "metadata": {
    "cell_id": "35a25a9af6be49998891a717814ccd0d",
    "lambdacheck": {
     "layout": {
      "column_offset": 0,
      "column_span": 12
     },
     "workunit": {
      "id": "35a25a9af6be49998891a717814ccd0d",
      "type": "title"
     }
    }
   },
   "source": [
    "## Work Unit 2"
   ]
  },
  {
   "cell_type": "markdown",
   "metadata": {
    "cell_id": "08fa342d8442437a8350cb4f862fb793",
    "editable": false,
    "lambdacheck": {
     "layout": {
      "column_offset": 0,
      "column_span": 6,
      "row_span": 1
     },
     "workunit": {
      "id": "35a25a9af6be49998891a717814ccd0d",
      "type": "text"
     }
    }
   },
   "source": [
    "In this work unit, you are to implement the entire `Visitor` class\n",
    "by extending the `ExprBaseVisitor<Data>` class."
   ]
  },
  {
   "cell_type": "code",
   "execution_count": null,
   "metadata": {
    "cell_id": "cbc067b8bcb745d8860e2eb552151665",
    "lambdacheck": {
     "layout": {
      "column_offset": 0,
      "column_span": 12
     },
     "workunit": {
      "id": "35a25a9af6be49998891a717814ccd0d",
      "type": "student-solution"
     }
    }
   },
   "outputs": [],
   "source": [
    "class Visitor: ExprBaseVisitor<Data>() {\n",
    "    val scope = mutableMapOf<String, Data>()\n",
    "    override fun visitProgram(ctx: ExprParser.ProgramContext): Data \n",
    "    = Data()\n",
    "    \n",
    "    override fun visitAssignmentStatement(ctx: ExprParser.AssignmentStatementContext): Data {\n",
    "    }\n",
    "    \n",
    "    override fun visitExprStatement(ctx: ExprParser.ExprStatementContext): Data {\n",
    "    }\n",
    "    \n",
    "    override fun visitAssignment(ctx: ExprParser.AssignmentContext): Data {\n",
    "    }\n",
    "    \n",
    "    override fun visitAddExpr(ctx: ExprParser.AddExprContext): Data {\n",
    "    }\n",
    "    \n",
    "    override fun visitSubExpr(ctx: ExprParser.SubExprContext): Data {\n",
    "    }\n",
    "    \n",
    "    override fun visitMulExpr(ctx: ExprParser.MulExprContext): Data {\n",
    "    }\n",
    "    \n",
    "    override fun visitDivExpr(ctx: ExprParser.DivExprContext): Data {\n",
    "    }\n",
    "    \n",
    "    override fun visitParenExpr(ctx: ExprParser.ParenExprContext): Data {\n",
    "    }\n",
    "    \n",
    "    override fun visitValueExpr(ctx: ExprParser.ValueExprContext): Data {\n",
    "    }\n",
    "        \n",
    "    override fun visitNumericValue(ctx: ExprParser.NumericValueContext): Data {\n",
    "    }\n",
    "    \n",
    "    override fun visitStringValue(ctx: ExprParser.StringValueContext): Data {\n",
    "    }\n",
    "    \n",
    "    override fun visitIdValue(ctx: ExprParser.IdValueContext): Data {\n",
    "    }\n",
    "}"
   ]
  },
  {
   "cell_type": "markdown",
   "metadata": {
    "cell_id": "e131557d2c6b46e0816d3f38d111aca8",
    "editable": false,
    "lambdacheck": {
     "layout": {
      "column_offset": 0,
      "column_span": 4,
      "row_span": 10
     }
    }
   },
   "source": [
    "This function is provided to you to run the source code as provided."
   ]
  },
  {
   "cell_type": "code",
   "execution_count": null,
   "metadata": {
    "cell_id": "6d72f3e74727492686526f264b97ae87",
    "editable": false,
    "lambdacheck": {
     "layout": {
      "column_offset": 4,
      "column_span": 8
     }
    }
   },
   "outputs": [],
   "source": [
    "fun run(source: String) {\n",
    "    val input = CharStreams.fromString(source)\n",
    "    val lexer = ExprLexer(input)\n",
    "    val tokens = CommonTokenStream(lexer)\n",
    "    val parser = ExprParser(tokens)\n",
    "    \n",
    "    val tree = parser.program()\n",
    "    val data = Visitor().visit(tree)\n",
    "    \n",
    "    println(\"Program terminated with: \" + data)\n",
    "}"
   ]
  },
  {
   "cell_type": "code",
   "execution_count": null,
   "metadata": {
    "cell_id": "5779d9cc9c4c4870a72b589563c17520",
    "editable": false,
    "lambdacheck": {
     "check": {
      "_check_id": "5779d9cc9c4c4870a72b589563c17520",
      "_immediate": true,
      "_name": "",
      "display.text/plain": true,
      "output.stderr": true,
      "output.stdout": true,
      "result.text/plain": true
     },
     "outputs": [
      {
       "name": "stdout",
       "output_type": "stream",
       "text": "Program terminated with: 1.0\n"
      }
     ]
    }
   },
   "outputs": [],
   "source": [
    "run(\"1\")"
   ]
  },
  {
   "cell_type": "code",
   "execution_count": null,
   "metadata": {
    "cell_id": "4859eda9c43b410cbf7dd4ace5bfd472",
    "editable": false,
    "lambdacheck": {
     "check": {
      "_check_id": "4859eda9c43b410cbf7dd4ace5bfd472",
      "_immediate": true,
      "_name": "",
      "display.text/plain": true,
      "output.stderr": true,
      "output.stdout": true,
      "result.text/plain": true
     },
     "outputs": [
      {
       "name": "stdout",
       "output_type": "stream",
       "text": "Program terminated with: 3.0\n"
      }
     ]
    }
   },
   "outputs": [],
   "source": [
    "run(\"1+2\")"
   ]
  },
  {
   "cell_type": "code",
   "execution_count": null,
   "metadata": {
    "cell_id": "11d554d7e6064ca5a0458b70abab2497",
    "editable": false,
    "lambdacheck": {
     "check": {
      "_check_id": "11d554d7e6064ca5a0458b70abab2497",
      "_immediate": true,
      "_name": "",
      "display.text/plain": true,
      "output.stderr": true,
      "output.stdout": true,
      "result.text/plain": true
     },
     "outputs": [
      {
       "name": "stdout",
       "output_type": "stream",
       "text": "Program terminated with: 0.5\n"
      }
     ]
    }
   },
   "outputs": [],
   "source": [
    "run(\"1/2\")"
   ]
  },
  {
   "cell_type": "code",
   "execution_count": null,
   "metadata": {
    "cell_id": "b53c7f9301fe48348a9aa06c7bcce96a",
    "editable": false,
    "lambdacheck": {
     "check": {
      "_check_id": "b53c7f9301fe48348a9aa06c7bcce96a",
      "_immediate": true,
      "_name": "",
      "display.text/plain": true,
      "output.stderr": true,
      "output.stdout": true,
      "result.text/plain": true
     },
     "outputs": [
      {
       "name": "stdout",
       "output_type": "stream",
       "text": "Program terminated with: \"hello\"\n"
      }
     ]
    }
   },
   "outputs": [],
   "source": [
    "run(\"\"\"\n",
    "\"hello\"\n",
    "\"\"\")"
   ]
  },
  {
   "cell_type": "code",
   "execution_count": null,
   "metadata": {
    "cell_id": "9f15a8497b074dc68d54e30950c74e61",
    "editable": false,
    "lambdacheck": {
     "check": {
      "_check_id": "9f15a8497b074dc68d54e30950c74e61",
      "_immediate": true,
      "_name": "",
      "display.text/plain": true,
      "output.stderr": true,
      "output.stdout": true,
      "result.text/plain": true
     },
     "outputs": [
      {
       "name": "stdout",
       "output_type": "stream",
       "text": "Program terminated with: \"hello2.0\"\n"
      }
     ]
    }
   },
   "outputs": [],
   "source": [
    "run(\"\"\"\n",
    "\"hello\" + 2\n",
    "\"\"\")"
   ]
  },
  {
   "cell_type": "code",
   "execution_count": null,
   "metadata": {
    "cell_id": "f72a233690124b7cb5c81b05414e168e",
    "editable": false,
    "lambdacheck": {
     "check": {
      "_check_id": "f72a233690124b7cb5c81b05414e168e",
      "_immediate": true,
      "_name": "",
      "display.text/plain": true,
      "output.stderr": true,
      "output.stdout": true,
      "result.text/plain": true
     },
     "outputs": [
      {
       "name": "stdout",
       "output_type": "stream",
       "text": "Program terminated with: \"hellohello\"\n"
      }
     ]
    }
   },
   "outputs": [],
   "source": [
    "run(\"\"\"\n",
    "\"hello\" * 2\n",
    "\"\"\")"
   ]
  },
  {
   "cell_type": "code",
   "execution_count": null,
   "metadata": {
    "cell_id": "dc25b43473504eee8def392f80134fd7",
    "editable": false,
    "lambdacheck": {
     "check": {
      "_check_id": "dc25b43473504eee8def392f80134fd7",
      "_immediate": true,
      "_name": "",
      "display.text/plain": true,
      "output.stderr": true,
      "output.stdout": true,
      "result.text/plain": true
     },
     "outputs": [
      {
       "name": "stdout",
       "output_type": "stream",
       "text": "Program terminated with: \"helloworld\"\n"
      }
     ]
    }
   },
   "outputs": [],
   "source": [
    "run(\"\"\"\n",
    "\"hello\" + \"world\"\n",
    "\"\"\")"
   ]
  },
  {
   "cell_type": "code",
   "execution_count": null,
   "metadata": {
    "cell_id": "2a76da253f794b809ba3abeb78115c45",
    "editable": false,
    "lambdacheck": {
     "check": {
      "_check_id": "2a76da253f794b809ba3abeb78115c45",
      "_immediate": true,
      "_name": "",
      "display.text/plain": true,
      "output.stderr": true,
      "output.stdout": true,
      "result.text/plain": true
     },
     "outputs": [
      {
       "name": "stdout",
       "output_type": "stream",
       "text": "Program terminated with: \"hello world\"\n"
      }
     ]
    }
   },
   "outputs": [],
   "source": [
    "run(\"\"\"\n",
    "\"hello\" + \" \" + \"world\"\n",
    "\"\"\")"
   ]
  },
  {
   "cell_type": "code",
   "execution_count": null,
   "metadata": {
    "cell_id": "c4906e5c488346aba1687709c5ef5a41",
    "editable": false,
    "lambdacheck": {
     "check": {
      "_check_id": "c4906e5c488346aba1687709c5ef5a41",
      "_immediate": true,
      "_name": "",
      "display.text/plain": true,
      "output.stderr": true,
      "output.stdout": true,
      "result.text/plain": true
     },
     "outputs": [
      {
       "name": "stdout",
       "output_type": "stream",
       "text": "Program terminated with: 122.0\n"
      }
     ]
    }
   },
   "outputs": [],
   "source": [
    "run(\"\"\"\n",
    "let x = 122\n",
    "\"\"\")"
   ]
  },
  {
   "cell_type": "code",
   "execution_count": null,
   "metadata": {
    "cell_id": "53691284bc2a4cb69f601c3e7a222aad",
    "editable": false,
    "lambdacheck": {
     "check": {
      "_check_id": "53691284bc2a4cb69f601c3e7a222aad",
      "_immediate": true,
      "_name": "",
      "display.text/plain": true,
      "output.stderr": true,
      "output.stdout": true,
      "result.text/plain": true
     },
     "outputs": [
      {
       "name": "stdout",
       "output_type": "stream",
       "text": "Program terminated with: \"Hello\"\n"
      }
     ]
    }
   },
   "outputs": [],
   "source": [
    "run(\"\"\"\n",
    "let x = \"Hello\"\n",
    "\"\"\")"
   ]
  },
  {
   "cell_type": "code",
   "execution_count": null,
   "metadata": {
    "cell_id": "2ed202b0fb3b48bbb0a9d77807727e12",
    "editable": false,
    "lambdacheck": {
     "check": {
      "_check_id": "2ed202b0fb3b48bbb0a9d77807727e12",
      "_immediate": true,
      "_name": "",
      "display.text/plain": true,
      "output.stderr": true,
      "output.stdout": true,
      "result.text/plain": true
     },
     "outputs": [
      {
       "name": "stdout",
       "output_type": "stream",
       "text": "Program terminated with: \"area is 19.625\"\n"
      }
     ]
    }
   },
   "outputs": [],
   "source": [
    "run(\"\"\"\n",
    "let pi = 3.14\n",
    "let radius = 2.5\n",
    "let area = pi * radius * radius\n",
    "\n",
    "\"area is \" + area\n",
    "\"\"\")"
   ]
  },
  {
   "cell_type": "code",
   "execution_count": null,
   "metadata": {
    "cell_id": "6bcfa63c78ad440083c49498863822d7",
    "editable": false,
    "lambdacheck": {
     "check": {
      "_check_id": "6bcfa63c78ad440083c49498863822d7",
      "_immediate": true,
      "_name": "",
      "display.text/plain": true,
      "output.stderr": true,
      "output.stdout": true,
      "result.text/plain": true
     },
     "outputs": [
      {
       "name": "stdout",
       "output_type": "stream",
       "text": "Program terminated with: \"123.0(x)\"\n"
      }
     ]
    }
   },
   "outputs": [],
   "source": [
    "run(\"\"\"\n",
    "let x = 123\n",
    "let y = \"(x)\"\n",
    "x + y\n",
    "\"\"\")"
   ]
  },
  {
   "cell_type": "code",
   "execution_count": null,
   "metadata": {
    "cell_id": "3d97d2a554914ef285b1c17c44b00a62",
    "editable": false,
    "lambdacheck": {
     "check": {
      "_check_id": "3d97d2a554914ef285b1c17c44b00a62",
      "_immediate": true,
      "_name": "",
      "display.text/plain": true,
      "output.stderr": true,
      "output.stdout": true,
      "result.text/plain": true
     },
     "outputs": [
      {
       "name": "stdout",
       "output_type": "stream",
       "text": "Program terminated with: \"(x)123.0,(x)123.0,(x)123.0,(x)123.0,\"\n"
      }
     ]
    }
   },
   "outputs": [],
   "source": [
    "run(\"\"\"\n",
    "let x = 123\n",
    "let y = \"(x)\"\n",
    "(y+x+\",\")*4\n",
    "\"\"\")"
   ]
  }
 ],
 "metadata": {
  "celltoolbar": "λ.check",
  "kernelspec": {
   "display_name": "Kotlin",
   "language": "kotlin",
   "name": "kotlin"
  },
  "lambdacheck": {
   "worksheet": true
  },
  "language_info": {
   "codemirror_mode": "text/x-kotlin",
   "file_extension": ".kt",
   "mimetype": "text/x-kotlin",
   "name": "kotlin",
   "pygments_lexer": "kotlin",
   "version": "1.4.30-dev-3354"
  }
 },
 "nbformat": 4,
 "nbformat_minor": 4
}
